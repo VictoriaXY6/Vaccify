{
 "cells": [
  {
   "cell_type": "code",
   "execution_count": 209,
   "metadata": {},
   "outputs": [],
   "source": [
    "import plotly.express as px\n",
    "import jupyter_dash\n",
    "import dash_core_components as dcc\n",
    "import dash_html_components as html\n",
    "import plotly.graph_objects as go\n",
    "import pandas as pd\n",
    "from dash.dependencies import Input, Output"
   ]
  },
  {
   "cell_type": "code",
   "execution_count": 210,
   "metadata": {},
   "outputs": [],
   "source": [
    "external_stylesheets = ['https://codepen.io/chriddyp/pen/bWLwgP.css']"
   ]
  },
  {
   "cell_type": "code",
   "execution_count": 211,
   "metadata": {},
   "outputs": [],
   "source": [
    "#declare app \n",
    "app = jupyter_dash.JupyterDash(__name__, external_stylesheets=external_stylesheets)"
   ]
  },
  {
   "cell_type": "code",
   "execution_count": 212,
   "metadata": {},
   "outputs": [],
   "source": [
    "#create data frames from CSV \n",
    "df = pd.read_csv('covid_data/country_vaccinations.csv')\n",
    "df1 = pd.read_csv('covid_data/country_vaccinations_by_manufacturer.csv') "
   ]
  },
  {
   "cell_type": "code",
   "execution_count": 213,
   "metadata": {},
   "outputs": [
    {
     "data": {
      "text/html": [
       "<div>\n",
       "<style scoped>\n",
       "    .dataframe tbody tr th:only-of-type {\n",
       "        vertical-align: middle;\n",
       "    }\n",
       "\n",
       "    .dataframe tbody tr th {\n",
       "        vertical-align: top;\n",
       "    }\n",
       "\n",
       "    .dataframe thead th {\n",
       "        text-align: right;\n",
       "    }\n",
       "</style>\n",
       "<table border=\"1\" class=\"dataframe\">\n",
       "  <thead>\n",
       "    <tr style=\"text-align: right;\">\n",
       "      <th></th>\n",
       "      <th>location</th>\n",
       "      <th>vaccine</th>\n",
       "      <th>total_vaccinations</th>\n",
       "    </tr>\n",
       "  </thead>\n",
       "  <tbody>\n",
       "    <tr>\n",
       "      <th>0</th>\n",
       "      <td>Chile</td>\n",
       "      <td>Pfizer/BioNTech</td>\n",
       "      <td>80555807</td>\n",
       "    </tr>\n",
       "    <tr>\n",
       "      <th>1</th>\n",
       "      <td>Chile</td>\n",
       "      <td>Sinovac</td>\n",
       "      <td>643278800</td>\n",
       "    </tr>\n",
       "    <tr>\n",
       "      <th>2</th>\n",
       "      <td>Czechia</td>\n",
       "      <td>Johnson&amp;Johnson</td>\n",
       "      <td>56899</td>\n",
       "    </tr>\n",
       "    <tr>\n",
       "      <th>3</th>\n",
       "      <td>Czechia</td>\n",
       "      <td>Moderna</td>\n",
       "      <td>12979313</td>\n",
       "    </tr>\n",
       "    <tr>\n",
       "      <th>4</th>\n",
       "      <td>Czechia</td>\n",
       "      <td>Oxford/AstraZeneca</td>\n",
       "      <td>15364645</td>\n",
       "    </tr>\n",
       "    <tr>\n",
       "      <th>5</th>\n",
       "      <td>Czechia</td>\n",
       "      <td>Pfizer/BioNTech</td>\n",
       "      <td>114062982</td>\n",
       "    </tr>\n",
       "    <tr>\n",
       "      <th>6</th>\n",
       "      <td>France</td>\n",
       "      <td>Johnson&amp;Johnson</td>\n",
       "      <td>407106</td>\n",
       "    </tr>\n",
       "    <tr>\n",
       "      <th>7</th>\n",
       "      <td>France</td>\n",
       "      <td>Moderna</td>\n",
       "      <td>63456652</td>\n",
       "    </tr>\n",
       "    <tr>\n",
       "      <th>8</th>\n",
       "      <td>France</td>\n",
       "      <td>Oxford/AstraZeneca</td>\n",
       "      <td>157591330</td>\n",
       "    </tr>\n",
       "    <tr>\n",
       "      <th>9</th>\n",
       "      <td>France</td>\n",
       "      <td>Pfizer/BioNTech</td>\n",
       "      <td>724166180</td>\n",
       "    </tr>\n",
       "    <tr>\n",
       "      <th>10</th>\n",
       "      <td>Germany</td>\n",
       "      <td>Johnson&amp;Johnson</td>\n",
       "      <td>48158</td>\n",
       "    </tr>\n",
       "    <tr>\n",
       "      <th>11</th>\n",
       "      <td>Germany</td>\n",
       "      <td>Moderna</td>\n",
       "      <td>60923596</td>\n",
       "    </tr>\n",
       "    <tr>\n",
       "      <th>12</th>\n",
       "      <td>Germany</td>\n",
       "      <td>Oxford/AstraZeneca</td>\n",
       "      <td>221313843</td>\n",
       "    </tr>\n",
       "    <tr>\n",
       "      <th>13</th>\n",
       "      <td>Germany</td>\n",
       "      <td>Pfizer/BioNTech</td>\n",
       "      <td>981695376</td>\n",
       "    </tr>\n",
       "    <tr>\n",
       "      <th>14</th>\n",
       "      <td>Iceland</td>\n",
       "      <td>Johnson&amp;Johnson</td>\n",
       "      <td>10184</td>\n",
       "    </tr>\n",
       "    <tr>\n",
       "      <th>15</th>\n",
       "      <td>Iceland</td>\n",
       "      <td>Moderna</td>\n",
       "      <td>584142</td>\n",
       "    </tr>\n",
       "    <tr>\n",
       "      <th>16</th>\n",
       "      <td>Iceland</td>\n",
       "      <td>Oxford/AstraZeneca</td>\n",
       "      <td>1294084</td>\n",
       "    </tr>\n",
       "    <tr>\n",
       "      <th>17</th>\n",
       "      <td>Iceland</td>\n",
       "      <td>Pfizer/BioNTech</td>\n",
       "      <td>4421948</td>\n",
       "    </tr>\n",
       "    <tr>\n",
       "      <th>18</th>\n",
       "      <td>Italy</td>\n",
       "      <td>Johnson&amp;Johnson</td>\n",
       "      <td>705062</td>\n",
       "    </tr>\n",
       "    <tr>\n",
       "      <th>19</th>\n",
       "      <td>Italy</td>\n",
       "      <td>Moderna</td>\n",
       "      <td>49832187</td>\n",
       "    </tr>\n",
       "    <tr>\n",
       "      <th>20</th>\n",
       "      <td>Italy</td>\n",
       "      <td>Oxford/AstraZeneca</td>\n",
       "      <td>153701947</td>\n",
       "    </tr>\n",
       "    <tr>\n",
       "      <th>21</th>\n",
       "      <td>Italy</td>\n",
       "      <td>Pfizer/BioNTech</td>\n",
       "      <td>692229819</td>\n",
       "    </tr>\n",
       "    <tr>\n",
       "      <th>22</th>\n",
       "      <td>Latvia</td>\n",
       "      <td>Johnson&amp;Johnson</td>\n",
       "      <td>1275</td>\n",
       "    </tr>\n",
       "    <tr>\n",
       "      <th>23</th>\n",
       "      <td>Latvia</td>\n",
       "      <td>Moderna</td>\n",
       "      <td>1945494</td>\n",
       "    </tr>\n",
       "    <tr>\n",
       "      <th>24</th>\n",
       "      <td>Latvia</td>\n",
       "      <td>Oxford/AstraZeneca</td>\n",
       "      <td>5997087</td>\n",
       "    </tr>\n",
       "    <tr>\n",
       "      <th>25</th>\n",
       "      <td>Latvia</td>\n",
       "      <td>Pfizer/BioNTech</td>\n",
       "      <td>3898921</td>\n",
       "    </tr>\n",
       "    <tr>\n",
       "      <th>26</th>\n",
       "      <td>Lithuania</td>\n",
       "      <td>Johnson&amp;Johnson</td>\n",
       "      <td>1297</td>\n",
       "    </tr>\n",
       "    <tr>\n",
       "      <th>27</th>\n",
       "      <td>Lithuania</td>\n",
       "      <td>Moderna</td>\n",
       "      <td>2976732</td>\n",
       "    </tr>\n",
       "    <tr>\n",
       "      <th>28</th>\n",
       "      <td>Lithuania</td>\n",
       "      <td>Oxford/AstraZeneca</td>\n",
       "      <td>8648594</td>\n",
       "    </tr>\n",
       "    <tr>\n",
       "      <th>29</th>\n",
       "      <td>Lithuania</td>\n",
       "      <td>Pfizer/BioNTech</td>\n",
       "      <td>32644120</td>\n",
       "    </tr>\n",
       "    <tr>\n",
       "      <th>30</th>\n",
       "      <td>Romania</td>\n",
       "      <td>Johnson&amp;Johnson</td>\n",
       "      <td>312</td>\n",
       "    </tr>\n",
       "    <tr>\n",
       "      <th>31</th>\n",
       "      <td>Romania</td>\n",
       "      <td>Moderna</td>\n",
       "      <td>17727106</td>\n",
       "    </tr>\n",
       "    <tr>\n",
       "      <th>32</th>\n",
       "      <td>Romania</td>\n",
       "      <td>Oxford/AstraZeneca</td>\n",
       "      <td>25150452</td>\n",
       "    </tr>\n",
       "    <tr>\n",
       "      <th>33</th>\n",
       "      <td>Romania</td>\n",
       "      <td>Pfizer/BioNTech</td>\n",
       "      <td>217240145</td>\n",
       "    </tr>\n",
       "    <tr>\n",
       "      <th>34</th>\n",
       "      <td>United States</td>\n",
       "      <td>Johnson&amp;Johnson</td>\n",
       "      <td>289606447</td>\n",
       "    </tr>\n",
       "    <tr>\n",
       "      <th>35</th>\n",
       "      <td>United States</td>\n",
       "      <td>Moderna</td>\n",
       "      <td>5680336220</td>\n",
       "    </tr>\n",
       "    <tr>\n",
       "      <th>36</th>\n",
       "      <td>United States</td>\n",
       "      <td>Pfizer/BioNTech</td>\n",
       "      <td>6438814160</td>\n",
       "    </tr>\n",
       "  </tbody>\n",
       "</table>\n",
       "</div>"
      ],
      "text/plain": [
       "         location             vaccine  total_vaccinations\n",
       "0           Chile     Pfizer/BioNTech            80555807\n",
       "1           Chile             Sinovac           643278800\n",
       "2         Czechia     Johnson&Johnson               56899\n",
       "3         Czechia             Moderna            12979313\n",
       "4         Czechia  Oxford/AstraZeneca            15364645\n",
       "5         Czechia     Pfizer/BioNTech           114062982\n",
       "6          France     Johnson&Johnson              407106\n",
       "7          France             Moderna            63456652\n",
       "8          France  Oxford/AstraZeneca           157591330\n",
       "9          France     Pfizer/BioNTech           724166180\n",
       "10        Germany     Johnson&Johnson               48158\n",
       "11        Germany             Moderna            60923596\n",
       "12        Germany  Oxford/AstraZeneca           221313843\n",
       "13        Germany     Pfizer/BioNTech           981695376\n",
       "14        Iceland     Johnson&Johnson               10184\n",
       "15        Iceland             Moderna              584142\n",
       "16        Iceland  Oxford/AstraZeneca             1294084\n",
       "17        Iceland     Pfizer/BioNTech             4421948\n",
       "18          Italy     Johnson&Johnson              705062\n",
       "19          Italy             Moderna            49832187\n",
       "20          Italy  Oxford/AstraZeneca           153701947\n",
       "21          Italy     Pfizer/BioNTech           692229819\n",
       "22         Latvia     Johnson&Johnson                1275\n",
       "23         Latvia             Moderna             1945494\n",
       "24         Latvia  Oxford/AstraZeneca             5997087\n",
       "25         Latvia     Pfizer/BioNTech             3898921\n",
       "26      Lithuania     Johnson&Johnson                1297\n",
       "27      Lithuania             Moderna             2976732\n",
       "28      Lithuania  Oxford/AstraZeneca             8648594\n",
       "29      Lithuania     Pfizer/BioNTech            32644120\n",
       "30        Romania     Johnson&Johnson                 312\n",
       "31        Romania             Moderna            17727106\n",
       "32        Romania  Oxford/AstraZeneca            25150452\n",
       "33        Romania     Pfizer/BioNTech           217240145\n",
       "34  United States     Johnson&Johnson           289606447\n",
       "35  United States             Moderna          5680336220\n",
       "36  United States     Pfizer/BioNTech          6438814160"
      ]
     },
     "execution_count": 213,
     "metadata": {},
     "output_type": "execute_result"
    }
   ],
   "source": [
    "#create new data frame with total counts for each vaccine in each country\n",
    "vax_countries = df1.groupby(['location', 'vaccine'])['total_vaccinations'].sum().reset_index()\n",
    "vax_countries"
   ]
  },
  {
   "cell_type": "code",
   "execution_count": 214,
   "metadata": {},
   "outputs": [],
   "source": [
    "#vaccination map figure\n",
    "map_fig = px.scatter_geo(df, \n",
    "                         locations = 'iso_code', \n",
    "                         projection = 'orthographic',\n",
    "                         color = 'country',\n",
    "                        opacity = .8, \n",
    "                        hover_name = 'country', \n",
    "                        hover_data = ['total_vaccinations', 'vaccines'])"
   ]
  },
  {
   "cell_type": "code",
   "execution_count": 215,
   "metadata": {},
   "outputs": [],
   "source": [
    "#dataframe for total vaccinated bar graph \n",
    "total_country_vax = df[[\"country\", \"total_vaccinations\"]]\n",
    "total_country_vax = total_country_vax.groupby(['country']).max()"
   ]
  },
  {
   "cell_type": "code",
   "execution_count": 216,
   "metadata": {},
   "outputs": [
    {
     "data": {
      "application/vnd.plotly.v1+json": {
       "config": {
        "plotlyServerURL": "https://plot.ly"
       },
       "data": [
        {
         "name": "Total Vaccinations by Country",
         "type": "bar",
         "x": [
          "Afghanistan",
          "Albania",
          "Algeria",
          "Andorra",
          "Angola",
          "Anguilla",
          "Antigua and Barbuda",
          "Argentina",
          "Armenia",
          "Aruba",
          "Australia",
          "Austria",
          "Azerbaijan",
          "Bahamas",
          "Bahrain",
          "Bangladesh",
          "Barbados",
          "Belarus",
          "Belgium",
          "Belize",
          "Bermuda",
          "Bhutan",
          "Bolivia",
          "Bosnia and Herzegovina",
          "Botswana",
          "Brazil",
          "Brunei",
          "Bulgaria",
          "Cambodia",
          "Cameroon",
          "Canada",
          "Cape Verde",
          "Cayman Islands",
          "Chile",
          "China",
          "Colombia",
          "Congo",
          "Costa Rica",
          "Cote d'Ivoire",
          "Croatia",
          "Curacao",
          "Cyprus",
          "Czechia",
          "Democratic Republic of Congo",
          "Denmark",
          "Djibouti",
          "Dominica",
          "Dominican Republic",
          "Ecuador",
          "Egypt",
          "El Salvador",
          "England",
          "Equatorial Guinea",
          "Estonia",
          "Eswatini",
          "Ethiopia",
          "Faeroe Islands",
          "Falkland Islands",
          "Fiji",
          "Finland",
          "France",
          "Gabon",
          "Gambia",
          "Georgia",
          "Germany",
          "Ghana",
          "Gibraltar",
          "Greece",
          "Greenland",
          "Grenada",
          "Guatemala",
          "Guernsey",
          "Guinea",
          "Guyana",
          "Honduras",
          "Hong Kong",
          "Hungary",
          "Iceland",
          "India",
          "Indonesia",
          "Iran",
          "Iraq",
          "Ireland",
          "Isle of Man",
          "Israel",
          "Italy",
          "Jamaica",
          "Japan",
          "Jersey",
          "Jordan",
          "Kazakhstan",
          "Kenya",
          "Kosovo",
          "Kuwait",
          "Kyrgyzstan",
          "Laos",
          "Latvia",
          "Lebanon",
          "Lesotho",
          "Libya",
          "Liechtenstein",
          "Lithuania",
          "Luxembourg",
          "Macao",
          "Malawi",
          "Malaysia",
          "Maldives",
          "Mali",
          "Malta",
          "Mauritania",
          "Mauritius",
          "Mexico",
          "Moldova",
          "Monaco",
          "Mongolia",
          "Montenegro",
          "Montserrat",
          "Morocco",
          "Mozambique",
          "Myanmar",
          "Namibia",
          "Nauru",
          "Nepal",
          "Netherlands",
          "New Zealand",
          "Nicaragua",
          "Niger",
          "Nigeria",
          "North Macedonia",
          "Northern Cyprus",
          "Northern Ireland",
          "Norway",
          "Oman",
          "Pakistan",
          "Palestine",
          "Panama",
          "Papua New Guinea",
          "Paraguay",
          "Peru",
          "Philippines",
          "Poland",
          "Portugal",
          "Qatar",
          "Romania",
          "Russia",
          "Rwanda",
          "Saint Helena",
          "Saint Kitts and Nevis",
          "Saint Lucia",
          "Saint Vincent and the Grenadines",
          "Samoa",
          "San Marino",
          "Sao Tome and Principe",
          "Saudi Arabia",
          "Scotland",
          "Senegal",
          "Serbia",
          "Seychelles",
          "Sierra Leone",
          "Singapore",
          "Slovakia",
          "Slovenia",
          "Solomon Islands",
          "Somalia",
          "South Africa",
          "South Korea",
          "South Sudan",
          "Spain",
          "Sri Lanka",
          "Sudan",
          "Suriname",
          "Sweden",
          "Switzerland",
          "Syria",
          "Taiwan",
          "Thailand",
          "Timor",
          "Togo",
          "Tonga",
          "Trinidad and Tobago",
          "Tunisia",
          "Turkey",
          "Turks and Caicos Islands",
          "Uganda",
          "Ukraine",
          "United Arab Emirates",
          "United Kingdom",
          "United States",
          "Uruguay",
          "Uzbekistan",
          "Venezuela",
          "Vietnam",
          "Wales",
          "Zambia",
          "Zimbabwe"
         ],
         "y": [
          240000,
          556584,
          75000,
          28881,
          456349,
          6898,
          29754,
          8391513,
          565,
          78983,
          2396314,
          3362892,
          1566106,
          25692,
          1318506,
          9030320,
          75006,
          328500,
          4199590,
          44548,
          55904,
          480818,
          878563,
          106464,
          49882,
          45671672,
          10715,
          877124,
          2608983,
          400,
          14568067,
          2184,
          65694,
          15132910,
          289627000,
          5220330,
          14297,
          950252,
          183301,
          979181,
          105720,
          287816,
          3423789,
          1700,
          2155301,
          10246,
          27821,
          2123703,
          1141262,
          660000,
          991133,
          42408492,
          75518,
          492520,
          34897,
          1215934,
          20238,
          4407,
          56000,
          1990774,
          23404537,
          8897,
          20922,
          45338,
          32596999,
          849527,
          71114,
          3309788,
          14177,
          15397,
          176102,
          46587,
          145763,
          126800,
          57639,
          1593570,
          6468466,
          157230,
          159931238,
          20701804,
          1314641,
          298377,
          1655866,
          75005,
          10482925,
          22112154,
          135473,
          3836845,
          85101,
          1091048,
          2025911,
          853081,
          22096,
          1367000,
          27858,
          184387,
          341444,
          500984,
          16000,
          750,
          12998,
          1072671,
          213236,
          110952,
          296127,
          1500202,
          412636,
          49903,
          352421,
          7038,
          117323,
          19340234,
          160476,
          24390,
          1756434,
          85316,
          1909,
          9558639,
          57305,
          1040000,
          20005,
          700,
          2091511,
          5651843,
          304900,
          135130,
          1366,
          1246845,
          74076,
          109490,
          1397087,
          1847728,
          315691,
          2967870,
          213989,
          706271,
          2900,
          143441,
          1856964,
          2129185,
          12225861,
          3584684,
          1701914,
          5588267,
          20720147,
          350310,
          4572,
          13070,
          24653,
          14526,
          7435,
          30964,
          9724,
          9924369,
          4220716,
          416956,
          3526876,
          127721,
          61107,
          2213888,
          1714749,
          677844,
          4890,
          117567,
          353181,
          3883829,
          947,
          17916566,
          1069828,
          140227,
          41287,
          3485725,
          2791978,
          2500,
          73988,
          1601833,
          2629,
          160000,
          5367,
          55547,
          424485,
          24103883,
          25039,
          341819,
          784229,
          10834453,
          50682567,
          249566820,
          1936637,
          600369,
          250000,
          585539,
          2656272,
          58982,
          559777
         ]
        }
       ],
       "layout": {
        "template": {
         "data": {
          "bar": [
           {
            "error_x": {
             "color": "#2a3f5f"
            },
            "error_y": {
             "color": "#2a3f5f"
            },
            "marker": {
             "line": {
              "color": "#E5ECF6",
              "width": 0.5
             }
            },
            "type": "bar"
           }
          ],
          "barpolar": [
           {
            "marker": {
             "line": {
              "color": "#E5ECF6",
              "width": 0.5
             }
            },
            "type": "barpolar"
           }
          ],
          "carpet": [
           {
            "aaxis": {
             "endlinecolor": "#2a3f5f",
             "gridcolor": "white",
             "linecolor": "white",
             "minorgridcolor": "white",
             "startlinecolor": "#2a3f5f"
            },
            "baxis": {
             "endlinecolor": "#2a3f5f",
             "gridcolor": "white",
             "linecolor": "white",
             "minorgridcolor": "white",
             "startlinecolor": "#2a3f5f"
            },
            "type": "carpet"
           }
          ],
          "choropleth": [
           {
            "colorbar": {
             "outlinewidth": 0,
             "ticks": ""
            },
            "type": "choropleth"
           }
          ],
          "contour": [
           {
            "colorbar": {
             "outlinewidth": 0,
             "ticks": ""
            },
            "colorscale": [
             [
              0,
              "#0d0887"
             ],
             [
              0.1111111111111111,
              "#46039f"
             ],
             [
              0.2222222222222222,
              "#7201a8"
             ],
             [
              0.3333333333333333,
              "#9c179e"
             ],
             [
              0.4444444444444444,
              "#bd3786"
             ],
             [
              0.5555555555555556,
              "#d8576b"
             ],
             [
              0.6666666666666666,
              "#ed7953"
             ],
             [
              0.7777777777777778,
              "#fb9f3a"
             ],
             [
              0.8888888888888888,
              "#fdca26"
             ],
             [
              1,
              "#f0f921"
             ]
            ],
            "type": "contour"
           }
          ],
          "contourcarpet": [
           {
            "colorbar": {
             "outlinewidth": 0,
             "ticks": ""
            },
            "type": "contourcarpet"
           }
          ],
          "heatmap": [
           {
            "colorbar": {
             "outlinewidth": 0,
             "ticks": ""
            },
            "colorscale": [
             [
              0,
              "#0d0887"
             ],
             [
              0.1111111111111111,
              "#46039f"
             ],
             [
              0.2222222222222222,
              "#7201a8"
             ],
             [
              0.3333333333333333,
              "#9c179e"
             ],
             [
              0.4444444444444444,
              "#bd3786"
             ],
             [
              0.5555555555555556,
              "#d8576b"
             ],
             [
              0.6666666666666666,
              "#ed7953"
             ],
             [
              0.7777777777777778,
              "#fb9f3a"
             ],
             [
              0.8888888888888888,
              "#fdca26"
             ],
             [
              1,
              "#f0f921"
             ]
            ],
            "type": "heatmap"
           }
          ],
          "heatmapgl": [
           {
            "colorbar": {
             "outlinewidth": 0,
             "ticks": ""
            },
            "colorscale": [
             [
              0,
              "#0d0887"
             ],
             [
              0.1111111111111111,
              "#46039f"
             ],
             [
              0.2222222222222222,
              "#7201a8"
             ],
             [
              0.3333333333333333,
              "#9c179e"
             ],
             [
              0.4444444444444444,
              "#bd3786"
             ],
             [
              0.5555555555555556,
              "#d8576b"
             ],
             [
              0.6666666666666666,
              "#ed7953"
             ],
             [
              0.7777777777777778,
              "#fb9f3a"
             ],
             [
              0.8888888888888888,
              "#fdca26"
             ],
             [
              1,
              "#f0f921"
             ]
            ],
            "type": "heatmapgl"
           }
          ],
          "histogram": [
           {
            "marker": {
             "colorbar": {
              "outlinewidth": 0,
              "ticks": ""
             }
            },
            "type": "histogram"
           }
          ],
          "histogram2d": [
           {
            "colorbar": {
             "outlinewidth": 0,
             "ticks": ""
            },
            "colorscale": [
             [
              0,
              "#0d0887"
             ],
             [
              0.1111111111111111,
              "#46039f"
             ],
             [
              0.2222222222222222,
              "#7201a8"
             ],
             [
              0.3333333333333333,
              "#9c179e"
             ],
             [
              0.4444444444444444,
              "#bd3786"
             ],
             [
              0.5555555555555556,
              "#d8576b"
             ],
             [
              0.6666666666666666,
              "#ed7953"
             ],
             [
              0.7777777777777778,
              "#fb9f3a"
             ],
             [
              0.8888888888888888,
              "#fdca26"
             ],
             [
              1,
              "#f0f921"
             ]
            ],
            "type": "histogram2d"
           }
          ],
          "histogram2dcontour": [
           {
            "colorbar": {
             "outlinewidth": 0,
             "ticks": ""
            },
            "colorscale": [
             [
              0,
              "#0d0887"
             ],
             [
              0.1111111111111111,
              "#46039f"
             ],
             [
              0.2222222222222222,
              "#7201a8"
             ],
             [
              0.3333333333333333,
              "#9c179e"
             ],
             [
              0.4444444444444444,
              "#bd3786"
             ],
             [
              0.5555555555555556,
              "#d8576b"
             ],
             [
              0.6666666666666666,
              "#ed7953"
             ],
             [
              0.7777777777777778,
              "#fb9f3a"
             ],
             [
              0.8888888888888888,
              "#fdca26"
             ],
             [
              1,
              "#f0f921"
             ]
            ],
            "type": "histogram2dcontour"
           }
          ],
          "mesh3d": [
           {
            "colorbar": {
             "outlinewidth": 0,
             "ticks": ""
            },
            "type": "mesh3d"
           }
          ],
          "parcoords": [
           {
            "line": {
             "colorbar": {
              "outlinewidth": 0,
              "ticks": ""
             }
            },
            "type": "parcoords"
           }
          ],
          "pie": [
           {
            "automargin": true,
            "type": "pie"
           }
          ],
          "scatter": [
           {
            "marker": {
             "colorbar": {
              "outlinewidth": 0,
              "ticks": ""
             }
            },
            "type": "scatter"
           }
          ],
          "scatter3d": [
           {
            "line": {
             "colorbar": {
              "outlinewidth": 0,
              "ticks": ""
             }
            },
            "marker": {
             "colorbar": {
              "outlinewidth": 0,
              "ticks": ""
             }
            },
            "type": "scatter3d"
           }
          ],
          "scattercarpet": [
           {
            "marker": {
             "colorbar": {
              "outlinewidth": 0,
              "ticks": ""
             }
            },
            "type": "scattercarpet"
           }
          ],
          "scattergeo": [
           {
            "marker": {
             "colorbar": {
              "outlinewidth": 0,
              "ticks": ""
             }
            },
            "type": "scattergeo"
           }
          ],
          "scattergl": [
           {
            "marker": {
             "colorbar": {
              "outlinewidth": 0,
              "ticks": ""
             }
            },
            "type": "scattergl"
           }
          ],
          "scattermapbox": [
           {
            "marker": {
             "colorbar": {
              "outlinewidth": 0,
              "ticks": ""
             }
            },
            "type": "scattermapbox"
           }
          ],
          "scatterpolar": [
           {
            "marker": {
             "colorbar": {
              "outlinewidth": 0,
              "ticks": ""
             }
            },
            "type": "scatterpolar"
           }
          ],
          "scatterpolargl": [
           {
            "marker": {
             "colorbar": {
              "outlinewidth": 0,
              "ticks": ""
             }
            },
            "type": "scatterpolargl"
           }
          ],
          "scatterternary": [
           {
            "marker": {
             "colorbar": {
              "outlinewidth": 0,
              "ticks": ""
             }
            },
            "type": "scatterternary"
           }
          ],
          "surface": [
           {
            "colorbar": {
             "outlinewidth": 0,
             "ticks": ""
            },
            "colorscale": [
             [
              0,
              "#0d0887"
             ],
             [
              0.1111111111111111,
              "#46039f"
             ],
             [
              0.2222222222222222,
              "#7201a8"
             ],
             [
              0.3333333333333333,
              "#9c179e"
             ],
             [
              0.4444444444444444,
              "#bd3786"
             ],
             [
              0.5555555555555556,
              "#d8576b"
             ],
             [
              0.6666666666666666,
              "#ed7953"
             ],
             [
              0.7777777777777778,
              "#fb9f3a"
             ],
             [
              0.8888888888888888,
              "#fdca26"
             ],
             [
              1,
              "#f0f921"
             ]
            ],
            "type": "surface"
           }
          ],
          "table": [
           {
            "cells": {
             "fill": {
              "color": "#EBF0F8"
             },
             "line": {
              "color": "white"
             }
            },
            "header": {
             "fill": {
              "color": "#C8D4E3"
             },
             "line": {
              "color": "white"
             }
            },
            "type": "table"
           }
          ]
         },
         "layout": {
          "annotationdefaults": {
           "arrowcolor": "#2a3f5f",
           "arrowhead": 0,
           "arrowwidth": 1
          },
          "autotypenumbers": "strict",
          "coloraxis": {
           "colorbar": {
            "outlinewidth": 0,
            "ticks": ""
           }
          },
          "colorscale": {
           "diverging": [
            [
             0,
             "#8e0152"
            ],
            [
             0.1,
             "#c51b7d"
            ],
            [
             0.2,
             "#de77ae"
            ],
            [
             0.3,
             "#f1b6da"
            ],
            [
             0.4,
             "#fde0ef"
            ],
            [
             0.5,
             "#f7f7f7"
            ],
            [
             0.6,
             "#e6f5d0"
            ],
            [
             0.7,
             "#b8e186"
            ],
            [
             0.8,
             "#7fbc41"
            ],
            [
             0.9,
             "#4d9221"
            ],
            [
             1,
             "#276419"
            ]
           ],
           "sequential": [
            [
             0,
             "#0d0887"
            ],
            [
             0.1111111111111111,
             "#46039f"
            ],
            [
             0.2222222222222222,
             "#7201a8"
            ],
            [
             0.3333333333333333,
             "#9c179e"
            ],
            [
             0.4444444444444444,
             "#bd3786"
            ],
            [
             0.5555555555555556,
             "#d8576b"
            ],
            [
             0.6666666666666666,
             "#ed7953"
            ],
            [
             0.7777777777777778,
             "#fb9f3a"
            ],
            [
             0.8888888888888888,
             "#fdca26"
            ],
            [
             1,
             "#f0f921"
            ]
           ],
           "sequentialminus": [
            [
             0,
             "#0d0887"
            ],
            [
             0.1111111111111111,
             "#46039f"
            ],
            [
             0.2222222222222222,
             "#7201a8"
            ],
            [
             0.3333333333333333,
             "#9c179e"
            ],
            [
             0.4444444444444444,
             "#bd3786"
            ],
            [
             0.5555555555555556,
             "#d8576b"
            ],
            [
             0.6666666666666666,
             "#ed7953"
            ],
            [
             0.7777777777777778,
             "#fb9f3a"
            ],
            [
             0.8888888888888888,
             "#fdca26"
            ],
            [
             1,
             "#f0f921"
            ]
           ]
          },
          "colorway": [
           "#636efa",
           "#EF553B",
           "#00cc96",
           "#ab63fa",
           "#FFA15A",
           "#19d3f3",
           "#FF6692",
           "#B6E880",
           "#FF97FF",
           "#FECB52"
          ],
          "font": {
           "color": "#2a3f5f"
          },
          "geo": {
           "bgcolor": "white",
           "lakecolor": "white",
           "landcolor": "#E5ECF6",
           "showlakes": true,
           "showland": true,
           "subunitcolor": "white"
          },
          "hoverlabel": {
           "align": "left"
          },
          "hovermode": "closest",
          "mapbox": {
           "style": "light"
          },
          "paper_bgcolor": "white",
          "plot_bgcolor": "#E5ECF6",
          "polar": {
           "angularaxis": {
            "gridcolor": "white",
            "linecolor": "white",
            "ticks": ""
           },
           "bgcolor": "#E5ECF6",
           "radialaxis": {
            "gridcolor": "white",
            "linecolor": "white",
            "ticks": ""
           }
          },
          "scene": {
           "xaxis": {
            "backgroundcolor": "#E5ECF6",
            "gridcolor": "white",
            "gridwidth": 2,
            "linecolor": "white",
            "showbackground": true,
            "ticks": "",
            "zerolinecolor": "white"
           },
           "yaxis": {
            "backgroundcolor": "#E5ECF6",
            "gridcolor": "white",
            "gridwidth": 2,
            "linecolor": "white",
            "showbackground": true,
            "ticks": "",
            "zerolinecolor": "white"
           },
           "zaxis": {
            "backgroundcolor": "#E5ECF6",
            "gridcolor": "white",
            "gridwidth": 2,
            "linecolor": "white",
            "showbackground": true,
            "ticks": "",
            "zerolinecolor": "white"
           }
          },
          "shapedefaults": {
           "line": {
            "color": "#2a3f5f"
           }
          },
          "ternary": {
           "aaxis": {
            "gridcolor": "white",
            "linecolor": "white",
            "ticks": ""
           },
           "baxis": {
            "gridcolor": "white",
            "linecolor": "white",
            "ticks": ""
           },
           "bgcolor": "#E5ECF6",
           "caxis": {
            "gridcolor": "white",
            "linecolor": "white",
            "ticks": ""
           }
          },
          "title": {
           "x": 0.05
          },
          "xaxis": {
           "automargin": true,
           "gridcolor": "white",
           "linecolor": "white",
           "ticks": "",
           "title": {
            "standoff": 15
           },
           "zerolinecolor": "white",
           "zerolinewidth": 2
          },
          "yaxis": {
           "automargin": true,
           "gridcolor": "white",
           "linecolor": "white",
           "ticks": "",
           "title": {
            "standoff": 15
           },
           "zerolinecolor": "white",
           "zerolinewidth": 2
          }
         }
        },
        "title": {
         "text": "Total Vaccinations by Country"
        },
        "yaxis": {
         "type": "log"
        }
       }
      },
      "text/html": [
       "<div>                            <div id=\"a66bf89e-cbbc-491e-9193-4cea6b49fb74\" class=\"plotly-graph-div\" style=\"height:525px; width:100%;\"></div>            <script type=\"text/javascript\">                require([\"plotly\"], function(Plotly) {                    window.PLOTLYENV=window.PLOTLYENV || {};                                    if (document.getElementById(\"a66bf89e-cbbc-491e-9193-4cea6b49fb74\")) {                    Plotly.newPlot(                        \"a66bf89e-cbbc-491e-9193-4cea6b49fb74\",                        [{\"name\": \"Total Vaccinations by Country\", \"type\": \"bar\", \"x\": [\"Afghanistan\", \"Albania\", \"Algeria\", \"Andorra\", \"Angola\", \"Anguilla\", \"Antigua and Barbuda\", \"Argentina\", \"Armenia\", \"Aruba\", \"Australia\", \"Austria\", \"Azerbaijan\", \"Bahamas\", \"Bahrain\", \"Bangladesh\", \"Barbados\", \"Belarus\", \"Belgium\", \"Belize\", \"Bermuda\", \"Bhutan\", \"Bolivia\", \"Bosnia and Herzegovina\", \"Botswana\", \"Brazil\", \"Brunei\", \"Bulgaria\", \"Cambodia\", \"Cameroon\", \"Canada\", \"Cape Verde\", \"Cayman Islands\", \"Chile\", \"China\", \"Colombia\", \"Congo\", \"Costa Rica\", \"Cote d'Ivoire\", \"Croatia\", \"Curacao\", \"Cyprus\", \"Czechia\", \"Democratic Republic of Congo\", \"Denmark\", \"Djibouti\", \"Dominica\", \"Dominican Republic\", \"Ecuador\", \"Egypt\", \"El Salvador\", \"England\", \"Equatorial Guinea\", \"Estonia\", \"Eswatini\", \"Ethiopia\", \"Faeroe Islands\", \"Falkland Islands\", \"Fiji\", \"Finland\", \"France\", \"Gabon\", \"Gambia\", \"Georgia\", \"Germany\", \"Ghana\", \"Gibraltar\", \"Greece\", \"Greenland\", \"Grenada\", \"Guatemala\", \"Guernsey\", \"Guinea\", \"Guyana\", \"Honduras\", \"Hong Kong\", \"Hungary\", \"Iceland\", \"India\", \"Indonesia\", \"Iran\", \"Iraq\", \"Ireland\", \"Isle of Man\", \"Israel\", \"Italy\", \"Jamaica\", \"Japan\", \"Jersey\", \"Jordan\", \"Kazakhstan\", \"Kenya\", \"Kosovo\", \"Kuwait\", \"Kyrgyzstan\", \"Laos\", \"Latvia\", \"Lebanon\", \"Lesotho\", \"Libya\", \"Liechtenstein\", \"Lithuania\", \"Luxembourg\", \"Macao\", \"Malawi\", \"Malaysia\", \"Maldives\", \"Mali\", \"Malta\", \"Mauritania\", \"Mauritius\", \"Mexico\", \"Moldova\", \"Monaco\", \"Mongolia\", \"Montenegro\", \"Montserrat\", \"Morocco\", \"Mozambique\", \"Myanmar\", \"Namibia\", \"Nauru\", \"Nepal\", \"Netherlands\", \"New Zealand\", \"Nicaragua\", \"Niger\", \"Nigeria\", \"North Macedonia\", \"Northern Cyprus\", \"Northern Ireland\", \"Norway\", \"Oman\", \"Pakistan\", \"Palestine\", \"Panama\", \"Papua New Guinea\", \"Paraguay\", \"Peru\", \"Philippines\", \"Poland\", \"Portugal\", \"Qatar\", \"Romania\", \"Russia\", \"Rwanda\", \"Saint Helena\", \"Saint Kitts and Nevis\", \"Saint Lucia\", \"Saint Vincent and the Grenadines\", \"Samoa\", \"San Marino\", \"Sao Tome and Principe\", \"Saudi Arabia\", \"Scotland\", \"Senegal\", \"Serbia\", \"Seychelles\", \"Sierra Leone\", \"Singapore\", \"Slovakia\", \"Slovenia\", \"Solomon Islands\", \"Somalia\", \"South Africa\", \"South Korea\", \"South Sudan\", \"Spain\", \"Sri Lanka\", \"Sudan\", \"Suriname\", \"Sweden\", \"Switzerland\", \"Syria\", \"Taiwan\", \"Thailand\", \"Timor\", \"Togo\", \"Tonga\", \"Trinidad and Tobago\", \"Tunisia\", \"Turkey\", \"Turks and Caicos Islands\", \"Uganda\", \"Ukraine\", \"United Arab Emirates\", \"United Kingdom\", \"United States\", \"Uruguay\", \"Uzbekistan\", \"Venezuela\", \"Vietnam\", \"Wales\", \"Zambia\", \"Zimbabwe\"], \"y\": [240000.0, 556584.0, 75000.0, 28881.0, 456349.0, 6898.0, 29754.0, 8391513.0, 565.0, 78983.0, 2396314.0, 3362892.0, 1566106.0, 25692.0, 1318506.0, 9030320.0, 75006.0, 328500.0, 4199590.0, 44548.0, 55904.0, 480818.0, 878563.0, 106464.0, 49882.0, 45671672.0, 10715.0, 877124.0, 2608983.0, 400.0, 14568067.0, 2184.0, 65694.0, 15132910.0, 289627000.0, 5220330.0, 14297.0, 950252.0, 183301.0, 979181.0, 105720.0, 287816.0, 3423789.0, 1700.0, 2155301.0, 10246.0, 27821.0, 2123703.0, 1141262.0, 660000.0, 991133.0, 42408492.0, 75518.0, 492520.0, 34897.0, 1215934.0, 20238.0, 4407.0, 56000.0, 1990774.0, 23404537.0, 8897.0, 20922.0, 45338.0, 32596999.0, 849527.0, 71114.0, 3309788.0, 14177.0, 15397.0, 176102.0, 46587.0, 145763.0, 126800.0, 57639.0, 1593570.0, 6468466.0, 157230.0, 159931238.0, 20701804.0, 1314641.0, 298377.0, 1655866.0, 75005.0, 10482925.0, 22112154.0, 135473.0, 3836845.0, 85101.0, 1091048.0, 2025911.0, 853081.0, 22096.0, 1367000.0, 27858.0, 184387.0, 341444.0, 500984.0, 16000.0, 750.0, 12998.0, 1072671.0, 213236.0, 110952.0, 296127.0, 1500202.0, 412636.0, 49903.0, 352421.0, 7038.0, 117323.0, 19340234.0, 160476.0, 24390.0, 1756434.0, 85316.0, 1909.0, 9558639.0, 57305.0, 1040000.0, 20005.0, 700.0, 2091511.0, 5651843.0, 304900.0, 135130.0, 1366.0, 1246845.0, 74076.0, 109490.0, 1397087.0, 1847728.0, 315691.0, 2967870.0, 213989.0, 706271.0, 2900.0, 143441.0, 1856964.0, 2129185.0, 12225861.0, 3584684.0, 1701914.0, 5588267.0, 20720147.0, 350310.0, 4572.0, 13070.0, 24653.0, 14526.0, 7435.0, 30964.0, 9724.0, 9924369.0, 4220716.0, 416956.0, 3526876.0, 127721.0, 61107.0, 2213888.0, 1714749.0, 677844.0, 4890.0, 117567.0, 353181.0, 3883829.0, 947.0, 17916566.0, 1069828.0, 140227.0, 41287.0, 3485725.0, 2791978.0, 2500.0, 73988.0, 1601833.0, 2629.0, 160000.0, 5367.0, 55547.0, 424485.0, 24103883.0, 25039.0, 341819.0, 784229.0, 10834453.0, 50682567.0, 249566820.0, 1936637.0, 600369.0, 250000.0, 585539.0, 2656272.0, 58982.0, 559777.0]}],                        {\"template\": {\"data\": {\"bar\": [{\"error_x\": {\"color\": \"#2a3f5f\"}, \"error_y\": {\"color\": \"#2a3f5f\"}, \"marker\": {\"line\": {\"color\": \"#E5ECF6\", \"width\": 0.5}}, \"type\": \"bar\"}], \"barpolar\": [{\"marker\": {\"line\": {\"color\": \"#E5ECF6\", \"width\": 0.5}}, \"type\": \"barpolar\"}], \"carpet\": [{\"aaxis\": {\"endlinecolor\": \"#2a3f5f\", \"gridcolor\": \"white\", \"linecolor\": \"white\", \"minorgridcolor\": \"white\", \"startlinecolor\": \"#2a3f5f\"}, \"baxis\": {\"endlinecolor\": \"#2a3f5f\", \"gridcolor\": \"white\", \"linecolor\": \"white\", \"minorgridcolor\": \"white\", \"startlinecolor\": \"#2a3f5f\"}, \"type\": \"carpet\"}], \"choropleth\": [{\"colorbar\": {\"outlinewidth\": 0, \"ticks\": \"\"}, \"type\": \"choropleth\"}], \"contour\": [{\"colorbar\": {\"outlinewidth\": 0, \"ticks\": \"\"}, \"colorscale\": [[0.0, \"#0d0887\"], [0.1111111111111111, \"#46039f\"], [0.2222222222222222, \"#7201a8\"], [0.3333333333333333, \"#9c179e\"], [0.4444444444444444, \"#bd3786\"], [0.5555555555555556, \"#d8576b\"], [0.6666666666666666, \"#ed7953\"], [0.7777777777777778, \"#fb9f3a\"], [0.8888888888888888, \"#fdca26\"], [1.0, \"#f0f921\"]], \"type\": \"contour\"}], \"contourcarpet\": [{\"colorbar\": {\"outlinewidth\": 0, \"ticks\": \"\"}, \"type\": \"contourcarpet\"}], \"heatmap\": [{\"colorbar\": {\"outlinewidth\": 0, \"ticks\": \"\"}, \"colorscale\": [[0.0, \"#0d0887\"], [0.1111111111111111, \"#46039f\"], [0.2222222222222222, \"#7201a8\"], [0.3333333333333333, \"#9c179e\"], [0.4444444444444444, \"#bd3786\"], [0.5555555555555556, \"#d8576b\"], [0.6666666666666666, \"#ed7953\"], [0.7777777777777778, \"#fb9f3a\"], [0.8888888888888888, \"#fdca26\"], [1.0, \"#f0f921\"]], \"type\": \"heatmap\"}], \"heatmapgl\": [{\"colorbar\": {\"outlinewidth\": 0, \"ticks\": \"\"}, \"colorscale\": [[0.0, \"#0d0887\"], [0.1111111111111111, \"#46039f\"], [0.2222222222222222, \"#7201a8\"], [0.3333333333333333, \"#9c179e\"], [0.4444444444444444, \"#bd3786\"], [0.5555555555555556, \"#d8576b\"], [0.6666666666666666, \"#ed7953\"], [0.7777777777777778, \"#fb9f3a\"], [0.8888888888888888, \"#fdca26\"], [1.0, \"#f0f921\"]], \"type\": \"heatmapgl\"}], \"histogram\": [{\"marker\": {\"colorbar\": {\"outlinewidth\": 0, \"ticks\": \"\"}}, \"type\": \"histogram\"}], \"histogram2d\": [{\"colorbar\": {\"outlinewidth\": 0, \"ticks\": \"\"}, \"colorscale\": [[0.0, \"#0d0887\"], [0.1111111111111111, \"#46039f\"], [0.2222222222222222, \"#7201a8\"], [0.3333333333333333, \"#9c179e\"], [0.4444444444444444, \"#bd3786\"], [0.5555555555555556, \"#d8576b\"], [0.6666666666666666, \"#ed7953\"], [0.7777777777777778, \"#fb9f3a\"], [0.8888888888888888, \"#fdca26\"], [1.0, \"#f0f921\"]], \"type\": \"histogram2d\"}], \"histogram2dcontour\": [{\"colorbar\": {\"outlinewidth\": 0, \"ticks\": \"\"}, \"colorscale\": [[0.0, \"#0d0887\"], [0.1111111111111111, \"#46039f\"], [0.2222222222222222, \"#7201a8\"], [0.3333333333333333, \"#9c179e\"], [0.4444444444444444, \"#bd3786\"], [0.5555555555555556, \"#d8576b\"], [0.6666666666666666, \"#ed7953\"], [0.7777777777777778, \"#fb9f3a\"], [0.8888888888888888, \"#fdca26\"], [1.0, \"#f0f921\"]], \"type\": \"histogram2dcontour\"}], \"mesh3d\": [{\"colorbar\": {\"outlinewidth\": 0, \"ticks\": \"\"}, \"type\": \"mesh3d\"}], \"parcoords\": [{\"line\": {\"colorbar\": {\"outlinewidth\": 0, \"ticks\": \"\"}}, \"type\": \"parcoords\"}], \"pie\": [{\"automargin\": true, \"type\": \"pie\"}], \"scatter\": [{\"marker\": {\"colorbar\": {\"outlinewidth\": 0, \"ticks\": \"\"}}, \"type\": \"scatter\"}], \"scatter3d\": [{\"line\": {\"colorbar\": {\"outlinewidth\": 0, \"ticks\": \"\"}}, \"marker\": {\"colorbar\": {\"outlinewidth\": 0, \"ticks\": \"\"}}, \"type\": \"scatter3d\"}], \"scattercarpet\": [{\"marker\": {\"colorbar\": {\"outlinewidth\": 0, \"ticks\": \"\"}}, \"type\": \"scattercarpet\"}], \"scattergeo\": [{\"marker\": {\"colorbar\": {\"outlinewidth\": 0, \"ticks\": \"\"}}, \"type\": \"scattergeo\"}], \"scattergl\": [{\"marker\": {\"colorbar\": {\"outlinewidth\": 0, \"ticks\": \"\"}}, \"type\": \"scattergl\"}], \"scattermapbox\": [{\"marker\": {\"colorbar\": {\"outlinewidth\": 0, \"ticks\": \"\"}}, \"type\": \"scattermapbox\"}], \"scatterpolar\": [{\"marker\": {\"colorbar\": {\"outlinewidth\": 0, \"ticks\": \"\"}}, \"type\": \"scatterpolar\"}], \"scatterpolargl\": [{\"marker\": {\"colorbar\": {\"outlinewidth\": 0, \"ticks\": \"\"}}, \"type\": \"scatterpolargl\"}], \"scatterternary\": [{\"marker\": {\"colorbar\": {\"outlinewidth\": 0, \"ticks\": \"\"}}, \"type\": \"scatterternary\"}], \"surface\": [{\"colorbar\": {\"outlinewidth\": 0, \"ticks\": \"\"}, \"colorscale\": [[0.0, \"#0d0887\"], [0.1111111111111111, \"#46039f\"], [0.2222222222222222, \"#7201a8\"], [0.3333333333333333, \"#9c179e\"], [0.4444444444444444, \"#bd3786\"], [0.5555555555555556, \"#d8576b\"], [0.6666666666666666, \"#ed7953\"], [0.7777777777777778, \"#fb9f3a\"], [0.8888888888888888, \"#fdca26\"], [1.0, \"#f0f921\"]], \"type\": \"surface\"}], \"table\": [{\"cells\": {\"fill\": {\"color\": \"#EBF0F8\"}, \"line\": {\"color\": \"white\"}}, \"header\": {\"fill\": {\"color\": \"#C8D4E3\"}, \"line\": {\"color\": \"white\"}}, \"type\": \"table\"}]}, \"layout\": {\"annotationdefaults\": {\"arrowcolor\": \"#2a3f5f\", \"arrowhead\": 0, \"arrowwidth\": 1}, \"autotypenumbers\": \"strict\", \"coloraxis\": {\"colorbar\": {\"outlinewidth\": 0, \"ticks\": \"\"}}, \"colorscale\": {\"diverging\": [[0, \"#8e0152\"], [0.1, \"#c51b7d\"], [0.2, \"#de77ae\"], [0.3, \"#f1b6da\"], [0.4, \"#fde0ef\"], [0.5, \"#f7f7f7\"], [0.6, \"#e6f5d0\"], [0.7, \"#b8e186\"], [0.8, \"#7fbc41\"], [0.9, \"#4d9221\"], [1, \"#276419\"]], \"sequential\": [[0.0, \"#0d0887\"], [0.1111111111111111, \"#46039f\"], [0.2222222222222222, \"#7201a8\"], [0.3333333333333333, \"#9c179e\"], [0.4444444444444444, \"#bd3786\"], [0.5555555555555556, \"#d8576b\"], [0.6666666666666666, \"#ed7953\"], [0.7777777777777778, \"#fb9f3a\"], [0.8888888888888888, \"#fdca26\"], [1.0, \"#f0f921\"]], \"sequentialminus\": [[0.0, \"#0d0887\"], [0.1111111111111111, \"#46039f\"], [0.2222222222222222, \"#7201a8\"], [0.3333333333333333, \"#9c179e\"], [0.4444444444444444, \"#bd3786\"], [0.5555555555555556, \"#d8576b\"], [0.6666666666666666, \"#ed7953\"], [0.7777777777777778, \"#fb9f3a\"], [0.8888888888888888, \"#fdca26\"], [1.0, \"#f0f921\"]]}, \"colorway\": [\"#636efa\", \"#EF553B\", \"#00cc96\", \"#ab63fa\", \"#FFA15A\", \"#19d3f3\", \"#FF6692\", \"#B6E880\", \"#FF97FF\", \"#FECB52\"], \"font\": {\"color\": \"#2a3f5f\"}, \"geo\": {\"bgcolor\": \"white\", \"lakecolor\": \"white\", \"landcolor\": \"#E5ECF6\", \"showlakes\": true, \"showland\": true, \"subunitcolor\": \"white\"}, \"hoverlabel\": {\"align\": \"left\"}, \"hovermode\": \"closest\", \"mapbox\": {\"style\": \"light\"}, \"paper_bgcolor\": \"white\", \"plot_bgcolor\": \"#E5ECF6\", \"polar\": {\"angularaxis\": {\"gridcolor\": \"white\", \"linecolor\": \"white\", \"ticks\": \"\"}, \"bgcolor\": \"#E5ECF6\", \"radialaxis\": {\"gridcolor\": \"white\", \"linecolor\": \"white\", \"ticks\": \"\"}}, \"scene\": {\"xaxis\": {\"backgroundcolor\": \"#E5ECF6\", \"gridcolor\": \"white\", \"gridwidth\": 2, \"linecolor\": \"white\", \"showbackground\": true, \"ticks\": \"\", \"zerolinecolor\": \"white\"}, \"yaxis\": {\"backgroundcolor\": \"#E5ECF6\", \"gridcolor\": \"white\", \"gridwidth\": 2, \"linecolor\": \"white\", \"showbackground\": true, \"ticks\": \"\", \"zerolinecolor\": \"white\"}, \"zaxis\": {\"backgroundcolor\": \"#E5ECF6\", \"gridcolor\": \"white\", \"gridwidth\": 2, \"linecolor\": \"white\", \"showbackground\": true, \"ticks\": \"\", \"zerolinecolor\": \"white\"}}, \"shapedefaults\": {\"line\": {\"color\": \"#2a3f5f\"}}, \"ternary\": {\"aaxis\": {\"gridcolor\": \"white\", \"linecolor\": \"white\", \"ticks\": \"\"}, \"baxis\": {\"gridcolor\": \"white\", \"linecolor\": \"white\", \"ticks\": \"\"}, \"bgcolor\": \"#E5ECF6\", \"caxis\": {\"gridcolor\": \"white\", \"linecolor\": \"white\", \"ticks\": \"\"}}, \"title\": {\"x\": 0.05}, \"xaxis\": {\"automargin\": true, \"gridcolor\": \"white\", \"linecolor\": \"white\", \"ticks\": \"\", \"title\": {\"standoff\": 15}, \"zerolinecolor\": \"white\", \"zerolinewidth\": 2}, \"yaxis\": {\"automargin\": true, \"gridcolor\": \"white\", \"linecolor\": \"white\", \"ticks\": \"\", \"title\": {\"standoff\": 15}, \"zerolinecolor\": \"white\", \"zerolinewidth\": 2}}}, \"title\": {\"text\": \"Total Vaccinations by Country\"}, \"yaxis\": {\"type\": \"log\"}},                        {\"responsive\": true}                    ).then(function(){\n",
       "                            \n",
       "var gd = document.getElementById('a66bf89e-cbbc-491e-9193-4cea6b49fb74');\n",
       "var x = new MutationObserver(function (mutations, observer) {{\n",
       "        var display = window.getComputedStyle(gd).display;\n",
       "        if (!display || display === 'none') {{\n",
       "            console.log([gd, 'removed!']);\n",
       "            Plotly.purge(gd);\n",
       "            observer.disconnect();\n",
       "        }}\n",
       "}});\n",
       "\n",
       "// Listen for the removal of the full notebook cells\n",
       "var notebookContainer = gd.closest('#notebook-container');\n",
       "if (notebookContainer) {{\n",
       "    x.observe(notebookContainer, {childList: true});\n",
       "}}\n",
       "\n",
       "// Listen for the clearing of the current output cell\n",
       "var outputEl = gd.closest('.output');\n",
       "if (outputEl) {{\n",
       "    x.observe(outputEl, {childList: true});\n",
       "}}\n",
       "\n",
       "                        })                };                });            </script>        </div>"
      ]
     },
     "metadata": {},
     "output_type": "display_data"
    }
   ],
   "source": [
    "#specifying x & y axis and layout of bar graph \n",
    "data = [go.Bar(x=total_country_vax.index, y=total_country_vax.total_vaccinations, name='Total Vaccinations by Country')]\n",
    "layout = go.Layout(title = 'Total Vaccinations by Country')\n",
    "\n",
    "#create our figure to be plotted\n",
    "vax_bar_fig = go.Figure(data = data, layout = layout)\n",
    "vax_bar_fig.update_yaxes(type=\"log\")"
   ]
  },
  {
   "cell_type": "code",
   "execution_count": 217,
   "metadata": {},
   "outputs": [],
   "source": [
    "#create new dataframe and groupby location & vaccine\n",
    "df2 = df1.groupby(['location', 'vaccine']).sum()"
   ]
  },
  {
   "cell_type": "code",
   "execution_count": 218,
   "metadata": {},
   "outputs": [
    {
     "data": {
      "application/vnd.plotly.v1+json": {
       "config": {
        "plotlyServerURL": "https://plot.ly"
       },
       "data": [
        {
         "labels": [
          "Pfizer/BioNTech",
          "Sinovac",
          "Johnson&Johnson",
          "Moderna",
          "Oxford/AstraZeneca",
          "Pfizer/BioNTech",
          "Johnson&Johnson",
          "Moderna",
          "Oxford/AstraZeneca",
          "Pfizer/BioNTech",
          "Johnson&Johnson",
          "Moderna",
          "Oxford/AstraZeneca",
          "Pfizer/BioNTech",
          "Johnson&Johnson",
          "Moderna",
          "Oxford/AstraZeneca",
          "Pfizer/BioNTech",
          "Johnson&Johnson",
          "Moderna",
          "Oxford/AstraZeneca",
          "Pfizer/BioNTech",
          "Johnson&Johnson",
          "Moderna",
          "Oxford/AstraZeneca",
          "Pfizer/BioNTech",
          "Johnson&Johnson",
          "Moderna",
          "Oxford/AstraZeneca",
          "Pfizer/BioNTech",
          "Johnson&Johnson",
          "Moderna",
          "Oxford/AstraZeneca",
          "Pfizer/BioNTech",
          "Johnson&Johnson",
          "Moderna",
          "Pfizer/BioNTech"
         ],
         "type": "pie",
         "values": [
          80555807,
          643278800,
          56899,
          12979313,
          15364645,
          114062982,
          407106,
          63456652,
          157591330,
          724166180,
          48158,
          60923596,
          221313843,
          981695376,
          10184,
          584142,
          1294084,
          4421948,
          705062,
          49832187,
          153701947,
          692229819,
          1275,
          1945494,
          5997087,
          3898921,
          1297,
          2976732,
          8648594,
          32644120,
          312,
          17727106,
          25150452,
          217240145,
          289606447,
          5680336220,
          6438814160
         ]
        }
       ],
       "layout": {
        "template": {
         "data": {
          "bar": [
           {
            "error_x": {
             "color": "#2a3f5f"
            },
            "error_y": {
             "color": "#2a3f5f"
            },
            "marker": {
             "line": {
              "color": "#E5ECF6",
              "width": 0.5
             }
            },
            "type": "bar"
           }
          ],
          "barpolar": [
           {
            "marker": {
             "line": {
              "color": "#E5ECF6",
              "width": 0.5
             }
            },
            "type": "barpolar"
           }
          ],
          "carpet": [
           {
            "aaxis": {
             "endlinecolor": "#2a3f5f",
             "gridcolor": "white",
             "linecolor": "white",
             "minorgridcolor": "white",
             "startlinecolor": "#2a3f5f"
            },
            "baxis": {
             "endlinecolor": "#2a3f5f",
             "gridcolor": "white",
             "linecolor": "white",
             "minorgridcolor": "white",
             "startlinecolor": "#2a3f5f"
            },
            "type": "carpet"
           }
          ],
          "choropleth": [
           {
            "colorbar": {
             "outlinewidth": 0,
             "ticks": ""
            },
            "type": "choropleth"
           }
          ],
          "contour": [
           {
            "colorbar": {
             "outlinewidth": 0,
             "ticks": ""
            },
            "colorscale": [
             [
              0,
              "#0d0887"
             ],
             [
              0.1111111111111111,
              "#46039f"
             ],
             [
              0.2222222222222222,
              "#7201a8"
             ],
             [
              0.3333333333333333,
              "#9c179e"
             ],
             [
              0.4444444444444444,
              "#bd3786"
             ],
             [
              0.5555555555555556,
              "#d8576b"
             ],
             [
              0.6666666666666666,
              "#ed7953"
             ],
             [
              0.7777777777777778,
              "#fb9f3a"
             ],
             [
              0.8888888888888888,
              "#fdca26"
             ],
             [
              1,
              "#f0f921"
             ]
            ],
            "type": "contour"
           }
          ],
          "contourcarpet": [
           {
            "colorbar": {
             "outlinewidth": 0,
             "ticks": ""
            },
            "type": "contourcarpet"
           }
          ],
          "heatmap": [
           {
            "colorbar": {
             "outlinewidth": 0,
             "ticks": ""
            },
            "colorscale": [
             [
              0,
              "#0d0887"
             ],
             [
              0.1111111111111111,
              "#46039f"
             ],
             [
              0.2222222222222222,
              "#7201a8"
             ],
             [
              0.3333333333333333,
              "#9c179e"
             ],
             [
              0.4444444444444444,
              "#bd3786"
             ],
             [
              0.5555555555555556,
              "#d8576b"
             ],
             [
              0.6666666666666666,
              "#ed7953"
             ],
             [
              0.7777777777777778,
              "#fb9f3a"
             ],
             [
              0.8888888888888888,
              "#fdca26"
             ],
             [
              1,
              "#f0f921"
             ]
            ],
            "type": "heatmap"
           }
          ],
          "heatmapgl": [
           {
            "colorbar": {
             "outlinewidth": 0,
             "ticks": ""
            },
            "colorscale": [
             [
              0,
              "#0d0887"
             ],
             [
              0.1111111111111111,
              "#46039f"
             ],
             [
              0.2222222222222222,
              "#7201a8"
             ],
             [
              0.3333333333333333,
              "#9c179e"
             ],
             [
              0.4444444444444444,
              "#bd3786"
             ],
             [
              0.5555555555555556,
              "#d8576b"
             ],
             [
              0.6666666666666666,
              "#ed7953"
             ],
             [
              0.7777777777777778,
              "#fb9f3a"
             ],
             [
              0.8888888888888888,
              "#fdca26"
             ],
             [
              1,
              "#f0f921"
             ]
            ],
            "type": "heatmapgl"
           }
          ],
          "histogram": [
           {
            "marker": {
             "colorbar": {
              "outlinewidth": 0,
              "ticks": ""
             }
            },
            "type": "histogram"
           }
          ],
          "histogram2d": [
           {
            "colorbar": {
             "outlinewidth": 0,
             "ticks": ""
            },
            "colorscale": [
             [
              0,
              "#0d0887"
             ],
             [
              0.1111111111111111,
              "#46039f"
             ],
             [
              0.2222222222222222,
              "#7201a8"
             ],
             [
              0.3333333333333333,
              "#9c179e"
             ],
             [
              0.4444444444444444,
              "#bd3786"
             ],
             [
              0.5555555555555556,
              "#d8576b"
             ],
             [
              0.6666666666666666,
              "#ed7953"
             ],
             [
              0.7777777777777778,
              "#fb9f3a"
             ],
             [
              0.8888888888888888,
              "#fdca26"
             ],
             [
              1,
              "#f0f921"
             ]
            ],
            "type": "histogram2d"
           }
          ],
          "histogram2dcontour": [
           {
            "colorbar": {
             "outlinewidth": 0,
             "ticks": ""
            },
            "colorscale": [
             [
              0,
              "#0d0887"
             ],
             [
              0.1111111111111111,
              "#46039f"
             ],
             [
              0.2222222222222222,
              "#7201a8"
             ],
             [
              0.3333333333333333,
              "#9c179e"
             ],
             [
              0.4444444444444444,
              "#bd3786"
             ],
             [
              0.5555555555555556,
              "#d8576b"
             ],
             [
              0.6666666666666666,
              "#ed7953"
             ],
             [
              0.7777777777777778,
              "#fb9f3a"
             ],
             [
              0.8888888888888888,
              "#fdca26"
             ],
             [
              1,
              "#f0f921"
             ]
            ],
            "type": "histogram2dcontour"
           }
          ],
          "mesh3d": [
           {
            "colorbar": {
             "outlinewidth": 0,
             "ticks": ""
            },
            "type": "mesh3d"
           }
          ],
          "parcoords": [
           {
            "line": {
             "colorbar": {
              "outlinewidth": 0,
              "ticks": ""
             }
            },
            "type": "parcoords"
           }
          ],
          "pie": [
           {
            "automargin": true,
            "type": "pie"
           }
          ],
          "scatter": [
           {
            "marker": {
             "colorbar": {
              "outlinewidth": 0,
              "ticks": ""
             }
            },
            "type": "scatter"
           }
          ],
          "scatter3d": [
           {
            "line": {
             "colorbar": {
              "outlinewidth": 0,
              "ticks": ""
             }
            },
            "marker": {
             "colorbar": {
              "outlinewidth": 0,
              "ticks": ""
             }
            },
            "type": "scatter3d"
           }
          ],
          "scattercarpet": [
           {
            "marker": {
             "colorbar": {
              "outlinewidth": 0,
              "ticks": ""
             }
            },
            "type": "scattercarpet"
           }
          ],
          "scattergeo": [
           {
            "marker": {
             "colorbar": {
              "outlinewidth": 0,
              "ticks": ""
             }
            },
            "type": "scattergeo"
           }
          ],
          "scattergl": [
           {
            "marker": {
             "colorbar": {
              "outlinewidth": 0,
              "ticks": ""
             }
            },
            "type": "scattergl"
           }
          ],
          "scattermapbox": [
           {
            "marker": {
             "colorbar": {
              "outlinewidth": 0,
              "ticks": ""
             }
            },
            "type": "scattermapbox"
           }
          ],
          "scatterpolar": [
           {
            "marker": {
             "colorbar": {
              "outlinewidth": 0,
              "ticks": ""
             }
            },
            "type": "scatterpolar"
           }
          ],
          "scatterpolargl": [
           {
            "marker": {
             "colorbar": {
              "outlinewidth": 0,
              "ticks": ""
             }
            },
            "type": "scatterpolargl"
           }
          ],
          "scatterternary": [
           {
            "marker": {
             "colorbar": {
              "outlinewidth": 0,
              "ticks": ""
             }
            },
            "type": "scatterternary"
           }
          ],
          "surface": [
           {
            "colorbar": {
             "outlinewidth": 0,
             "ticks": ""
            },
            "colorscale": [
             [
              0,
              "#0d0887"
             ],
             [
              0.1111111111111111,
              "#46039f"
             ],
             [
              0.2222222222222222,
              "#7201a8"
             ],
             [
              0.3333333333333333,
              "#9c179e"
             ],
             [
              0.4444444444444444,
              "#bd3786"
             ],
             [
              0.5555555555555556,
              "#d8576b"
             ],
             [
              0.6666666666666666,
              "#ed7953"
             ],
             [
              0.7777777777777778,
              "#fb9f3a"
             ],
             [
              0.8888888888888888,
              "#fdca26"
             ],
             [
              1,
              "#f0f921"
             ]
            ],
            "type": "surface"
           }
          ],
          "table": [
           {
            "cells": {
             "fill": {
              "color": "#EBF0F8"
             },
             "line": {
              "color": "white"
             }
            },
            "header": {
             "fill": {
              "color": "#C8D4E3"
             },
             "line": {
              "color": "white"
             }
            },
            "type": "table"
           }
          ]
         },
         "layout": {
          "annotationdefaults": {
           "arrowcolor": "#2a3f5f",
           "arrowhead": 0,
           "arrowwidth": 1
          },
          "autotypenumbers": "strict",
          "coloraxis": {
           "colorbar": {
            "outlinewidth": 0,
            "ticks": ""
           }
          },
          "colorscale": {
           "diverging": [
            [
             0,
             "#8e0152"
            ],
            [
             0.1,
             "#c51b7d"
            ],
            [
             0.2,
             "#de77ae"
            ],
            [
             0.3,
             "#f1b6da"
            ],
            [
             0.4,
             "#fde0ef"
            ],
            [
             0.5,
             "#f7f7f7"
            ],
            [
             0.6,
             "#e6f5d0"
            ],
            [
             0.7,
             "#b8e186"
            ],
            [
             0.8,
             "#7fbc41"
            ],
            [
             0.9,
             "#4d9221"
            ],
            [
             1,
             "#276419"
            ]
           ],
           "sequential": [
            [
             0,
             "#0d0887"
            ],
            [
             0.1111111111111111,
             "#46039f"
            ],
            [
             0.2222222222222222,
             "#7201a8"
            ],
            [
             0.3333333333333333,
             "#9c179e"
            ],
            [
             0.4444444444444444,
             "#bd3786"
            ],
            [
             0.5555555555555556,
             "#d8576b"
            ],
            [
             0.6666666666666666,
             "#ed7953"
            ],
            [
             0.7777777777777778,
             "#fb9f3a"
            ],
            [
             0.8888888888888888,
             "#fdca26"
            ],
            [
             1,
             "#f0f921"
            ]
           ],
           "sequentialminus": [
            [
             0,
             "#0d0887"
            ],
            [
             0.1111111111111111,
             "#46039f"
            ],
            [
             0.2222222222222222,
             "#7201a8"
            ],
            [
             0.3333333333333333,
             "#9c179e"
            ],
            [
             0.4444444444444444,
             "#bd3786"
            ],
            [
             0.5555555555555556,
             "#d8576b"
            ],
            [
             0.6666666666666666,
             "#ed7953"
            ],
            [
             0.7777777777777778,
             "#fb9f3a"
            ],
            [
             0.8888888888888888,
             "#fdca26"
            ],
            [
             1,
             "#f0f921"
            ]
           ]
          },
          "colorway": [
           "#636efa",
           "#EF553B",
           "#00cc96",
           "#ab63fa",
           "#FFA15A",
           "#19d3f3",
           "#FF6692",
           "#B6E880",
           "#FF97FF",
           "#FECB52"
          ],
          "font": {
           "color": "#2a3f5f"
          },
          "geo": {
           "bgcolor": "white",
           "lakecolor": "white",
           "landcolor": "#E5ECF6",
           "showlakes": true,
           "showland": true,
           "subunitcolor": "white"
          },
          "hoverlabel": {
           "align": "left"
          },
          "hovermode": "closest",
          "mapbox": {
           "style": "light"
          },
          "paper_bgcolor": "white",
          "plot_bgcolor": "#E5ECF6",
          "polar": {
           "angularaxis": {
            "gridcolor": "white",
            "linecolor": "white",
            "ticks": ""
           },
           "bgcolor": "#E5ECF6",
           "radialaxis": {
            "gridcolor": "white",
            "linecolor": "white",
            "ticks": ""
           }
          },
          "scene": {
           "xaxis": {
            "backgroundcolor": "#E5ECF6",
            "gridcolor": "white",
            "gridwidth": 2,
            "linecolor": "white",
            "showbackground": true,
            "ticks": "",
            "zerolinecolor": "white"
           },
           "yaxis": {
            "backgroundcolor": "#E5ECF6",
            "gridcolor": "white",
            "gridwidth": 2,
            "linecolor": "white",
            "showbackground": true,
            "ticks": "",
            "zerolinecolor": "white"
           },
           "zaxis": {
            "backgroundcolor": "#E5ECF6",
            "gridcolor": "white",
            "gridwidth": 2,
            "linecolor": "white",
            "showbackground": true,
            "ticks": "",
            "zerolinecolor": "white"
           }
          },
          "shapedefaults": {
           "line": {
            "color": "#2a3f5f"
           }
          },
          "ternary": {
           "aaxis": {
            "gridcolor": "white",
            "linecolor": "white",
            "ticks": ""
           },
           "baxis": {
            "gridcolor": "white",
            "linecolor": "white",
            "ticks": ""
           },
           "bgcolor": "#E5ECF6",
           "caxis": {
            "gridcolor": "white",
            "linecolor": "white",
            "ticks": ""
           }
          },
          "title": {
           "x": 0.05
          },
          "xaxis": {
           "automargin": true,
           "gridcolor": "white",
           "linecolor": "white",
           "ticks": "",
           "title": {
            "standoff": 15
           },
           "zerolinecolor": "white",
           "zerolinewidth": 2
          },
          "yaxis": {
           "automargin": true,
           "gridcolor": "white",
           "linecolor": "white",
           "ticks": "",
           "title": {
            "standoff": 15
           },
           "zerolinecolor": "white",
           "zerolinewidth": 2
          }
         }
        }
       }
      },
      "text/html": [
       "<div>                            <div id=\"0162fbf1-42e8-4aaa-a4a4-1ab9fafe4438\" class=\"plotly-graph-div\" style=\"height:525px; width:100%;\"></div>            <script type=\"text/javascript\">                require([\"plotly\"], function(Plotly) {                    window.PLOTLYENV=window.PLOTLYENV || {};                                    if (document.getElementById(\"0162fbf1-42e8-4aaa-a4a4-1ab9fafe4438\")) {                    Plotly.newPlot(                        \"0162fbf1-42e8-4aaa-a4a4-1ab9fafe4438\",                        [{\"labels\": [\"Pfizer/BioNTech\", \"Sinovac\", \"Johnson&Johnson\", \"Moderna\", \"Oxford/AstraZeneca\", \"Pfizer/BioNTech\", \"Johnson&Johnson\", \"Moderna\", \"Oxford/AstraZeneca\", \"Pfizer/BioNTech\", \"Johnson&Johnson\", \"Moderna\", \"Oxford/AstraZeneca\", \"Pfizer/BioNTech\", \"Johnson&Johnson\", \"Moderna\", \"Oxford/AstraZeneca\", \"Pfizer/BioNTech\", \"Johnson&Johnson\", \"Moderna\", \"Oxford/AstraZeneca\", \"Pfizer/BioNTech\", \"Johnson&Johnson\", \"Moderna\", \"Oxford/AstraZeneca\", \"Pfizer/BioNTech\", \"Johnson&Johnson\", \"Moderna\", \"Oxford/AstraZeneca\", \"Pfizer/BioNTech\", \"Johnson&Johnson\", \"Moderna\", \"Oxford/AstraZeneca\", \"Pfizer/BioNTech\", \"Johnson&Johnson\", \"Moderna\", \"Pfizer/BioNTech\"], \"type\": \"pie\", \"values\": [80555807, 643278800, 56899, 12979313, 15364645, 114062982, 407106, 63456652, 157591330, 724166180, 48158, 60923596, 221313843, 981695376, 10184, 584142, 1294084, 4421948, 705062, 49832187, 153701947, 692229819, 1275, 1945494, 5997087, 3898921, 1297, 2976732, 8648594, 32644120, 312, 17727106, 25150452, 217240145, 289606447, 5680336220, 6438814160]}],                        {\"template\": {\"data\": {\"bar\": [{\"error_x\": {\"color\": \"#2a3f5f\"}, \"error_y\": {\"color\": \"#2a3f5f\"}, \"marker\": {\"line\": {\"color\": \"#E5ECF6\", \"width\": 0.5}}, \"type\": \"bar\"}], \"barpolar\": [{\"marker\": {\"line\": {\"color\": \"#E5ECF6\", \"width\": 0.5}}, \"type\": \"barpolar\"}], \"carpet\": [{\"aaxis\": {\"endlinecolor\": \"#2a3f5f\", \"gridcolor\": \"white\", \"linecolor\": \"white\", \"minorgridcolor\": \"white\", \"startlinecolor\": \"#2a3f5f\"}, \"baxis\": {\"endlinecolor\": \"#2a3f5f\", \"gridcolor\": \"white\", \"linecolor\": \"white\", \"minorgridcolor\": \"white\", \"startlinecolor\": \"#2a3f5f\"}, \"type\": \"carpet\"}], \"choropleth\": [{\"colorbar\": {\"outlinewidth\": 0, \"ticks\": \"\"}, \"type\": \"choropleth\"}], \"contour\": [{\"colorbar\": {\"outlinewidth\": 0, \"ticks\": \"\"}, \"colorscale\": [[0.0, \"#0d0887\"], [0.1111111111111111, \"#46039f\"], [0.2222222222222222, \"#7201a8\"], [0.3333333333333333, \"#9c179e\"], [0.4444444444444444, \"#bd3786\"], [0.5555555555555556, \"#d8576b\"], [0.6666666666666666, \"#ed7953\"], [0.7777777777777778, \"#fb9f3a\"], [0.8888888888888888, \"#fdca26\"], [1.0, \"#f0f921\"]], \"type\": \"contour\"}], \"contourcarpet\": [{\"colorbar\": {\"outlinewidth\": 0, \"ticks\": \"\"}, \"type\": \"contourcarpet\"}], \"heatmap\": [{\"colorbar\": {\"outlinewidth\": 0, \"ticks\": \"\"}, \"colorscale\": [[0.0, \"#0d0887\"], [0.1111111111111111, \"#46039f\"], [0.2222222222222222, \"#7201a8\"], [0.3333333333333333, \"#9c179e\"], [0.4444444444444444, \"#bd3786\"], [0.5555555555555556, \"#d8576b\"], [0.6666666666666666, \"#ed7953\"], [0.7777777777777778, \"#fb9f3a\"], [0.8888888888888888, \"#fdca26\"], [1.0, \"#f0f921\"]], \"type\": \"heatmap\"}], \"heatmapgl\": [{\"colorbar\": {\"outlinewidth\": 0, \"ticks\": \"\"}, \"colorscale\": [[0.0, \"#0d0887\"], [0.1111111111111111, \"#46039f\"], [0.2222222222222222, \"#7201a8\"], [0.3333333333333333, \"#9c179e\"], [0.4444444444444444, \"#bd3786\"], [0.5555555555555556, \"#d8576b\"], [0.6666666666666666, \"#ed7953\"], [0.7777777777777778, \"#fb9f3a\"], [0.8888888888888888, \"#fdca26\"], [1.0, \"#f0f921\"]], \"type\": \"heatmapgl\"}], \"histogram\": [{\"marker\": {\"colorbar\": {\"outlinewidth\": 0, \"ticks\": \"\"}}, \"type\": \"histogram\"}], \"histogram2d\": [{\"colorbar\": {\"outlinewidth\": 0, \"ticks\": \"\"}, \"colorscale\": [[0.0, \"#0d0887\"], [0.1111111111111111, \"#46039f\"], [0.2222222222222222, \"#7201a8\"], [0.3333333333333333, \"#9c179e\"], [0.4444444444444444, \"#bd3786\"], [0.5555555555555556, \"#d8576b\"], [0.6666666666666666, \"#ed7953\"], [0.7777777777777778, \"#fb9f3a\"], [0.8888888888888888, \"#fdca26\"], [1.0, \"#f0f921\"]], \"type\": \"histogram2d\"}], \"histogram2dcontour\": [{\"colorbar\": {\"outlinewidth\": 0, \"ticks\": \"\"}, \"colorscale\": [[0.0, \"#0d0887\"], [0.1111111111111111, \"#46039f\"], [0.2222222222222222, \"#7201a8\"], [0.3333333333333333, \"#9c179e\"], [0.4444444444444444, \"#bd3786\"], [0.5555555555555556, \"#d8576b\"], [0.6666666666666666, \"#ed7953\"], [0.7777777777777778, \"#fb9f3a\"], [0.8888888888888888, \"#fdca26\"], [1.0, \"#f0f921\"]], \"type\": \"histogram2dcontour\"}], \"mesh3d\": [{\"colorbar\": {\"outlinewidth\": 0, \"ticks\": \"\"}, \"type\": \"mesh3d\"}], \"parcoords\": [{\"line\": {\"colorbar\": {\"outlinewidth\": 0, \"ticks\": \"\"}}, \"type\": \"parcoords\"}], \"pie\": [{\"automargin\": true, \"type\": \"pie\"}], \"scatter\": [{\"marker\": {\"colorbar\": {\"outlinewidth\": 0, \"ticks\": \"\"}}, \"type\": \"scatter\"}], \"scatter3d\": [{\"line\": {\"colorbar\": {\"outlinewidth\": 0, \"ticks\": \"\"}}, \"marker\": {\"colorbar\": {\"outlinewidth\": 0, \"ticks\": \"\"}}, \"type\": \"scatter3d\"}], \"scattercarpet\": [{\"marker\": {\"colorbar\": {\"outlinewidth\": 0, \"ticks\": \"\"}}, \"type\": \"scattercarpet\"}], \"scattergeo\": [{\"marker\": {\"colorbar\": {\"outlinewidth\": 0, \"ticks\": \"\"}}, \"type\": \"scattergeo\"}], \"scattergl\": [{\"marker\": {\"colorbar\": {\"outlinewidth\": 0, \"ticks\": \"\"}}, \"type\": \"scattergl\"}], \"scattermapbox\": [{\"marker\": {\"colorbar\": {\"outlinewidth\": 0, \"ticks\": \"\"}}, \"type\": \"scattermapbox\"}], \"scatterpolar\": [{\"marker\": {\"colorbar\": {\"outlinewidth\": 0, \"ticks\": \"\"}}, \"type\": \"scatterpolar\"}], \"scatterpolargl\": [{\"marker\": {\"colorbar\": {\"outlinewidth\": 0, \"ticks\": \"\"}}, \"type\": \"scatterpolargl\"}], \"scatterternary\": [{\"marker\": {\"colorbar\": {\"outlinewidth\": 0, \"ticks\": \"\"}}, \"type\": \"scatterternary\"}], \"surface\": [{\"colorbar\": {\"outlinewidth\": 0, \"ticks\": \"\"}, \"colorscale\": [[0.0, \"#0d0887\"], [0.1111111111111111, \"#46039f\"], [0.2222222222222222, \"#7201a8\"], [0.3333333333333333, \"#9c179e\"], [0.4444444444444444, \"#bd3786\"], [0.5555555555555556, \"#d8576b\"], [0.6666666666666666, \"#ed7953\"], [0.7777777777777778, \"#fb9f3a\"], [0.8888888888888888, \"#fdca26\"], [1.0, \"#f0f921\"]], \"type\": \"surface\"}], \"table\": [{\"cells\": {\"fill\": {\"color\": \"#EBF0F8\"}, \"line\": {\"color\": \"white\"}}, \"header\": {\"fill\": {\"color\": \"#C8D4E3\"}, \"line\": {\"color\": \"white\"}}, \"type\": \"table\"}]}, \"layout\": {\"annotationdefaults\": {\"arrowcolor\": \"#2a3f5f\", \"arrowhead\": 0, \"arrowwidth\": 1}, \"autotypenumbers\": \"strict\", \"coloraxis\": {\"colorbar\": {\"outlinewidth\": 0, \"ticks\": \"\"}}, \"colorscale\": {\"diverging\": [[0, \"#8e0152\"], [0.1, \"#c51b7d\"], [0.2, \"#de77ae\"], [0.3, \"#f1b6da\"], [0.4, \"#fde0ef\"], [0.5, \"#f7f7f7\"], [0.6, \"#e6f5d0\"], [0.7, \"#b8e186\"], [0.8, \"#7fbc41\"], [0.9, \"#4d9221\"], [1, \"#276419\"]], \"sequential\": [[0.0, \"#0d0887\"], [0.1111111111111111, \"#46039f\"], [0.2222222222222222, \"#7201a8\"], [0.3333333333333333, \"#9c179e\"], [0.4444444444444444, \"#bd3786\"], [0.5555555555555556, \"#d8576b\"], [0.6666666666666666, \"#ed7953\"], [0.7777777777777778, \"#fb9f3a\"], [0.8888888888888888, \"#fdca26\"], [1.0, \"#f0f921\"]], \"sequentialminus\": [[0.0, \"#0d0887\"], [0.1111111111111111, \"#46039f\"], [0.2222222222222222, \"#7201a8\"], [0.3333333333333333, \"#9c179e\"], [0.4444444444444444, \"#bd3786\"], [0.5555555555555556, \"#d8576b\"], [0.6666666666666666, \"#ed7953\"], [0.7777777777777778, \"#fb9f3a\"], [0.8888888888888888, \"#fdca26\"], [1.0, \"#f0f921\"]]}, \"colorway\": [\"#636efa\", \"#EF553B\", \"#00cc96\", \"#ab63fa\", \"#FFA15A\", \"#19d3f3\", \"#FF6692\", \"#B6E880\", \"#FF97FF\", \"#FECB52\"], \"font\": {\"color\": \"#2a3f5f\"}, \"geo\": {\"bgcolor\": \"white\", \"lakecolor\": \"white\", \"landcolor\": \"#E5ECF6\", \"showlakes\": true, \"showland\": true, \"subunitcolor\": \"white\"}, \"hoverlabel\": {\"align\": \"left\"}, \"hovermode\": \"closest\", \"mapbox\": {\"style\": \"light\"}, \"paper_bgcolor\": \"white\", \"plot_bgcolor\": \"#E5ECF6\", \"polar\": {\"angularaxis\": {\"gridcolor\": \"white\", \"linecolor\": \"white\", \"ticks\": \"\"}, \"bgcolor\": \"#E5ECF6\", \"radialaxis\": {\"gridcolor\": \"white\", \"linecolor\": \"white\", \"ticks\": \"\"}}, \"scene\": {\"xaxis\": {\"backgroundcolor\": \"#E5ECF6\", \"gridcolor\": \"white\", \"gridwidth\": 2, \"linecolor\": \"white\", \"showbackground\": true, \"ticks\": \"\", \"zerolinecolor\": \"white\"}, \"yaxis\": {\"backgroundcolor\": \"#E5ECF6\", \"gridcolor\": \"white\", \"gridwidth\": 2, \"linecolor\": \"white\", \"showbackground\": true, \"ticks\": \"\", \"zerolinecolor\": \"white\"}, \"zaxis\": {\"backgroundcolor\": \"#E5ECF6\", \"gridcolor\": \"white\", \"gridwidth\": 2, \"linecolor\": \"white\", \"showbackground\": true, \"ticks\": \"\", \"zerolinecolor\": \"white\"}}, \"shapedefaults\": {\"line\": {\"color\": \"#2a3f5f\"}}, \"ternary\": {\"aaxis\": {\"gridcolor\": \"white\", \"linecolor\": \"white\", \"ticks\": \"\"}, \"baxis\": {\"gridcolor\": \"white\", \"linecolor\": \"white\", \"ticks\": \"\"}, \"bgcolor\": \"#E5ECF6\", \"caxis\": {\"gridcolor\": \"white\", \"linecolor\": \"white\", \"ticks\": \"\"}}, \"title\": {\"x\": 0.05}, \"xaxis\": {\"automargin\": true, \"gridcolor\": \"white\", \"linecolor\": \"white\", \"ticks\": \"\", \"title\": {\"standoff\": 15}, \"zerolinecolor\": \"white\", \"zerolinewidth\": 2}, \"yaxis\": {\"automargin\": true, \"gridcolor\": \"white\", \"linecolor\": \"white\", \"ticks\": \"\", \"title\": {\"standoff\": 15}, \"zerolinecolor\": \"white\", \"zerolinewidth\": 2}}}},                        {\"responsive\": true}                    ).then(function(){\n",
       "                            \n",
       "var gd = document.getElementById('0162fbf1-42e8-4aaa-a4a4-1ab9fafe4438');\n",
       "var x = new MutationObserver(function (mutations, observer) {{\n",
       "        var display = window.getComputedStyle(gd).display;\n",
       "        if (!display || display === 'none') {{\n",
       "            console.log([gd, 'removed!']);\n",
       "            Plotly.purge(gd);\n",
       "            observer.disconnect();\n",
       "        }}\n",
       "}});\n",
       "\n",
       "// Listen for the removal of the full notebook cells\n",
       "var notebookContainer = gd.closest('#notebook-container');\n",
       "if (notebookContainer) {{\n",
       "    x.observe(notebookContainer, {childList: true});\n",
       "}}\n",
       "\n",
       "// Listen for the clearing of the current output cell\n",
       "var outputEl = gd.closest('.output');\n",
       "if (outputEl) {{\n",
       "    x.observe(outputEl, {childList: true});\n",
       "}}\n",
       "\n",
       "                        })                };                });            </script>        </div>"
      ]
     },
     "metadata": {},
     "output_type": "display_data"
    }
   ],
   "source": [
    "#pie chart that represents the vaccine breakdown across several countries\n",
    "for index2 in df2.index.get_level_values(1): \n",
    "    labels = df2.index.get_level_values(1)\n",
    "    values = df2['total_vaccinations']  #may need to specify the specific row? \n",
    "vax_pie_fig = go.Figure(data = [go.Pie(labels = labels, values=values)])\n",
    "vax_pie_fig.show()"
   ]
  },
  {
   "cell_type": "code",
   "execution_count": 219,
   "metadata": {},
   "outputs": [],
   "source": [
    "\n",
    "app.layout = html.Div([\n",
    "\n",
    "    html.H1(\"COVID-19 Vaccination Progress\", style={'text-align': 'center'}),\n",
    "    \n",
    "    #div for vaccination bar graph \n",
    "    html.Div([\n",
    "        dcc.Graph(id='vaccination_bar', figure=vax_bar_fig),\n",
    "    ]),\n",
    "    \n",
    "    #div to place two models next to each other \n",
    "    html.Div([\n",
    "            #div for vaccine manufacturer pie chart \n",
    "             html.Div([\n",
    "                html.H4(\"Vaccination Manufacturers Worldwide\", style={'text-align': 'center'}), \n",
    "                dcc.Graph(id='manufacturer_pie', figure=vax_pie_fig),\n",
    "            ], className='six columns'),\n",
    "\n",
    "             #div for vaccination map graph \n",
    "            html.Div([\n",
    "                html.H4(\"Total Vaccinations Worldwide\", style={'text-align': 'center'}), \n",
    "                dcc.Graph(id='vaccination_map', figure=map_fig),\n",
    "            ], className='six columns'),\n",
    "    ], className='row'),\n",
    "    \n",
    "    #div for the pie chart where user can pick country \n",
    "    html.Div([\n",
    "        \n",
    "        html.H4(\"Vaccination Manufacturers by Country\", style={'text-align': 'center'}), \n",
    "        \n",
    "        html.Div([\n",
    "            dcc.Dropdown(id=\"country_manufacturer\", \n",
    "                        options=[{\"label\": 'Chile', \"value\": 'Chile'}, {\"label\": 'Czechia', \"value\": 'Czechia'}, {\"label\": 'France', \"value\": 'France'}, \n",
    "                                 {\"label\": 'Germany', \"value\": 'Germany'}, {\"label\": 'Iceland', \"value\": 'Iceland'}, {\"label\": 'Italy', \"value\": 'Italy'}, \n",
    "                                 {\"label\": 'Latvia', \"value\": 'Latvia'}, {\"label\": 'Lithuania', \"value\": 'Lithuania'}, {\"label\": 'Romania', \"value\": 'Romania'}, \n",
    "                                 {\"label\": 'United States', \"value\": 'United States'}], \n",
    "                        multi=False,\n",
    "                        value=\"Chile\",\n",
    "                        style={'width': \"40%\"}\n",
    "            ),\n",
    "        ]),\n",
    "        \n",
    "        html.Div(id='pie_container', children=[]),\n",
    "                    \n",
    "        dcc.Graph(id='country_manufacturer_pie', figure={}),\n",
    "    ]),\n",
    "    \n",
    "    \n",
    "    #div with drop down of each country to choose from \n",
    "    html.Div([\n",
    "        \n",
    "         html.H4(\"Daily Vaccinations by Country\", style={'text-align': 'center'}), \n",
    "        \n",
    "        dcc.Dropdown(id=\"slct_country\",\n",
    "                 options=[\n",
    "                     {\"label\": \"Afghanistan\", \"value\": \"Afghanistan\"},{\"label\": \"Albania\", \"value\": \"Albania\"},{\"label\": \"Algeria\", \"value\": \"Algeria\"},{\"label\": \"Andorra\", \"value\": \"Andorra\"},{\"label\": 'Angola' , \"value\": 'Angola'}, {\"label\": 'Anguilla', \"value\": 'Anguilla'}, \n",
    "                     {\"label\": 'Antigua and Barbuda', \"value\": 'Antigua and Barbuda'}, {\"label\": 'Argentina', \"value\": 'Argentina'}, \n",
    "                     {\"label\": 'Aruba', \"value\": 'Aruba'},  {\"label\": 'Australia', \"value\":'Australia'}, {\"label\": 'Austria', \"value\": 'Austria'},\n",
    "                     {\"label\": 'Azerbaijan', \"value\": 'Azerbaijan'},  {\"label\": 'Bahamas', \"value\": 'Bahamas'},  {\"label\": 'Bahrain', \"value\": 'Bahrain'},  {\"label\": 'Bangladesh', \"value\": 'Bangladesh'}, \n",
    "                     {\"label\": 'Barbados', \"value\": 'Barbados'},  {\"label\": 'Belarus', \"value\":'Belarus'},  {\"label\": 'Belgium', \"value\": 'Belgium'},  {\"label\": 'Belize', \"value\": 'Belize'}, \n",
    "                     {\"label\": 'Bermuda', \"value\": 'Bermuda'},  {\"label\": 'Bhutan', \"value\": 'Bhutan'},  {\"label\": 'Bolivia', \"value\": 'Bolivia'},  {\"label\": 'Bosnia and Herzegovina', \"value\": 'Bosnia and Herzegovina'}, \n",
    "                     {\"label\": 'Botswana', \"value\": 'Botswana'}, {\"label\": 'Brazil', \"value\": 'Brazil'}, {\"label\": 'Brunei', \"value\": 'Brunei'}, {\"label\": 'Bulgaria', \"value\": 'Bulgaria'}, \n",
    "                     {\"label\": 'Cambodia', \"value\": 'Cambodia'}, {\"label\": 'Cameroon', \"value\": 'Cameroon'}, {\"label\": 'Canada', \"value\": 'Canada'}, {\"label\": 'Cape Verde', \"value\": 'Cape Verde'}, \n",
    "                     {\"label\": 'Cayman Islands', \"value\": 'Cayman Islands'}, {\"label\": 'Cayman Islands', \"value\": 'Cayman Islands'}, {\"label\": 'Chile', \"value\": 'Chile'}, {\"label\": 'China', \"value\": 'China'}, \n",
    "                     {\"label\": 'Colombia', \"value\": 'Colombia'}, {\"label\": 'Costa Rica', \"value\": 'Costa Rica'}, {\"label\": \"Cote d'Ivoire\", \"value\": \"Cote d'Ivoire\"}, {\"label\": 'Croatia', \"value\": 'Croatia'},\n",
    "                     {\"label\": 'Curacao', \"value\": 'Curacao'}, {\"label\": 'Cyprus', \"value\": 'Cyprus'}, {\"label\": 'Czechia', \"value\": 'Czechia'}, {\"label\": 'Democratic Republic of Congo', \"value\": 'Democratic Republic of Congo'}, \n",
    "                     {\"label\": 'Denmark', \"value\": 'Denmark'}, {\"label\": 'Dominica', \"value\": 'Dominica'}, {\"label\": 'Dominican Republic', \"value\": 'Dominican Republic'}, {\"label\": 'Ecuador', \"value\": 'Ecuador'},\n",
    "                     {\"label\": 'Egypt', \"value\": 'Egypt'}, {\"label\": 'El Salvador', \"value\": 'El Salvador'}, {\"label\": 'England', \"value\": 'England'}, {\"label\": 'Equatorial Guinea', \"value\": 'Equatorial Guinea'}, \n",
    "                     {\"label\": 'Estonia', \"value\": 'Estonia'}, {\"label\": 'Eswatini', \"value\": 'Eswatini'}, {\"label\": 'Ethiopia', \"value\": 'Ethiopia'}, {\"label\": 'Faeroe Islands', \"value\": 'Faeroe Islands'}, \n",
    "                     {\"label\": 'Falkland Islands', \"value\": 'Falkland Islands'}, {\"label\": 'Fiji', \"value\": 'Fiji'}, {\"label\": 'Finland', \"value\": 'Finland'}, {\"label\": 'France', \"value\": 'France'}, \n",
    "                     {\"label\": 'Gabon', \"value\": 'Gabon'}, {\"label\": 'Gambia', \"value\": 'Gambia'}, {\"label\": 'Georgia', \"value\": 'Georgia'}, {\"label\": 'Germany', \"value\": 'Germany'}, \n",
    "                     {\"label\": 'Ghana', \"value\": 'Ghana'}, {\"label\": 'Gibraltar', \"value\": 'Gibraltar'}, {\"label\": 'Greece', \"value\": 'Greece'}, {\"label\": 'Greenland', \"value\": 'Greenland'}, \n",
    "                     {\"label\": 'Grenada', \"value\": 'Grenada'}, {\"label\": 'Guatemala', \"value\": 'Guatemala'}, {\"label\": 'Guernsey', \"value\":'Guernsey' }, {\"label\": 'Guinea', \"value\": 'Guinea'}, \n",
    "                     {\"label\": 'Guyana', \"value\": 'Guyana'}, {\"label\": 'Honduras', \"value\": 'Honduras'}, {\"label\": 'Hong Kong', \"value\": 'Hong Kong'}, {\"label\": 'Hungary', \"value\": 'Hungary'}, \n",
    "                     {\"label\": 'Iceland', \"value\": 'Iceland'}, {\"label\": 'India', \"value\": 'India'}, {\"label\": 'Indonesia', \"value\": 'Indonesia'}, {\"label\": 'Iran', \"value\": 'Iran'}, \n",
    "                     {\"label\": 'Iraq', \"value\": 'Iraq'}, {\"label\": 'Ireland', \"value\": 'Ireland'}, {\"label\": 'Isle of Man', \"value\": 'Isle of Man'}, {\"label\": 'Israel', \"value\": 'Israel'}, \n",
    "                     {\"label\": 'Italy', \"value\": 'Italy'}, {\"label\": 'Jamaica', \"value\": 'Jamaica'}, {\"label\": 'Japan', \"value\": 'Japan'}, {\"label\": 'Jersey', \"value\": 'Jersey'}, \n",
    "                     {\"label\": 'Jordan', \"value\": 'Jordan'}, {\"label\": 'Kazakhstan', \"value\": 'Kazakhstan'}, {\"label\": 'Kenya', \"value\": 'Kenya'}, {\"label\": 'Kosovo', \"value\": 'Kosovo'}, \n",
    "                     {\"label\": 'Kuwait', \"value\": 'Kuwait'}, {\"label\": 'Kyrgyzstan', \"value\": 'Kyrgyzstan'}, {\"label\": 'Laos', \"value\": 'Laos'}, {\"label\": 'Latvia', \"value\": 'Latvia'}, \n",
    "                     {\"label\": 'Lebanon', \"value\": 'Lebanon'}, {\"label\": 'Lesotho', \"value\": 'Lesotho'}, {\"label\": 'Liechtenstein', \"value\": 'Liechtenstein'}, {\"label\": 'Lithuania', \"value\": 'Lithuania'}, \n",
    "                     {\"label\": 'Luxembourg', \"value\": 'Luxembourg'}, {\"label\": 'Macao', \"value\": 'Macao'}, {\"label\": 'Malawi', \"value\": 'Malawi'}, {\"label\": 'Malaysia', \"value\": 'Malaysia'}, \n",
    "                     {\"label\": 'Maldives', \"value\": 'Maldives'}, {\"label\": 'Mali', \"value\": 'Mali'}, {\"label\": 'Malta', \"value\": 'Malta'}, {\"label\": 'Mauritania', \"value\": 'Mauritania'}, \n",
    "                     {\"label\": 'Mauritius', \"value\": 'Mauritius'}, {\"label\": 'Mexico', \"value\": 'Mexico'}, {\"label\": 'Moldova', \"value\": 'Moldova'}, {\"label\": 'Monaco', \"value\": 'Monaco'}, \n",
    "                     {\"label\": 'Mongolia', \"value\": 'Mongolia'}, {\"label\": 'Montenegro', \"value\": 'Montenegro'}, {\"label\": 'Montserrat', \"value\": 'Montserrat'}, {\"label\": 'Morocco', \"value\": 'Morocco'}, \n",
    "                     {\"label\": 'Mozambique', \"value\": 'Mozambique'}, {\"label\": 'Myanmar', \"value\": 'Myanmar'}, {\"label\": 'Namibia', \"value\": 'Namibia'}, {\"label\": 'Nauru', \"value\": 'Nauru'}, \n",
    "                     {\"label\": 'Nepal', \"value\": 'Nepal'}, {\"label\":'Netherlands', \"value\":'Netherlands'}, {\"label\": 'New Zealand', \"value\": 'New Zealand'}, {\"label\": 'Nicaragua', \"value\": 'Nicaragua'}, \n",
    "                     {\"label\": 'Niger', \"value\": 'Niger'}, {\"label\": 'Nigeria', \"value\": 'Nigeria'}, {\"label\": 'North Macedonia', \"value\": 'North Macedonia'}, {\"label\": 'Northern Cyprus', \"value\": 'Northern Cyprus'}, \n",
    "                     {\"label\": 'Northern Ireland', \"value\": 'Northern Ireland'}, {\"label\": 'Norway', \"value\": 'Norway'}, {\"label\": 'Oman', \"value\": 'Oman'}, {\"label\": 'Pakistan', \"value\": 'Pakistan'}, \n",
    "                     {\"label\": 'Palestine', \"value\": 'Palestine'}, {\"label\": 'Panama', \"value\": 'Panama'}, {\"label\": 'Papua New Guinea', \"value\": 'Papua New Guinea'}, {\"label\": 'Paraguay', \"value\": 'Paraguay'}, \n",
    "                     {\"label\": 'Peru', \"value\": 'Peru'}, {\"label\": 'Philippines', \"value\": 'Philippines'}, {\"label\": 'Poland', \"value\": 'Poland'}, {\"label\": 'Portugal', \"value\": 'Portugal'}, \n",
    "                     {\"label\": 'Qatar', \"value\": 'Qatar'}, {\"label\": 'Romania', \"value\": 'Romania'}, {\"label\": 'Russia', \"value\": 'Russia'}, {\"label\": 'Rwanda', \"value\": 'Rwanda'}, \n",
    "                     {\"label\": 'Saint Helena', \"value\": 'Saint Helena'}, {\"label\": 'Saint Kitts and Nevis', \"value\": 'Saint Kitts and Nevis'}, {\"label\": 'Saint Lucia', \"value\": 'Saint Lucia'}, {\"label\": 'Saint Vincent and the Grenadines', \"value\": 'Saint Vincent and the Grenadines'}, \n",
    "                     {\"label\": 'Samoa', \"value\": 'Samoa'}, {\"label\": 'San Marino', \"value\": 'San Marino'}, {\"label\": 'Sao Tome and Principe', \"value\": 'Sao Tome and Principe'}, {\"label\": 'Saudi Arabia', \"value\": 'Saudi Arabia'}, \n",
    "                     {\"label\": 'Scotland', \"value\": 'Scotland'}, {\"label\": 'Senegal', \"value\": 'Senegal'}, {\"label\": 'Serbia', \"value\": 'Serbia'}, {\"label\": 'Seychelles', \"value\": 'Seychelles'}, \n",
    "                     {\"label\": 'Sierra Leone', \"value\": 'Sierra Leone'}, {\"label\": 'Singapore', \"value\": 'Singapore'}, {\"label\": 'Slovakia', \"value\": 'Slovakia'}, {\"label\": 'Slovenia', \"value\": 'Slovenia'}, \n",
    "                     {\"label\": 'Solomon Islands', \"value\": 'Solomon Islands'}, {\"label\": 'South Africa', \"value\": 'South Africa'}, {\"label\": 'South Korea', \"value\": 'South Korea'}, {\"label\": 'South Sudan', \"value\": 'South Sudan'}, \n",
    "                     {\"label\": 'Spain', \"value\": 'Spain'}, {\"label\": 'Sri Lanka', \"value\": 'Sri Lanka'}, {\"label\": 'Sudan', \"value\": 'Sudan'}, {\"label\": 'Suriname', \"value\": 'Suriname'}, \n",
    "                     {\"label\": 'Sweden', \"value\": 'Sweden'}, {\"label\": 'Switzerland', \"value\": 'Switzerland'}, {\"label\": 'Syria', \"value\": 'Syria'}, {\"label\": 'Taiwan', \"value\": 'Taiwan'}, \n",
    "                     {\"label\": 'Thailand', \"value\": 'Thailand'}, {\"label\": 'Togo', \"value\": 'Togo'}, {\"label\": 'Tonga', \"value\": 'Tonga'}, {\"label\": 'Trinidad and Tobago', \"value\": 'Trinidad and Tobago'}, \n",
    "                     {\"label\": 'Tunisia', \"value\": 'Tunisia'}, {\"label\": 'Turkey', \"value\": 'Turkey'}, {\"label\": 'Turks and Caicos Islands', \"value\": 'Turks and Caicos Islands'}, {\"label\": 'Uganda', \"value\": 'Uganda'}, \n",
    "                     {\"label\": 'Ukraine', \"value\": 'Ukraine'}, {\"label\": 'United Arab Emirates', \"value\": 'United Arab Emirates'}, {\"label\": 'United Kingdom', \"value\": 'United Kingdom'}, {\"label\": 'United States', \"value\": 'United States'}, \n",
    "                     {\"label\": 'Uruguay', \"value\": 'Uruguay'}, {\"label\": 'Uzbekistan', \"value\": 'Uzbekistan'}, {\"label\": 'Venezuela', \"value\": 'Venezuela'}, {\"label\": 'Vietnam', \"value\": 'Vietnam'}, \n",
    "                     {\"label\": 'Wales', \"value\": 'Wales'}, {\"label\": 'Zambia', \"value\": 'Zambia'}, {\"label\": 'Zimbabwe', \"value\": 'Zimbabwe'}], \n",
    "\n",
    "                 multi=False,\n",
    "                 value=\"Afghanistan\",\n",
    "                 style={'width': \"40%\"}\n",
    "                 ),\n",
    "        \n",
    "        html.Div(id='output_container', children=[]),\n",
    "        \n",
    "        #graph \n",
    "        dcc.Graph(id='daily_vax_line', figure={}),\n",
    "        \n",
    "    ]),\n",
    "    \n",
    "    \n",
    "])"
   ]
  },
  {
   "cell_type": "code",
   "execution_count": 220,
   "metadata": {},
   "outputs": [],
   "source": [
    "@app.callback(\n",
    "    [Output(component_id='output_container', component_property='children'),\n",
    "     Output(component_id='daily_vax_line', component_property='figure')],\n",
    "    [Input(component_id='slct_country', component_property='value')]\n",
    ")\n",
    "\n",
    "def update_graph(option_slctd):\n",
    "\n",
    "    container = \"The country you chose was: {}\".format(option_slctd)\n",
    "\n",
    "    dff = df.copy()\n",
    "    dff = dff[dff[\"country\"] == option_slctd]\n",
    "    \n",
    "    line_fig = px.line(dff, x=\"date\", y=\"daily_vaccinations\", title='Daily Vaccinations in {0}'.format(option_slctd))\n",
    "    \n",
    "    return container, line_fig\n",
    "\n"
   ]
  },
  {
   "cell_type": "code",
   "execution_count": 221,
   "metadata": {},
   "outputs": [],
   "source": [
    "@app.callback(\n",
    "    [Output(component_id='pie_container', component_property='children'),\n",
    "     Output(component_id='country_manufacturer_pie', component_property='figure')],\n",
    "    [Input(component_id=\"country_manufacturer\", component_property='value')]\n",
    ")\n",
    "\n",
    "def update_pie(country_selection): \n",
    "    container = \"The country you chose was: {}\".format(country_selection)\n",
    "    \n",
    "    country_vax = vax_countries.copy() \n",
    "    country_vax = country_vax[country_vax['location'] == country_selection]\n",
    "    \n",
    "    labels = country_vax['vaccine']\n",
    "    values = country_vax['total_vaccinations'] \n",
    "    \n",
    "    manufacturer_pie_fig = go.Figure(data = [go.Pie(labels = labels, values=values)])\n",
    "    \n",
    "    return container, manufacturer_pie_fig\n",
    "    \n",
    "    "
   ]
  },
  {
   "cell_type": "code",
   "execution_count": 222,
   "metadata": {},
   "outputs": [
    {
     "name": "stdout",
     "output_type": "stream",
     "text": [
      "Dash app running on http://127.0.0.1:8050/\n"
     ]
    }
   ],
   "source": [
    "app.run_server(mode='external')"
   ]
  },
  {
   "cell_type": "code",
   "execution_count": null,
   "metadata": {},
   "outputs": [],
   "source": []
  },
  {
   "cell_type": "code",
   "execution_count": null,
   "metadata": {},
   "outputs": [],
   "source": []
  }
 ],
 "metadata": {
  "kernelspec": {
   "display_name": "Python 3",
   "language": "python",
   "name": "python3"
  },
  "language_info": {
   "codemirror_mode": {
    "name": "ipython",
    "version": 3
   },
   "file_extension": ".py",
   "mimetype": "text/x-python",
   "name": "python",
   "nbconvert_exporter": "python",
   "pygments_lexer": "ipython3",
   "version": "3.8.3"
  }
 },
 "nbformat": 4,
 "nbformat_minor": 4
}
