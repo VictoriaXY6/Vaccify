{
 "metadata": {
  "language_info": {
   "codemirror_mode": {
    "name": "ipython",
    "version": 3
   },
   "file_extension": ".py",
   "mimetype": "text/x-python",
   "name": "python",
   "nbconvert_exporter": "python",
   "pygments_lexer": "ipython3",
   "version": "3.8.5"
  },
  "orig_nbformat": 2,
  "kernelspec": {
   "name": "python385jvsc74a57bd031f2aee4e71d21fbe5cf8b01ff0e069b9275f58929596ceb00d14d90e3e16cd6",
   "display_name": "Python 3.8.5 64-bit"
  },
  "metadata": {
   "interpreter": {
    "hash": "31f2aee4e71d21fbe5cf8b01ff0e069b9275f58929596ceb00d14d90e3e16cd6"
   }
  }
 },
 "nbformat": 4,
 "nbformat_minor": 2,
 "cells": [
  {
   "cell_type": "code",
   "execution_count": 75,
   "metadata": {},
   "outputs": [],
   "source": [
    "import numpy as np # linear algebra\n",
    "import pandas as pd # data processing, CSV file I/O (e.g. pd.read_csv)\n",
    "import matplotlib.pyplot as plt\n",
    "import seaborn as sns\n",
    "import plotly\n",
    "import plotly.express as px"
   ]
  },
  {
   "cell_type": "code",
   "execution_count": 83,
   "metadata": {},
   "outputs": [
    {
     "output_type": "display_data",
     "data": {
      "text/plain": "           country  iso_code        date  total_vaccinations  \\\n59     Afghanistan       AFG  2021-04-22            240000.0   \n175        Albania       ALB  2021-05-05            556584.0   \n197        Algeria       DZA  2021-02-19             75000.0   \n296        Andorra       AND  2021-05-03             28881.0   \n350         Angola       AGO  2021-04-23            456349.0   \n...            ...       ...         ...                 ...   \n15225    Venezuela       VEN  2021-04-12            250000.0   \n15284      Vietnam       VNM  2021-05-04            585539.0   \n15406        Wales  OWID_WLS  2021-05-04           2656272.0   \n15428       Zambia       ZMB  2021-05-05             58982.0   \n15504     Zimbabwe       ZWE  2021-05-04            559777.0   \n\n       people_vaccinated  people_fully_vaccinated  daily_vaccinations_raw  \\\n59              240000.0                      NaN                     NaN   \n175                  NaN                      NaN                 19197.0   \n197                  NaN                      NaN                     NaN   \n296              24182.0                   4699.0                     NaN   \n350             456349.0                      NaN                     NaN   \n...                  ...                      ...                     ...   \n15225           250000.0                      NaN                     NaN   \n15284           585539.0                      NaN                     NaN   \n15406          1873152.0                 783120.0                 19345.0   \n15428            58982.0                      NaN                  7198.0   \n15504           452191.0                 107586.0                 22261.0   \n\n       daily_vaccinations  total_vaccinations_per_hundred  \\\n59                 8000.0                            0.62   \n175               17565.0                           19.34   \n197                3748.0                            0.17   \n296                  54.0                           37.38   \n350               16736.0                            1.39   \n...                   ...                             ...   \n15225             15200.0                            0.88   \n15284             38107.0                            0.60   \n15406             20060.0                           84.25   \n15428              5295.0                            0.32   \n15504             17977.0                            3.77   \n\n       people_vaccinated_per_hundred  people_fully_vaccinated_per_hundred  \\\n59                              0.62                                  NaN   \n175                              NaN                                  NaN   \n197                              NaN                                  NaN   \n296                            31.30                                 6.08   \n350                             1.39                                  NaN   \n...                              ...                                  ...   \n15225                           0.88                                  NaN   \n15284                           0.60                                  NaN   \n15406                          59.41                                24.84   \n15428                           0.32                                  NaN   \n15504                           3.04                                 0.72   \n\n       daily_vaccinations_per_million  \\\n59                              206.0   \n175                            6104.0   \n197                              85.0   \n296                             699.0   \n350                             509.0   \n...                               ...   \n15225                           535.0   \n15284                           391.0   \n15406                          6362.0   \n15428                           288.0   \n15504                          1210.0   \n\n                                                vaccines  \\\n59                                    Oxford/AstraZeneca   \n175    Oxford/AstraZeneca, Pfizer/BioNTech, Sinovac, ...   \n197                                            Sputnik V   \n296                  Oxford/AstraZeneca, Pfizer/BioNTech   \n350                                   Oxford/AstraZeneca   \n...                                                  ...   \n15225                                          Sputnik V   \n15284                                 Oxford/AstraZeneca   \n15406       Moderna, Oxford/AstraZeneca, Pfizer/BioNTech   \n15428                                 Oxford/AstraZeneca   \n15504                                  Sinopharm/Beijing   \n\n                            source_name  \\\n59            Government of Afghanistan   \n175                  Ministry of Health   \n197                  Ministry of Health   \n296               Government of Andorra   \n350                  Ministry of Health   \n...                                 ...   \n15225           Government of Venezuela   \n15284             Government of Vietnam   \n15406  Government of the United Kingdom   \n15428              Government of Zambia   \n15504                Ministry of Health   \n\n                                          source_website  \n59     https://reliefweb.int/report/afghanistan/afgha...  \n175    https://twitter.com/gmanastirliu/status/138999...  \n197    https://www.echoroukonline.com/%d9%84%d9%82%d8...  \n296            https://www.govern.ad/covid19_newsletter/  \n350    https://www.angop.ao/en/noticias/saude/covid-1...  \n...                                                  ...  \n15225  https://www.swissinfo.ch/spa/coronavirus-venez...  \n15284  https://ncov.moh.gov.vn/vi/web/guest/-/6847426...  \n15406  https://coronavirus.data.gov.uk/details/health...  \n15428  https://www.facebook.com/mohzambia/photos/a.13...  \n15504  https://twitter.com/MoHCCZim/status/1389675251...  \n\n[195 rows x 15 columns]",
      "text/html": "<div>\n<style scoped>\n    .dataframe tbody tr th:only-of-type {\n        vertical-align: middle;\n    }\n\n    .dataframe tbody tr th {\n        vertical-align: top;\n    }\n\n    .dataframe thead th {\n        text-align: right;\n    }\n</style>\n<table border=\"1\" class=\"dataframe\">\n  <thead>\n    <tr style=\"text-align: right;\">\n      <th></th>\n      <th>country</th>\n      <th>iso_code</th>\n      <th>date</th>\n      <th>total_vaccinations</th>\n      <th>people_vaccinated</th>\n      <th>people_fully_vaccinated</th>\n      <th>daily_vaccinations_raw</th>\n      <th>daily_vaccinations</th>\n      <th>total_vaccinations_per_hundred</th>\n      <th>people_vaccinated_per_hundred</th>\n      <th>people_fully_vaccinated_per_hundred</th>\n      <th>daily_vaccinations_per_million</th>\n      <th>vaccines</th>\n      <th>source_name</th>\n      <th>source_website</th>\n    </tr>\n  </thead>\n  <tbody>\n    <tr>\n      <th>59</th>\n      <td>Afghanistan</td>\n      <td>AFG</td>\n      <td>2021-04-22</td>\n      <td>240000.0</td>\n      <td>240000.0</td>\n      <td>NaN</td>\n      <td>NaN</td>\n      <td>8000.0</td>\n      <td>0.62</td>\n      <td>0.62</td>\n      <td>NaN</td>\n      <td>206.0</td>\n      <td>Oxford/AstraZeneca</td>\n      <td>Government of Afghanistan</td>\n      <td>https://reliefweb.int/report/afghanistan/afgha...</td>\n    </tr>\n    <tr>\n      <th>175</th>\n      <td>Albania</td>\n      <td>ALB</td>\n      <td>2021-05-05</td>\n      <td>556584.0</td>\n      <td>NaN</td>\n      <td>NaN</td>\n      <td>19197.0</td>\n      <td>17565.0</td>\n      <td>19.34</td>\n      <td>NaN</td>\n      <td>NaN</td>\n      <td>6104.0</td>\n      <td>Oxford/AstraZeneca, Pfizer/BioNTech, Sinovac, ...</td>\n      <td>Ministry of Health</td>\n      <td>https://twitter.com/gmanastirliu/status/138999...</td>\n    </tr>\n    <tr>\n      <th>197</th>\n      <td>Algeria</td>\n      <td>DZA</td>\n      <td>2021-02-19</td>\n      <td>75000.0</td>\n      <td>NaN</td>\n      <td>NaN</td>\n      <td>NaN</td>\n      <td>3748.0</td>\n      <td>0.17</td>\n      <td>NaN</td>\n      <td>NaN</td>\n      <td>85.0</td>\n      <td>Sputnik V</td>\n      <td>Ministry of Health</td>\n      <td>https://www.echoroukonline.com/%d9%84%d9%82%d8...</td>\n    </tr>\n    <tr>\n      <th>296</th>\n      <td>Andorra</td>\n      <td>AND</td>\n      <td>2021-05-03</td>\n      <td>28881.0</td>\n      <td>24182.0</td>\n      <td>4699.0</td>\n      <td>NaN</td>\n      <td>54.0</td>\n      <td>37.38</td>\n      <td>31.30</td>\n      <td>6.08</td>\n      <td>699.0</td>\n      <td>Oxford/AstraZeneca, Pfizer/BioNTech</td>\n      <td>Government of Andorra</td>\n      <td>https://www.govern.ad/covid19_newsletter/</td>\n    </tr>\n    <tr>\n      <th>350</th>\n      <td>Angola</td>\n      <td>AGO</td>\n      <td>2021-04-23</td>\n      <td>456349.0</td>\n      <td>456349.0</td>\n      <td>NaN</td>\n      <td>NaN</td>\n      <td>16736.0</td>\n      <td>1.39</td>\n      <td>1.39</td>\n      <td>NaN</td>\n      <td>509.0</td>\n      <td>Oxford/AstraZeneca</td>\n      <td>Ministry of Health</td>\n      <td>https://www.angop.ao/en/noticias/saude/covid-1...</td>\n    </tr>\n    <tr>\n      <th>...</th>\n      <td>...</td>\n      <td>...</td>\n      <td>...</td>\n      <td>...</td>\n      <td>...</td>\n      <td>...</td>\n      <td>...</td>\n      <td>...</td>\n      <td>...</td>\n      <td>...</td>\n      <td>...</td>\n      <td>...</td>\n      <td>...</td>\n      <td>...</td>\n      <td>...</td>\n    </tr>\n    <tr>\n      <th>15225</th>\n      <td>Venezuela</td>\n      <td>VEN</td>\n      <td>2021-04-12</td>\n      <td>250000.0</td>\n      <td>250000.0</td>\n      <td>NaN</td>\n      <td>NaN</td>\n      <td>15200.0</td>\n      <td>0.88</td>\n      <td>0.88</td>\n      <td>NaN</td>\n      <td>535.0</td>\n      <td>Sputnik V</td>\n      <td>Government of Venezuela</td>\n      <td>https://www.swissinfo.ch/spa/coronavirus-venez...</td>\n    </tr>\n    <tr>\n      <th>15284</th>\n      <td>Vietnam</td>\n      <td>VNM</td>\n      <td>2021-05-04</td>\n      <td>585539.0</td>\n      <td>585539.0</td>\n      <td>NaN</td>\n      <td>NaN</td>\n      <td>38107.0</td>\n      <td>0.60</td>\n      <td>0.60</td>\n      <td>NaN</td>\n      <td>391.0</td>\n      <td>Oxford/AstraZeneca</td>\n      <td>Government of Vietnam</td>\n      <td>https://ncov.moh.gov.vn/vi/web/guest/-/6847426...</td>\n    </tr>\n    <tr>\n      <th>15406</th>\n      <td>Wales</td>\n      <td>OWID_WLS</td>\n      <td>2021-05-04</td>\n      <td>2656272.0</td>\n      <td>1873152.0</td>\n      <td>783120.0</td>\n      <td>19345.0</td>\n      <td>20060.0</td>\n      <td>84.25</td>\n      <td>59.41</td>\n      <td>24.84</td>\n      <td>6362.0</td>\n      <td>Moderna, Oxford/AstraZeneca, Pfizer/BioNTech</td>\n      <td>Government of the United Kingdom</td>\n      <td>https://coronavirus.data.gov.uk/details/health...</td>\n    </tr>\n    <tr>\n      <th>15428</th>\n      <td>Zambia</td>\n      <td>ZMB</td>\n      <td>2021-05-05</td>\n      <td>58982.0</td>\n      <td>58982.0</td>\n      <td>NaN</td>\n      <td>7198.0</td>\n      <td>5295.0</td>\n      <td>0.32</td>\n      <td>0.32</td>\n      <td>NaN</td>\n      <td>288.0</td>\n      <td>Oxford/AstraZeneca</td>\n      <td>Government of Zambia</td>\n      <td>https://www.facebook.com/mohzambia/photos/a.13...</td>\n    </tr>\n    <tr>\n      <th>15504</th>\n      <td>Zimbabwe</td>\n      <td>ZWE</td>\n      <td>2021-05-04</td>\n      <td>559777.0</td>\n      <td>452191.0</td>\n      <td>107586.0</td>\n      <td>22261.0</td>\n      <td>17977.0</td>\n      <td>3.77</td>\n      <td>3.04</td>\n      <td>0.72</td>\n      <td>1210.0</td>\n      <td>Sinopharm/Beijing</td>\n      <td>Ministry of Health</td>\n      <td>https://twitter.com/MoHCCZim/status/1389675251...</td>\n    </tr>\n  </tbody>\n</table>\n<p>195 rows × 15 columns</p>\n</div>"
     },
     "metadata": {}
    }
   ],
   "source": [
    "#reading dataset vaccination progress\n",
    "df = pd.read_csv(\"covid_data/country_vaccinations.csv\")\n",
    "\n",
    "#keep unique record by country\n",
    "dfvac = df.drop_duplicates('country', keep ='last')\n",
    "display(dfvac)"
   ]
  },
  {
   "cell_type": "code",
   "execution_count": 77,
   "metadata": {},
   "outputs": [
    {
     "output_type": "execute_result",
     "data": {
      "text/plain": [
       "  Country (or dependency)  Population (2020) Yearly Change  Net Change  \\\n",
       "0                   China         1440297825        0.39 %     5540090   \n",
       "1                   India         1382345085        0.99 %    13586631   \n",
       "2           United States          331341050        0.59 %     1937734   \n",
       "3               Indonesia          274021604        1.07 %     2898047   \n",
       "4                Pakistan          221612785        2.00 %     4327022   \n",
       "\n",
       "   Density (P/Km²)  Land Area (Km²)  Migrants (net) Fert. Rate Med. Age  \\\n",
       "0              153          9388211       -348399.0        1.7       38   \n",
       "1              464          2973190       -532687.0        2.2       28   \n",
       "2               36          9147420        954806.0        1.8       38   \n",
       "3              151          1811570        -98955.0        2.3       30   \n",
       "4              287           770880       -233379.0        3.6       23   \n",
       "\n",
       "  Urban Pop % World Share  \n",
       "0        61 %     18.47 %  \n",
       "1        35 %     17.70 %  \n",
       "2        83 %      4.25 %  \n",
       "3        56 %      3.51 %  \n",
       "4        35 %      2.83 %  "
      ],
      "text/html": "<div>\n<style scoped>\n    .dataframe tbody tr th:only-of-type {\n        vertical-align: middle;\n    }\n\n    .dataframe tbody tr th {\n        vertical-align: top;\n    }\n\n    .dataframe thead th {\n        text-align: right;\n    }\n</style>\n<table border=\"1\" class=\"dataframe\">\n  <thead>\n    <tr style=\"text-align: right;\">\n      <th></th>\n      <th>Country (or dependency)</th>\n      <th>Population (2020)</th>\n      <th>Yearly Change</th>\n      <th>Net Change</th>\n      <th>Density (P/Km²)</th>\n      <th>Land Area (Km²)</th>\n      <th>Migrants (net)</th>\n      <th>Fert. Rate</th>\n      <th>Med. Age</th>\n      <th>Urban Pop %</th>\n      <th>World Share</th>\n    </tr>\n  </thead>\n  <tbody>\n    <tr>\n      <th>0</th>\n      <td>China</td>\n      <td>1440297825</td>\n      <td>0.39 %</td>\n      <td>5540090</td>\n      <td>153</td>\n      <td>9388211</td>\n      <td>-348399.0</td>\n      <td>1.7</td>\n      <td>38</td>\n      <td>61 %</td>\n      <td>18.47 %</td>\n    </tr>\n    <tr>\n      <th>1</th>\n      <td>India</td>\n      <td>1382345085</td>\n      <td>0.99 %</td>\n      <td>13586631</td>\n      <td>464</td>\n      <td>2973190</td>\n      <td>-532687.0</td>\n      <td>2.2</td>\n      <td>28</td>\n      <td>35 %</td>\n      <td>17.70 %</td>\n    </tr>\n    <tr>\n      <th>2</th>\n      <td>United States</td>\n      <td>331341050</td>\n      <td>0.59 %</td>\n      <td>1937734</td>\n      <td>36</td>\n      <td>9147420</td>\n      <td>954806.0</td>\n      <td>1.8</td>\n      <td>38</td>\n      <td>83 %</td>\n      <td>4.25 %</td>\n    </tr>\n    <tr>\n      <th>3</th>\n      <td>Indonesia</td>\n      <td>274021604</td>\n      <td>1.07 %</td>\n      <td>2898047</td>\n      <td>151</td>\n      <td>1811570</td>\n      <td>-98955.0</td>\n      <td>2.3</td>\n      <td>30</td>\n      <td>56 %</td>\n      <td>3.51 %</td>\n    </tr>\n    <tr>\n      <th>4</th>\n      <td>Pakistan</td>\n      <td>221612785</td>\n      <td>2.00 %</td>\n      <td>4327022</td>\n      <td>287</td>\n      <td>770880</td>\n      <td>-233379.0</td>\n      <td>3.6</td>\n      <td>23</td>\n      <td>35 %</td>\n      <td>2.83 %</td>\n    </tr>\n  </tbody>\n</table>\n</div>"
     },
     "metadata": {},
     "execution_count": 77
    }
   ],
   "source": [
    "#reading dataset world population\n",
    "df3 = pd.read_csv(\"covid_data/population_by_country_2020.csv\")\n",
    "df3.head()"
   ]
  },
  {
   "cell_type": "code",
   "execution_count": 78,
   "metadata": {},
   "outputs": [
    {
     "output_type": "execute_result",
     "data": {
      "text/plain": [
       "         country iso_code        date  total_vaccinations  people_vaccinated  \\\n",
       "0          China      CHN  2021-05-05         289627000.0                NaN   \n",
       "1          India      IND  2021-05-05         159931238.0        129730641.0   \n",
       "2  United States      USA  2021-05-05         249566820.0        148562891.0   \n",
       "3      Indonesia      IDN  2021-05-04          20701804.0         12699568.0   \n",
       "4       Pakistan      PAK  2021-05-04           2967870.0                NaN   \n",
       "\n",
       "   people_fully_vaccinated  daily_vaccinations_raw  daily_vaccinations  \\\n",
       "0                      NaN               5032000.0           6531714.0   \n",
       "1               30200597.0               2180486.0           1839692.0   \n",
       "2              107346533.0               1797771.0           2132487.0   \n",
       "3                8002236.0                     NaN            210194.0   \n",
       "4                      NaN                     NaN            131600.0   \n",
       "\n",
       "   total_vaccinations_per_hundred  people_vaccinated_per_hundred  \\\n",
       "0                           20.12                            NaN   \n",
       "1                           11.59                           9.40   \n",
       "2                           74.62                          44.42   \n",
       "3                            7.57                           4.64   \n",
       "4                            1.34                            NaN   \n",
       "\n",
       "   people_fully_vaccinated_per_hundred  daily_vaccinations_per_million  \\\n",
       "0                                  NaN                          4538.0   \n",
       "1                                 2.19                          1333.0   \n",
       "2                                32.10                          6376.0   \n",
       "3                                 2.93                           768.0   \n",
       "4                                  NaN                           596.0   \n",
       "\n",
       "                                         vaccines  \\\n",
       "0     Sinopharm/Beijing, Sinopharm/Wuhan, Sinovac   \n",
       "1                     Covaxin, Oxford/AstraZeneca   \n",
       "2       Johnson&Johnson, Moderna, Pfizer/BioNTech   \n",
       "3                     Oxford/AstraZeneca, Sinovac   \n",
       "4  CanSino, Sinopharm/Beijing, Sinovac, Sputnik V   \n",
       "\n",
       "                                  source_name  \\\n",
       "0                  National Health Commission   \n",
       "1                         Government of India   \n",
       "2  Centers for Disease Control and Prevention   \n",
       "3                          Ministry of Health   \n",
       "4       National Command and Operation Centre   \n",
       "\n",
       "                                      source_website Country (or dependency)  \\\n",
       "0  http://www.nhc.gov.cn/xcs/yqjzqk/202105/c953cb...                   China   \n",
       "1                    https://dashboard.cowin.gov.in/                   India   \n",
       "2  https://covid.cdc.gov/covid-data-tracker/#vacc...           United States   \n",
       "3             https://vaksin.kemkes.go.id/#/vaccines               Indonesia   \n",
       "4  https://twitter.com/OfficialNcoc/status/138993...                Pakistan   \n",
       "\n",
       "   Population (2020) Yearly Change  Net Change  Density (P/Km²)  \\\n",
       "0         1440297825        0.39 %     5540090              153   \n",
       "1         1382345085        0.99 %    13586631              464   \n",
       "2          331341050        0.59 %     1937734               36   \n",
       "3          274021604        1.07 %     2898047              151   \n",
       "4          221612785        2.00 %     4327022              287   \n",
       "\n",
       "   Land Area (Km²)  Migrants (net) Fert. Rate Med. Age Urban Pop % World Share  \n",
       "0          9388211       -348399.0        1.7       38        61 %     18.47 %  \n",
       "1          2973190       -532687.0        2.2       28        35 %     17.70 %  \n",
       "2          9147420        954806.0        1.8       38        83 %      4.25 %  \n",
       "3          1811570        -98955.0        2.3       30        56 %      3.51 %  \n",
       "4           770880       -233379.0        3.6       23        35 %      2.83 %  "
      ],
      "text/html": "<div>\n<style scoped>\n    .dataframe tbody tr th:only-of-type {\n        vertical-align: middle;\n    }\n\n    .dataframe tbody tr th {\n        vertical-align: top;\n    }\n\n    .dataframe thead th {\n        text-align: right;\n    }\n</style>\n<table border=\"1\" class=\"dataframe\">\n  <thead>\n    <tr style=\"text-align: right;\">\n      <th></th>\n      <th>country</th>\n      <th>iso_code</th>\n      <th>date</th>\n      <th>total_vaccinations</th>\n      <th>people_vaccinated</th>\n      <th>people_fully_vaccinated</th>\n      <th>daily_vaccinations_raw</th>\n      <th>daily_vaccinations</th>\n      <th>total_vaccinations_per_hundred</th>\n      <th>people_vaccinated_per_hundred</th>\n      <th>people_fully_vaccinated_per_hundred</th>\n      <th>daily_vaccinations_per_million</th>\n      <th>vaccines</th>\n      <th>source_name</th>\n      <th>source_website</th>\n      <th>Country (or dependency)</th>\n      <th>Population (2020)</th>\n      <th>Yearly Change</th>\n      <th>Net Change</th>\n      <th>Density (P/Km²)</th>\n      <th>Land Area (Km²)</th>\n      <th>Migrants (net)</th>\n      <th>Fert. Rate</th>\n      <th>Med. Age</th>\n      <th>Urban Pop %</th>\n      <th>World Share</th>\n    </tr>\n  </thead>\n  <tbody>\n    <tr>\n      <th>0</th>\n      <td>China</td>\n      <td>CHN</td>\n      <td>2021-05-05</td>\n      <td>289627000.0</td>\n      <td>NaN</td>\n      <td>NaN</td>\n      <td>5032000.0</td>\n      <td>6531714.0</td>\n      <td>20.12</td>\n      <td>NaN</td>\n      <td>NaN</td>\n      <td>4538.0</td>\n      <td>Sinopharm/Beijing, Sinopharm/Wuhan, Sinovac</td>\n      <td>National Health Commission</td>\n      <td>http://www.nhc.gov.cn/xcs/yqjzqk/202105/c953cb...</td>\n      <td>China</td>\n      <td>1440297825</td>\n      <td>0.39 %</td>\n      <td>5540090</td>\n      <td>153</td>\n      <td>9388211</td>\n      <td>-348399.0</td>\n      <td>1.7</td>\n      <td>38</td>\n      <td>61 %</td>\n      <td>18.47 %</td>\n    </tr>\n    <tr>\n      <th>1</th>\n      <td>India</td>\n      <td>IND</td>\n      <td>2021-05-05</td>\n      <td>159931238.0</td>\n      <td>129730641.0</td>\n      <td>30200597.0</td>\n      <td>2180486.0</td>\n      <td>1839692.0</td>\n      <td>11.59</td>\n      <td>9.40</td>\n      <td>2.19</td>\n      <td>1333.0</td>\n      <td>Covaxin, Oxford/AstraZeneca</td>\n      <td>Government of India</td>\n      <td>https://dashboard.cowin.gov.in/</td>\n      <td>India</td>\n      <td>1382345085</td>\n      <td>0.99 %</td>\n      <td>13586631</td>\n      <td>464</td>\n      <td>2973190</td>\n      <td>-532687.0</td>\n      <td>2.2</td>\n      <td>28</td>\n      <td>35 %</td>\n      <td>17.70 %</td>\n    </tr>\n    <tr>\n      <th>2</th>\n      <td>United States</td>\n      <td>USA</td>\n      <td>2021-05-05</td>\n      <td>249566820.0</td>\n      <td>148562891.0</td>\n      <td>107346533.0</td>\n      <td>1797771.0</td>\n      <td>2132487.0</td>\n      <td>74.62</td>\n      <td>44.42</td>\n      <td>32.10</td>\n      <td>6376.0</td>\n      <td>Johnson&amp;Johnson, Moderna, Pfizer/BioNTech</td>\n      <td>Centers for Disease Control and Prevention</td>\n      <td>https://covid.cdc.gov/covid-data-tracker/#vacc...</td>\n      <td>United States</td>\n      <td>331341050</td>\n      <td>0.59 %</td>\n      <td>1937734</td>\n      <td>36</td>\n      <td>9147420</td>\n      <td>954806.0</td>\n      <td>1.8</td>\n      <td>38</td>\n      <td>83 %</td>\n      <td>4.25 %</td>\n    </tr>\n    <tr>\n      <th>3</th>\n      <td>Indonesia</td>\n      <td>IDN</td>\n      <td>2021-05-04</td>\n      <td>20701804.0</td>\n      <td>12699568.0</td>\n      <td>8002236.0</td>\n      <td>NaN</td>\n      <td>210194.0</td>\n      <td>7.57</td>\n      <td>4.64</td>\n      <td>2.93</td>\n      <td>768.0</td>\n      <td>Oxford/AstraZeneca, Sinovac</td>\n      <td>Ministry of Health</td>\n      <td>https://vaksin.kemkes.go.id/#/vaccines</td>\n      <td>Indonesia</td>\n      <td>274021604</td>\n      <td>1.07 %</td>\n      <td>2898047</td>\n      <td>151</td>\n      <td>1811570</td>\n      <td>-98955.0</td>\n      <td>2.3</td>\n      <td>30</td>\n      <td>56 %</td>\n      <td>3.51 %</td>\n    </tr>\n    <tr>\n      <th>4</th>\n      <td>Pakistan</td>\n      <td>PAK</td>\n      <td>2021-05-04</td>\n      <td>2967870.0</td>\n      <td>NaN</td>\n      <td>NaN</td>\n      <td>NaN</td>\n      <td>131600.0</td>\n      <td>1.34</td>\n      <td>NaN</td>\n      <td>NaN</td>\n      <td>596.0</td>\n      <td>CanSino, Sinopharm/Beijing, Sinovac, Sputnik V</td>\n      <td>National Command and Operation Centre</td>\n      <td>https://twitter.com/OfficialNcoc/status/138993...</td>\n      <td>Pakistan</td>\n      <td>221612785</td>\n      <td>2.00 %</td>\n      <td>4327022</td>\n      <td>287</td>\n      <td>770880</td>\n      <td>-233379.0</td>\n      <td>3.6</td>\n      <td>23</td>\n      <td>35 %</td>\n      <td>2.83 %</td>\n    </tr>\n  </tbody>\n</table>\n</div>"
     },
     "metadata": {},
     "execution_count": 78
    }
   ],
   "source": [
    "#merge dataset vaccination progress and dataset world population\n",
    "df = pd.merge(dfvac,df3, how='right' , left_on='country', right_on='Country (or dependency)')\n",
    "df.head()"
   ]
  },
  {
   "cell_type": "code",
   "execution_count": 79,
   "metadata": {},
   "outputs": [
    {
     "output_type": "stream",
     "name": "stdout",
     "text": [
      "              country iso_code        date  people_vaccinated  \\\n0               China      CHN  2021-05-05                NaN   \n1               India      IND  2021-05-05        129730641.0   \n2       United States      USA  2021-05-05        148562891.0   \n3           Indonesia      IDN  2021-05-04         12699568.0   \n4            Pakistan      PAK  2021-05-04                NaN   \n..                ...      ...         ...                ...   \n230        Montserrat      MSR  2021-04-21             1293.0   \n231  Falkland Islands      FLK  2021-04-14             2632.0   \n232               NaN      NaN         NaN                NaN   \n233               NaN      NaN         NaN                NaN   \n234               NaN      NaN         NaN                NaN   \n\n     people_fully_vaccinated  Population (2020)  \n0                        NaN         1440297825  \n1                 30200597.0         1382345085  \n2                107346533.0          331341050  \n3                  8002236.0          274021604  \n4                        NaN          221612785  \n..                       ...                ...  \n230                    616.0               4993  \n231                   1775.0               3497  \n232                      NaN               1628  \n233                      NaN               1360  \n234                      NaN                801  \n\n[235 rows x 6 columns]\n"
     ]
    }
   ],
   "source": [
    "#we leave only the columns of country, iso_code, date, people_vaccinated, people_fully_vaccinated, Population (2020)\n",
    "df= df.drop(['total_vaccinations','daily_vaccinations_raw','daily_vaccinations','total_vaccinations_per_hundred','people_vaccinated_per_hundred','people_fully_vaccinated_per_hundred','daily_vaccinations_per_million','source_name','source_website','Yearly Change','Net Change','Density (P/Km²)','Land Area (Km²)','Migrants (net)','Fert. Rate','Med. Age','Urban Pop %','World Share','vaccines','Country (or dependency)'], axis=1)\n",
    "print(df)"
   ]
  },
  {
   "cell_type": "code",
   "execution_count": 80,
   "metadata": {},
   "outputs": [
    {
     "output_type": "stream",
     "name": "stdout",
     "text": [
      "                    country iso_code        date  people_vaccinated  \\\n1                     India      IND  2021-05-05        129730641.0   \n2             United States      USA  2021-05-05        148562891.0   \n3                 Indonesia      IDN  2021-05-04         12699568.0   \n5                    Brazil      BRA  2021-05-05         30921100.0   \n7                Bangladesh      BGD  2021-05-05          5819811.0   \n8                    Russia      RUS  2021-05-05         12704207.0   \n9                    Mexico      MEX  2021-05-04         12984236.0   \n10                    Japan      JPN  2021-05-05          2793847.0   \n12              Philippines      PHL  2021-05-05          1786480.0   \n16                   Turkey      TUR  2021-05-05         14264014.0   \n17                     Iran      IRN  2021-05-04          1083138.0   \n18                  Germany      DEU  2021-05-05         25462944.0   \n19                 Thailand      THA  2021-05-05          1167719.0   \n20           United Kingdom      GBR  2021-05-04         34795074.0   \n21                   France      FRA  2021-05-04         16470369.0   \n22                    Italy      ITA  2021-05-05         15544174.0   \n24             South Africa      ZAF  2021-05-04           353181.0   \n25                  Myanmar      MMR  2021-03-31          1000000.0   \n27              South Korea      KOR  2021-05-05          3560324.0   \n28                 Colombia      COL  2021-05-02          3454250.0   \n29                    Spain      ESP  2021-05-04         12686341.0   \n31                Argentina      ARG  2021-05-05          7261176.0   \n34                  Ukraine      UKR  2021-05-05           783810.0   \n37                   Poland      POL  2021-05-04          9454765.0   \n38                   Canada      CAN  2021-05-05         13394276.0   \n39                  Morocco      MAR  2021-05-04          5231766.0   \n42                     Peru      PER  2021-05-04          1212445.0   \n44                 Malaysia      MYS  2021-05-03           914663.0   \n57                Sri Lanka      LKA  2021-05-05           928107.0   \n60                  Romania      ROU  2021-05-05          3449831.0   \n62                    Chile      CHL  2021-05-04          8232613.0   \n63               Kazakhstan      KAZ  2021-05-05          1565681.0   \n65                Guatemala      GTM  2021-05-04           174152.0   \n66                  Ecuador      ECU  2021-05-04           889218.0   \n70                 Cambodia      KHM  2021-05-05          1565292.0   \n73                 Zimbabwe      ZWE  2021-05-04           452191.0   \n74                   Guinea      GIN  2021-05-03            95911.0   \n78                  Tunisia      TUN  2021-05-03           320652.0   \n79                  Bolivia      BOL  2021-05-03           637694.0   \n80                  Belgium      BEL  2021-05-05          3282232.0   \n84       Dominican Republic      DOM  2021-05-04          1319445.0   \n86                   Greece      GRC  2021-05-05          2272646.0   \n87                   Jordan      JOR  2021-05-04           805020.0   \n88                 Portugal      PRT  2021-05-05          2644076.0   \n89               Azerbaijan      AZE  2021-05-05           987962.0   \n90                   Sweden      SWE  2021-05-05          2710287.0   \n91                 Honduras      HND  2021-04-09            55000.0   \n93                  Hungary      HUN  2021-05-05          4153038.0   \n95                  Belarus      BLR  2021-04-23           244000.0   \n96                  Austria      AUT  2021-05-05          2460022.0   \n98                   Serbia      SRB  2021-05-02          2028490.0   \n99                   Israel      ISR  2021-05-05          5414036.0   \n100             Switzerland      CHE  2021-05-02          1841984.0   \n102            Sierra Leone      SLE  2021-05-01            55083.0   \n103               Hong Kong      HKG  2021-05-05          1005425.0   \n104                    Laos      LAO  2021-04-26           126072.0   \n105                Paraguay      PRY  2021-05-02           131013.0   \n106                Bulgaria      BGR  2021-05-05           625922.0   \n108                 Lebanon      LBN  2021-05-05           317612.0   \n110              Kyrgyzstan      KGZ  2021-04-28            27000.0   \n111             El Salvador      SLV  2021-05-04           890109.0   \n113               Singapore      SGP  2021-04-18          1364124.0   \n114                 Denmark      DNK  2021-05-04          1415117.0   \n115                 Finland      FIN  2021-05-05          1804953.0   \n117                Slovakia      SVK  2021-05-05          1164981.0   \n118                  Norway      NOR  2021-05-05          1430384.0   \n119                    Oman      OMN  2021-05-05                NaN   \n121              Costa Rica      CRI  2021-05-03           605099.0   \n123                 Ireland      IRL  2021-05-04          1201373.0   \n125             New Zealand      NZL  2021-05-04           217603.0   \n127                  Panama      PAN  2021-05-05           501055.0   \n129                 Croatia      HRV  2021-05-05           760805.0   \n130                 Moldova      MDA  2021-05-05           140174.0   \n133                 Uruguay      URY  2021-05-05          1203170.0   \n134  Bosnia and Herzegovina      BIH  2021-04-27            83260.0   \n135                Mongolia      MNG  2021-05-05          1208913.0   \n138                   Qatar      QAT  2021-05-05          1064294.0   \n141               Lithuania      LTU  2021-05-05           724952.0   \n142                 Namibia      NAM  2021-04-28            18837.0   \n145                   Gabon      GAB  2021-04-23             6895.0   \n148                Slovenia      SVN  2021-05-05           449475.0   \n150                  Latvia      LVA  2021-05-05           281137.0   \n151                 Bahrain      BHR  2021-05-05           759975.0   \n152       Equatorial Guinea      GNQ  2021-04-28            64646.0   \n153     Trinidad and Tobago      TTO  2021-05-05            55259.0   \n154                 Estonia      EST  2021-05-05           354238.0   \n157                  Cyprus      CYP  2021-05-01           218323.0   \n163                  Guyana      GUY  2021-04-26           124000.0   \n166                   Macao      MAC  2021-05-05            72879.0   \n167              Montenegro      MNE  2021-05-05            57571.0   \n168              Luxembourg      LUX  2021-05-04           155897.0   \n170                Suriname      SUR  2021-05-04            41205.0   \n172                Maldives      MDV  2021-05-03           298396.0   \n173                   Malta      MLT  2021-05-04           241103.0   \n179                 Iceland      ISL  2021-05-05           115447.0   \n194                 Grenada      GRD  2021-04-29            12666.0   \n196                   Aruba      ABW  2021-05-05            55159.0   \n199              Seychelles      SYC  2021-05-03            68045.0   \n201             Isle of Man      IMN  2021-05-05            59206.0   \n202                 Andorra      AND  2021-05-03            24182.0   \n203                Dominica      DMA  2021-04-28            18498.0   \n204          Cayman Islands      CYM  2021-04-30            35774.0   \n205                 Bermuda      BMU  2021-04-26            32129.0   \n208               Greenland      GRL  2021-05-04             8900.0   \n211          Faeroe Islands      FRO  2021-04-28            14458.0   \n213                  Monaco      MCO  2021-04-22            12758.0   \n216           Liechtenstein      LIE  2021-05-02             8815.0   \n217              San Marino      SMR  2021-05-04            21172.0   \n218               Gibraltar      GIB  2021-05-01            37504.0   \n223                Anguilla      AIA  2021-04-22             6115.0   \n228            Saint Helena      SHN  2021-04-09             3563.0   \n230              Montserrat      MSR  2021-04-21             1293.0   \n231        Falkland Islands      FLK  2021-04-14             2632.0   \n\n     people_fully_vaccinated  Population (2020)  \n1                 30200597.0         1382345085  \n2                107346533.0          331341050  \n3                  8002236.0          274021604  \n5                 14750572.0          212821986  \n7                  3210509.0          164972348  \n8                  8015940.0          145945524  \n9                  8418291.0          129166028  \n10                 1042998.0          126407422  \n12                  342705.0          109830324  \n16                 9839869.0           84495243  \n17                  231503.0           84176929  \n18                 7145486.0           83830972  \n19                  434114.0           69830779  \n20                15887493.0           67948282  \n21                 7007993.0           65298930  \n22                 6688864.0           60446035  \n24                  353181.0           59436725  \n25                   40000.0           54473253  \n27                  323505.0           51276977  \n28                 1766080.0           50976248  \n29                 5394315.0           46757980  \n31                 1130337.0           45267449  \n34                     419.0           43686577  \n37                 3308889.0           37839255  \n38                 1173791.0           37799407  \n39                 4326873.0           36985624  \n42                  644519.0           33050211  \n44                  585539.0           32436963  \n57                  141721.0           21428970  \n60                 2138703.0           19214608  \n62                 6900297.0           19144605  \n63                  460230.0           18815231  \n65                    1950.0           17971382  \n66                  252044.0           17688599  \n70                 1043691.0           16758448  \n73                  107586.0           14899771  \n74                   49852.0           13191279  \n78                  103833.0           11839918  \n79                  240869.0           11700207  \n80                  928137.0           11598451  \n84                  804258.0           10866667  \n86                 1037142.0           10413936  \n87                  286028.0           10220604  \n88                  940586.0           10191409  \n89                  578144.0           10154978  \n90                  775438.0           10110233  \n91                    2639.0            9931333  \n93                 2315428.0            9655983  \n95                   84500.0            9448772  \n96                  904747.0            9015361  \n98                 1498386.0            8731081  \n99                 5068889.0            8678517  \n100                 949994.0            8665615  \n102                   6024.0            8004158  \n103                 588145.0            7507523  \n104                  58315.0            7293542  \n105                  12428.0            7147553  \n106                 251202.0            6939018  \n108                 183372.0            6819976  \n110                    858.0            6542426  \n111                 101024.0            6491923  \n113                 849764.0            5858322  \n114                 740184.0            5795780  \n115                 185821.0            5542237  \n117                 549768.0            5460109  \n118                 417344.0            5428594  \n119                  73269.0            5128058  \n121                 345153.0            5102158  \n123                 454493.0            4947267  \n125                  87297.0            4829021  \n127                 213923.0            4326296  \n129                 218376.0            4100719  \n130                  20302.0            4032294  \n133                 733467.0            3475842  \n134                  23204.0            3277152  \n135                 547521.0            3287242  \n138                 637620.0            2889284  \n141                 347719.0            2715340  \n142                   1168.0            2548663  \n145                   2002.0            2234448  \n148                 228369.0            2078989  \n150                  60646.0            1882408  \n151                 558531.0            1711057  \n152                  10872.0            1410419  \n153                    288.0            1400283  \n154                 138282.0            1326693  \n157                  69463.0            1208886  \n163                   2800.0             787215  \n166                  38213.0             650846  \n167                  27745.0             628080  \n168                  57339.0             627704  \n170                     82.0             587541  \n172                 114240.0             542151  \n173                 111318.0             441750  \n179                  42301.0             341628  \n194                   2731.0             112614  \n196                  23824.0             106845  \n199                  59676.0              98453  \n201                  15799.0              85112  \n202                   4699.0              77287  \n203                   9323.0              72017  \n204                  29920.0              65854  \n205                  23775.0              62237  \n208                   5277.0              56787  \n211                   5780.0              48896  \n213                  11632.0              39290  \n216                   4183.0              38147  \n217                   9792.0              33944  \n218                  33611.0              33689  \n223                    783.0              15026  \n228                   1009.0               6080  \n230                    616.0               4993  \n231                   1775.0               3497  \n"
     ]
    }
   ],
   "source": [
    "#we delete the empty records\n",
    "df = df[df['people_fully_vaccinated'].notna()]\n",
    "print(df)"
   ]
  },
  {
   "cell_type": "code",
   "execution_count": 81,
   "metadata": {},
   "outputs": [
    {
     "output_type": "stream",
     "name": "stdout",
     "text": [
      "                    country iso_code        date  people_vaccinated  \\\n34                  Ukraine      UKR  2021-05-05           783810.0   \n65                Guatemala      GTM  2021-05-04           174152.0   \n110              Kyrgyzstan      KGZ  2021-04-28            27000.0   \n170                Suriname      SUR  2021-05-04            41205.0   \n153     Trinidad and Tobago      TTO  2021-05-05            55259.0   \n91                 Honduras      HND  2021-04-09            55000.0   \n142                 Namibia      NAM  2021-04-28            18837.0   \n25                  Myanmar      MMR  2021-03-31          1000000.0   \n102            Sierra Leone      SLE  2021-05-01            55083.0   \n145                   Gabon      GAB  2021-04-23             6895.0   \n105                Paraguay      PRY  2021-05-02           131013.0   \n17                     Iran      IRN  2021-05-04          1083138.0   \n12              Philippines      PHL  2021-05-05          1786480.0   \n163                  Guyana      GUY  2021-04-26           124000.0   \n74                   Guinea      GIN  2021-05-03            95911.0   \n130                 Moldova      MDA  2021-05-05           140174.0   \n24             South Africa      ZAF  2021-05-04           353181.0   \n19                 Thailand      THA  2021-05-05          1167719.0   \n27              South Korea      KOR  2021-05-05          3560324.0   \n57                Sri Lanka      LKA  2021-05-05           928107.0   \n134  Bosnia and Herzegovina      BIH  2021-04-27            83260.0   \n73                 Zimbabwe      ZWE  2021-05-04           452191.0   \n152       Equatorial Guinea      GNQ  2021-04-28            64646.0   \n104                    Laos      LAO  2021-04-26           126072.0   \n10                    Japan      JPN  2021-05-05          2793847.0   \n78                  Tunisia      TUN  2021-05-03           320652.0   \n95                  Belarus      BLR  2021-04-23           244000.0   \n66                  Ecuador      ECU  2021-05-04           889218.0   \n119                    Oman      OMN  2021-05-05                NaN   \n111             El Salvador      SLV  2021-05-04           890109.0   \n44                 Malaysia      MYS  2021-05-03           914663.0   \n125             New Zealand      NZL  2021-05-04           217603.0   \n7                Bangladesh      BGD  2021-05-05          5819811.0   \n42                     Peru      PER  2021-05-04          1212445.0   \n79                  Bolivia      BOL  2021-05-03           637694.0   \n1                     India      IND  2021-05-05        129730641.0   \n194                 Grenada      GRD  2021-04-29            12666.0   \n63               Kazakhstan      KAZ  2021-05-05          1565681.0   \n31                Argentina      ARG  2021-05-05          7261176.0   \n108                 Lebanon      LBN  2021-05-05           317612.0   \n87                   Jordan      JOR  2021-05-04           805020.0   \n3                 Indonesia      IDN  2021-05-04         12699568.0   \n38                   Canada      CAN  2021-05-05         13394276.0   \n150                  Latvia      LVA  2021-05-05           281137.0   \n115                 Finland      FIN  2021-05-05          1804953.0   \n28                 Colombia      COL  2021-05-02          3454250.0   \n106                Bulgaria      BGR  2021-05-05           625922.0   \n167              Montenegro      MNE  2021-05-05            57571.0   \n127                  Panama      PAN  2021-05-05           501055.0   \n223                Anguilla      AIA  2021-04-22             6115.0   \n129                 Croatia      HRV  2021-05-05           760805.0   \n8                    Russia      RUS  2021-05-05         12704207.0   \n89               Azerbaijan      AZE  2021-05-05           987962.0   \n157                  Cyprus      CYP  2021-05-01           218323.0   \n166                   Macao      MAC  2021-05-05            72879.0   \n202                 Andorra      AND  2021-05-03            24182.0   \n70                 Cambodia      KHM  2021-05-05          1565292.0   \n9                    Mexico      MEX  2021-05-04         12984236.0   \n121              Costa Rica      CRI  2021-05-03           605099.0   \n5                    Brazil      BRA  2021-05-05         30921100.0   \n84       Dominican Republic      DOM  2021-05-04          1319445.0   \n90                   Sweden      SWE  2021-05-05          2710287.0   \n118                  Norway      NOR  2021-05-05          1430384.0   \n103               Hong Kong      HKG  2021-05-05          1005425.0   \n80                  Belgium      BEL  2021-05-05          3282232.0   \n18                  Germany      DEU  2021-05-05         25462944.0   \n37                   Poland      POL  2021-05-04          9454765.0   \n168              Luxembourg      LUX  2021-05-04           155897.0   \n123                 Ireland      IRL  2021-05-04          1201373.0   \n88                 Portugal      PRT  2021-05-05          2644076.0   \n208               Greenland      GRL  2021-05-04             8900.0   \n86                   Greece      GRC  2021-05-05          2272646.0   \n96                  Austria      AUT  2021-05-05          2460022.0   \n117                Slovakia      SVK  2021-05-05          1164981.0   \n154                 Estonia      EST  2021-05-05           354238.0   \n21                   France      FRA  2021-05-04         16470369.0   \n100             Switzerland      CHE  2021-05-02          1841984.0   \n216           Liechtenstein      LIE  2021-05-02             8815.0   \n148                Slovenia      SVN  2021-05-05           449475.0   \n22                    Italy      ITA  2021-05-05         15544174.0   \n60                  Romania      ROU  2021-05-05          3449831.0   \n29                    Spain      ESP  2021-05-04         12686341.0   \n16                   Turkey      TUR  2021-05-05         14264014.0   \n39                  Morocco      MAR  2021-05-04          5231766.0   \n211          Faeroe Islands      FRO  2021-04-28            14458.0   \n230              Montserrat      MSR  2021-04-21             1293.0   \n179                 Iceland      ISL  2021-05-05           115447.0   \n114                 Denmark      DNK  2021-05-04          1415117.0   \n141               Lithuania      LTU  2021-05-05           724952.0   \n203                Dominica      DMA  2021-04-28            18498.0   \n113               Singapore      SGP  2021-04-18          1364124.0   \n228            Saint Helena      SHN  2021-04-09             3563.0   \n135                Mongolia      MNG  2021-05-05          1208913.0   \n98                   Serbia      SRB  2021-05-02          2028490.0   \n201             Isle of Man      IMN  2021-05-05            59206.0   \n172                Maldives      MDV  2021-05-03           298396.0   \n133                 Uruguay      URY  2021-05-05          1203170.0   \n138                   Qatar      QAT  2021-05-05          1064294.0   \n196                   Aruba      ABW  2021-05-05            55159.0   \n20           United Kingdom      GBR  2021-05-04         34795074.0   \n93                  Hungary      HUN  2021-05-05          4153038.0   \n173                   Malta      MLT  2021-05-04           241103.0   \n217              San Marino      SMR  2021-05-04            21172.0   \n213                  Monaco      MCO  2021-04-22            12758.0   \n2             United States      USA  2021-05-05        148562891.0   \n151                 Bahrain      BHR  2021-05-05           759975.0   \n62                    Chile      CHL  2021-05-04          8232613.0   \n205                 Bermuda      BMU  2021-04-26            32129.0   \n204          Cayman Islands      CYM  2021-04-30            35774.0   \n231        Falkland Islands      FLK  2021-04-14             2632.0   \n99                   Israel      ISR  2021-05-05          5414036.0   \n199              Seychelles      SYC  2021-05-03            68045.0   \n218               Gibraltar      GIB  2021-05-01            37504.0   \n\n     people_fully_vaccinated  Population (2020)  % vaccinated population  \n34                     419.0           43686577                 0.000959  \n65                    1950.0           17971382                 0.010851  \n110                    858.0            6542426                 0.013114  \n170                     82.0             587541                 0.013956  \n153                    288.0            1400283                 0.020567  \n91                    2639.0            9931333                 0.026572  \n142                   1168.0            2548663                 0.045828  \n25                   40000.0           54473253                 0.073431  \n102                   6024.0            8004158                 0.075261  \n145                   2002.0            2234448                 0.089597  \n105                  12428.0            7147553                 0.173878  \n17                  231503.0           84176929                 0.275020  \n12                  342705.0          109830324                 0.312031  \n163                   2800.0             787215                 0.355684  \n74                   49852.0           13191279                 0.377916  \n130                  20302.0            4032294                 0.503485  \n24                  353181.0           59436725                 0.594213  \n19                  434114.0           69830779                 0.621666  \n27                  323505.0           51276977                 0.630897  \n57                  141721.0           21428970                 0.661352  \n134                  23204.0            3277152                 0.708054  \n73                  107586.0           14899771                 0.722065  \n152                  10872.0            1410419                 0.770835  \n104                  58315.0            7293542                 0.799543  \n10                 1042998.0          126407422                 0.825108  \n78                  103833.0           11839918                 0.876974  \n95                   84500.0            9448772                 0.894296  \n66                  252044.0           17688599                 1.424895  \n119                  73269.0            5128058                 1.428786  \n111                 101024.0            6491923                 1.556149  \n44                  585539.0           32436963                 1.805160  \n125                  87297.0            4829021                 1.807758  \n7                  3210509.0          164972348                 1.946089  \n42                  644519.0           33050211                 1.950121  \n79                  240869.0           11700207                 2.058673  \n1                 30200597.0         1382345085                 2.184736  \n194                   2731.0             112614                 2.425098  \n63                  460230.0           18815231                 2.446050  \n31                 1130337.0           45267449                 2.497019  \n108                 183372.0            6819976                 2.688748  \n87                  286028.0           10220604                 2.798543  \n3                  8002236.0          274021604                 2.920294  \n38                 1173791.0           37799407                 3.105316  \n150                  60646.0            1882408                 3.221725  \n115                 185821.0            5542237                 3.352816  \n28                 1766080.0           50976248                 3.464515  \n106                 251202.0            6939018                 3.620138  \n167                  27745.0             628080                 4.417431  \n127                 213923.0            4326296                 4.944715  \n223                    783.0              15026                 5.210968  \n129                 218376.0            4100719                 5.325310  \n8                  8015940.0          145945524                 5.492419  \n89                  578144.0           10154978                 5.693208  \n157                  69463.0            1208886                 5.746034  \n166                  38213.0             650846                 5.871281  \n202                   4699.0              77287                 6.079936  \n70                 1043691.0           16758448                 6.227850  \n9                  8418291.0          129166028                 6.517419  \n121                 345153.0            5102158                 6.764843  \n5                 14750572.0          212821986                 6.930944  \n84                  804258.0           10866667                 7.401147  \n90                  775438.0           10110233                 7.669833  \n118                 417344.0            5428594                 7.687884  \n103                 588145.0            7507523                 7.834075  \n80                  928137.0           11598451                 8.002250  \n18                 7145486.0           83830972                 8.523683  \n37                 3308889.0           37839255                 8.744593  \n168                  57339.0             627704                 9.134720  \n123                 454493.0            4947267                 9.186749  \n88                  940586.0           10191409                 9.229205  \n208                   5277.0              56787                 9.292620  \n86                 1037142.0           10413936                 9.959174  \n96                  904747.0            9015361                10.035616  \n117                 549768.0            5460109                10.068810  \n154                 138282.0            1326693                10.423059  \n21                 7007993.0           65298930                10.732171  \n100                 949994.0            8665615                10.962800  \n216                   4183.0              38147                10.965476  \n148                 228369.0            2078989                10.984618  \n22                 6688864.0           60446035                11.065844  \n60                 2138703.0           19214608                11.130610  \n29                 5394315.0           46757980                11.536672  \n16                 9839869.0           84495243                11.645471  \n39                 4326873.0           36985624                11.698797  \n211                   5780.0              48896                11.821008  \n230                    616.0               4993                12.337272  \n179                  42301.0             341628                12.382182  \n114                 740184.0            5795780                12.771085  \n141                 347719.0            2715340                12.805726  \n203                   9323.0              72017                12.945555  \n113                 849764.0            5858322                14.505246  \n228                   1009.0               6080                16.595395  \n135                 547521.0            3287242                16.655938  \n98                 1498386.0            8731081                17.161518  \n201                  15799.0              85112                18.562600  \n172                 114240.0             542151                21.071620  \n133                 733467.0            3475842                21.101851  \n138                 637620.0            2889284                22.068443  \n196                  23824.0             106845                22.297721  \n20                15887493.0           67948282                23.381743  \n93                 2315428.0            9655983                23.979205  \n173                 111318.0             441750                25.199321  \n217                   9792.0              33944                28.847514  \n213                  11632.0              39290                29.605498  \n2                107346533.0          331341050                32.397595  \n151                 558531.0            1711057                32.642454  \n62                 6900297.0           19144605                36.043037  \n205                  23775.0              62237                38.200749  \n204                  29920.0              65854                45.433838  \n231                   1775.0               3497                50.757792  \n99                 5068889.0            8678517                58.407318  \n199                  59676.0              98453                60.613694  \n218                  33611.0              33689                99.768470  \n"
     ]
    }
   ],
   "source": [
    "#we calculate the percentage of the vaccinated population\n",
    "df['% vaccinated population'] = df['people_fully_vaccinated']*100/df['Population (2020)']\n",
    "\n",
    "#order by asc\n",
    "df=df.sort_values(by=['% vaccinated population'], ascending=True)\n",
    "print(df)"
   ]
  },
  {
   "cell_type": "code",
   "execution_count": 82,
   "metadata": {},
   "outputs": [
    {
     "output_type": "display_data",
     "data": {
      "application/vnd.plotly.v1+json": {
       "config": {
        "plotlyServerURL": "https://plot.ly"
       },
       "data": [
        {
         "coloraxis": "coloraxis",
         "geo": "geo",
         "hovertemplate": "<b>%{hovertext}</b><br><br>iso_code=%{location}<br>% vaccinated population=%{z}<extra></extra>",
         "hovertext": [
          "Ukraine",
          "Guatemala",
          "Kyrgyzstan",
          "Suriname",
          "Trinidad and Tobago",
          "Honduras",
          "Namibia",
          "Myanmar",
          "Sierra Leone",
          "Gabon",
          "Paraguay",
          "Iran",
          "Philippines",
          "Guyana",
          "Guinea",
          "Moldova",
          "South Africa",
          "Thailand",
          "South Korea",
          "Sri Lanka",
          "Bosnia and Herzegovina",
          "Zimbabwe",
          "Equatorial Guinea",
          "Laos",
          "Japan",
          "Tunisia",
          "Belarus",
          "Ecuador",
          "Oman",
          "El Salvador",
          "Malaysia",
          "New Zealand",
          "Bangladesh",
          "Peru",
          "Bolivia",
          "India",
          "Grenada",
          "Kazakhstan",
          "Argentina",
          "Lebanon",
          "Jordan",
          "Indonesia",
          "Canada",
          "Latvia",
          "Finland",
          "Colombia",
          "Bulgaria",
          "Montenegro",
          "Panama",
          "Anguilla",
          "Croatia",
          "Russia",
          "Azerbaijan",
          "Cyprus",
          "Macao",
          "Andorra",
          "Cambodia",
          "Mexico",
          "Costa Rica",
          "Brazil",
          "Dominican Republic",
          "Sweden",
          "Norway",
          "Hong Kong",
          "Belgium",
          "Germany",
          "Poland",
          "Luxembourg",
          "Ireland",
          "Portugal",
          "Greenland",
          "Greece",
          "Austria",
          "Slovakia",
          "Estonia",
          "France",
          "Switzerland",
          "Liechtenstein",
          "Slovenia",
          "Italy",
          "Romania",
          "Spain",
          "Turkey",
          "Morocco",
          "Faeroe Islands",
          "Montserrat",
          "Iceland",
          "Denmark",
          "Lithuania",
          "Dominica",
          "Singapore",
          "Saint Helena",
          "Mongolia",
          "Serbia",
          "Isle of Man",
          "Maldives",
          "Uruguay",
          "Qatar",
          "Aruba",
          "United Kingdom",
          "Hungary",
          "Malta",
          "San Marino",
          "Monaco",
          "United States",
          "Bahrain",
          "Chile",
          "Bermuda",
          "Cayman Islands",
          "Falkland Islands",
          "Israel",
          "Seychelles",
          "Gibraltar"
         ],
         "locations": [
          "UKR",
          "GTM",
          "KGZ",
          "SUR",
          "TTO",
          "HND",
          "NAM",
          "MMR",
          "SLE",
          "GAB",
          "PRY",
          "IRN",
          "PHL",
          "GUY",
          "GIN",
          "MDA",
          "ZAF",
          "THA",
          "KOR",
          "LKA",
          "BIH",
          "ZWE",
          "GNQ",
          "LAO",
          "JPN",
          "TUN",
          "BLR",
          "ECU",
          "OMN",
          "SLV",
          "MYS",
          "NZL",
          "BGD",
          "PER",
          "BOL",
          "IND",
          "GRD",
          "KAZ",
          "ARG",
          "LBN",
          "JOR",
          "IDN",
          "CAN",
          "LVA",
          "FIN",
          "COL",
          "BGR",
          "MNE",
          "PAN",
          "AIA",
          "HRV",
          "RUS",
          "AZE",
          "CYP",
          "MAC",
          "AND",
          "KHM",
          "MEX",
          "CRI",
          "BRA",
          "DOM",
          "SWE",
          "NOR",
          "HKG",
          "BEL",
          "DEU",
          "POL",
          "LUX",
          "IRL",
          "PRT",
          "GRL",
          "GRC",
          "AUT",
          "SVK",
          "EST",
          "FRA",
          "CHE",
          "LIE",
          "SVN",
          "ITA",
          "ROU",
          "ESP",
          "TUR",
          "MAR",
          "FRO",
          "MSR",
          "ISL",
          "DNK",
          "LTU",
          "DMA",
          "SGP",
          "SHN",
          "MNG",
          "SRB",
          "IMN",
          "MDV",
          "URY",
          "QAT",
          "ABW",
          "GBR",
          "HUN",
          "MLT",
          "SMR",
          "MCO",
          "USA",
          "BHR",
          "CHL",
          "BMU",
          "CYM",
          "FLK",
          "ISR",
          "SYC",
          "GIB"
         ],
         "name": "",
         "type": "choropleth",
         "z": [
          0.0009591046696105304,
          0.01085058455715871,
          0.013114401293954261,
          0.0139564728248752,
          0.020567271044496006,
          0.026572465146420927,
          0.045827949791714326,
          0.07343053296266334,
          0.07526088315597967,
          0.08959707274458838,
          0.173877689329481,
          0.27501953652882727,
          0.31203131113407256,
          0.35568427939000147,
          0.37791634912732874,
          0.5034851129406734,
          0.5942134261266919,
          0.621665698445094,
          0.630897176329252,
          0.6613523655126682,
          0.7080538223433029,
          0.7220647887809819,
          0.7708347661226912,
          0.7995429381225199,
          0.8251081965740904,
          0.8769739790427603,
          0.8942961053563363,
          1.4248952107512867,
          1.4287864918844522,
          1.5561490794022048,
          1.8051597493883753,
          1.8077577214926173,
          1.9460891712591737,
          1.950120681529083,
          2.0586729790336187,
          2.1847364545734975,
          2.4250981227911272,
          2.4460502238851065,
          2.4970194366375713,
          2.688748464803982,
          2.798543021527886,
          2.9202938320147926,
          3.1053159114374465,
          3.221724514557949,
          3.3528158395247263,
          3.4645154739517117,
          3.6201376044852456,
          4.417430900522226,
          4.944714832272226,
          5.210967656062825,
          5.325310024900511,
          5.492419212527546,
          5.693207804093716,
          5.746033951919371,
          5.871281378390587,
          6.079935823618461,
          6.227849977515818,
          6.5174188061275675,
          6.764843425076213,
          6.9309436854893365,
          7.4011470122347545,
          7.669833128474883,
          7.687883824061995,
          7.834075233602348,
          8.002249610745436,
          8.52368263128334,
          8.744593412317446,
          9.134719549341728,
          9.186748966651688,
          9.229204715461817,
          9.292619789740609,
          9.959173937692723,
          10.035615878277087,
          10.068809981632235,
          10.42305944178495,
          10.732171262224359,
          10.962799524326893,
          10.965475659947048,
          10.984618004231864,
          11.065844103753042,
          11.130609586206495,
          11.536672456765668,
          11.645470976395677,
          11.698796808186879,
          11.821007853403142,
          12.337272181053475,
          12.382181788378002,
          12.771085168864243,
          12.805725986432638,
          12.945554521849008,
          14.505245700048581,
          16.595394736842106,
          16.655938321547364,
          17.16151757153553,
          18.562599868408686,
          21.071620268154074,
          21.101851004734968,
          22.068443254453353,
          22.297720997706957,
          23.381743485434995,
          23.979205431492577,
          25.19932088285229,
          28.847513551732266,
          29.605497582081956,
          32.39759546847576,
          32.64245434254966,
          36.04303666751024,
          38.200748750743124,
          45.43383849120782,
          50.75779239348012,
          58.40731774795164,
          60.613693843763016,
          99.76847042061208
         ]
        }
       ],
       "layout": {
        "coloraxis": {
         "colorbar": {
          "title": {
           "text": "% vaccinated population"
          }
         },
         "colorscale": [
          [
           0,
           "#fde725"
          ],
          [
           0.1111111111111111,
           "#b5de2b"
          ],
          [
           0.2222222222222222,
           "#6ece58"
          ],
          [
           0.3333333333333333,
           "#35b779"
          ],
          [
           0.4444444444444444,
           "#1f9e89"
          ],
          [
           0.5555555555555556,
           "#26828e"
          ],
          [
           0.6666666666666666,
           "#31688e"
          ],
          [
           0.7777777777777778,
           "#3e4989"
          ],
          [
           0.8888888888888888,
           "#482878"
          ],
          [
           1,
           "#440154"
          ]
         ]
        },
        "geo": {
         "center": {},
         "domain": {
          "x": [
           0,
           1
          ],
          "y": [
           0,
           1
          ]
         }
        },
        "legend": {
         "tracegroupgap": 0
        },
        "margin": {
         "t": 60
        },
        "template": {
         "data": {
          "bar": [
           {
            "error_x": {
             "color": "#2a3f5f"
            },
            "error_y": {
             "color": "#2a3f5f"
            },
            "marker": {
             "line": {
              "color": "#E5ECF6",
              "width": 0.5
             }
            },
            "type": "bar"
           }
          ],
          "barpolar": [
           {
            "marker": {
             "line": {
              "color": "#E5ECF6",
              "width": 0.5
             }
            },
            "type": "barpolar"
           }
          ],
          "carpet": [
           {
            "aaxis": {
             "endlinecolor": "#2a3f5f",
             "gridcolor": "white",
             "linecolor": "white",
             "minorgridcolor": "white",
             "startlinecolor": "#2a3f5f"
            },
            "baxis": {
             "endlinecolor": "#2a3f5f",
             "gridcolor": "white",
             "linecolor": "white",
             "minorgridcolor": "white",
             "startlinecolor": "#2a3f5f"
            },
            "type": "carpet"
           }
          ],
          "choropleth": [
           {
            "colorbar": {
             "outlinewidth": 0,
             "ticks": ""
            },
            "type": "choropleth"
           }
          ],
          "contour": [
           {
            "colorbar": {
             "outlinewidth": 0,
             "ticks": ""
            },
            "colorscale": [
             [
              0,
              "#0d0887"
             ],
             [
              0.1111111111111111,
              "#46039f"
             ],
             [
              0.2222222222222222,
              "#7201a8"
             ],
             [
              0.3333333333333333,
              "#9c179e"
             ],
             [
              0.4444444444444444,
              "#bd3786"
             ],
             [
              0.5555555555555556,
              "#d8576b"
             ],
             [
              0.6666666666666666,
              "#ed7953"
             ],
             [
              0.7777777777777778,
              "#fb9f3a"
             ],
             [
              0.8888888888888888,
              "#fdca26"
             ],
             [
              1,
              "#f0f921"
             ]
            ],
            "type": "contour"
           }
          ],
          "contourcarpet": [
           {
            "colorbar": {
             "outlinewidth": 0,
             "ticks": ""
            },
            "type": "contourcarpet"
           }
          ],
          "heatmap": [
           {
            "colorbar": {
             "outlinewidth": 0,
             "ticks": ""
            },
            "colorscale": [
             [
              0,
              "#0d0887"
             ],
             [
              0.1111111111111111,
              "#46039f"
             ],
             [
              0.2222222222222222,
              "#7201a8"
             ],
             [
              0.3333333333333333,
              "#9c179e"
             ],
             [
              0.4444444444444444,
              "#bd3786"
             ],
             [
              0.5555555555555556,
              "#d8576b"
             ],
             [
              0.6666666666666666,
              "#ed7953"
             ],
             [
              0.7777777777777778,
              "#fb9f3a"
             ],
             [
              0.8888888888888888,
              "#fdca26"
             ],
             [
              1,
              "#f0f921"
             ]
            ],
            "type": "heatmap"
           }
          ],
          "heatmapgl": [
           {
            "colorbar": {
             "outlinewidth": 0,
             "ticks": ""
            },
            "colorscale": [
             [
              0,
              "#0d0887"
             ],
             [
              0.1111111111111111,
              "#46039f"
             ],
             [
              0.2222222222222222,
              "#7201a8"
             ],
             [
              0.3333333333333333,
              "#9c179e"
             ],
             [
              0.4444444444444444,
              "#bd3786"
             ],
             [
              0.5555555555555556,
              "#d8576b"
             ],
             [
              0.6666666666666666,
              "#ed7953"
             ],
             [
              0.7777777777777778,
              "#fb9f3a"
             ],
             [
              0.8888888888888888,
              "#fdca26"
             ],
             [
              1,
              "#f0f921"
             ]
            ],
            "type": "heatmapgl"
           }
          ],
          "histogram": [
           {
            "marker": {
             "colorbar": {
              "outlinewidth": 0,
              "ticks": ""
             }
            },
            "type": "histogram"
           }
          ],
          "histogram2d": [
           {
            "colorbar": {
             "outlinewidth": 0,
             "ticks": ""
            },
            "colorscale": [
             [
              0,
              "#0d0887"
             ],
             [
              0.1111111111111111,
              "#46039f"
             ],
             [
              0.2222222222222222,
              "#7201a8"
             ],
             [
              0.3333333333333333,
              "#9c179e"
             ],
             [
              0.4444444444444444,
              "#bd3786"
             ],
             [
              0.5555555555555556,
              "#d8576b"
             ],
             [
              0.6666666666666666,
              "#ed7953"
             ],
             [
              0.7777777777777778,
              "#fb9f3a"
             ],
             [
              0.8888888888888888,
              "#fdca26"
             ],
             [
              1,
              "#f0f921"
             ]
            ],
            "type": "histogram2d"
           }
          ],
          "histogram2dcontour": [
           {
            "colorbar": {
             "outlinewidth": 0,
             "ticks": ""
            },
            "colorscale": [
             [
              0,
              "#0d0887"
             ],
             [
              0.1111111111111111,
              "#46039f"
             ],
             [
              0.2222222222222222,
              "#7201a8"
             ],
             [
              0.3333333333333333,
              "#9c179e"
             ],
             [
              0.4444444444444444,
              "#bd3786"
             ],
             [
              0.5555555555555556,
              "#d8576b"
             ],
             [
              0.6666666666666666,
              "#ed7953"
             ],
             [
              0.7777777777777778,
              "#fb9f3a"
             ],
             [
              0.8888888888888888,
              "#fdca26"
             ],
             [
              1,
              "#f0f921"
             ]
            ],
            "type": "histogram2dcontour"
           }
          ],
          "mesh3d": [
           {
            "colorbar": {
             "outlinewidth": 0,
             "ticks": ""
            },
            "type": "mesh3d"
           }
          ],
          "parcoords": [
           {
            "line": {
             "colorbar": {
              "outlinewidth": 0,
              "ticks": ""
             }
            },
            "type": "parcoords"
           }
          ],
          "pie": [
           {
            "automargin": true,
            "type": "pie"
           }
          ],
          "scatter": [
           {
            "marker": {
             "colorbar": {
              "outlinewidth": 0,
              "ticks": ""
             }
            },
            "type": "scatter"
           }
          ],
          "scatter3d": [
           {
            "line": {
             "colorbar": {
              "outlinewidth": 0,
              "ticks": ""
             }
            },
            "marker": {
             "colorbar": {
              "outlinewidth": 0,
              "ticks": ""
             }
            },
            "type": "scatter3d"
           }
          ],
          "scattercarpet": [
           {
            "marker": {
             "colorbar": {
              "outlinewidth": 0,
              "ticks": ""
             }
            },
            "type": "scattercarpet"
           }
          ],
          "scattergeo": [
           {
            "marker": {
             "colorbar": {
              "outlinewidth": 0,
              "ticks": ""
             }
            },
            "type": "scattergeo"
           }
          ],
          "scattergl": [
           {
            "marker": {
             "colorbar": {
              "outlinewidth": 0,
              "ticks": ""
             }
            },
            "type": "scattergl"
           }
          ],
          "scattermapbox": [
           {
            "marker": {
             "colorbar": {
              "outlinewidth": 0,
              "ticks": ""
             }
            },
            "type": "scattermapbox"
           }
          ],
          "scatterpolar": [
           {
            "marker": {
             "colorbar": {
              "outlinewidth": 0,
              "ticks": ""
             }
            },
            "type": "scatterpolar"
           }
          ],
          "scatterpolargl": [
           {
            "marker": {
             "colorbar": {
              "outlinewidth": 0,
              "ticks": ""
             }
            },
            "type": "scatterpolargl"
           }
          ],
          "scatterternary": [
           {
            "marker": {
             "colorbar": {
              "outlinewidth": 0,
              "ticks": ""
             }
            },
            "type": "scatterternary"
           }
          ],
          "surface": [
           {
            "colorbar": {
             "outlinewidth": 0,
             "ticks": ""
            },
            "colorscale": [
             [
              0,
              "#0d0887"
             ],
             [
              0.1111111111111111,
              "#46039f"
             ],
             [
              0.2222222222222222,
              "#7201a8"
             ],
             [
              0.3333333333333333,
              "#9c179e"
             ],
             [
              0.4444444444444444,
              "#bd3786"
             ],
             [
              0.5555555555555556,
              "#d8576b"
             ],
             [
              0.6666666666666666,
              "#ed7953"
             ],
             [
              0.7777777777777778,
              "#fb9f3a"
             ],
             [
              0.8888888888888888,
              "#fdca26"
             ],
             [
              1,
              "#f0f921"
             ]
            ],
            "type": "surface"
           }
          ],
          "table": [
           {
            "cells": {
             "fill": {
              "color": "#EBF0F8"
             },
             "line": {
              "color": "white"
             }
            },
            "header": {
             "fill": {
              "color": "#C8D4E3"
             },
             "line": {
              "color": "white"
             }
            },
            "type": "table"
           }
          ]
         },
         "layout": {
          "annotationdefaults": {
           "arrowcolor": "#2a3f5f",
           "arrowhead": 0,
           "arrowwidth": 1
          },
          "autotypenumbers": "strict",
          "coloraxis": {
           "colorbar": {
            "outlinewidth": 0,
            "ticks": ""
           }
          },
          "colorscale": {
           "diverging": [
            [
             0,
             "#8e0152"
            ],
            [
             0.1,
             "#c51b7d"
            ],
            [
             0.2,
             "#de77ae"
            ],
            [
             0.3,
             "#f1b6da"
            ],
            [
             0.4,
             "#fde0ef"
            ],
            [
             0.5,
             "#f7f7f7"
            ],
            [
             0.6,
             "#e6f5d0"
            ],
            [
             0.7,
             "#b8e186"
            ],
            [
             0.8,
             "#7fbc41"
            ],
            [
             0.9,
             "#4d9221"
            ],
            [
             1,
             "#276419"
            ]
           ],
           "sequential": [
            [
             0,
             "#0d0887"
            ],
            [
             0.1111111111111111,
             "#46039f"
            ],
            [
             0.2222222222222222,
             "#7201a8"
            ],
            [
             0.3333333333333333,
             "#9c179e"
            ],
            [
             0.4444444444444444,
             "#bd3786"
            ],
            [
             0.5555555555555556,
             "#d8576b"
            ],
            [
             0.6666666666666666,
             "#ed7953"
            ],
            [
             0.7777777777777778,
             "#fb9f3a"
            ],
            [
             0.8888888888888888,
             "#fdca26"
            ],
            [
             1,
             "#f0f921"
            ]
           ],
           "sequentialminus": [
            [
             0,
             "#0d0887"
            ],
            [
             0.1111111111111111,
             "#46039f"
            ],
            [
             0.2222222222222222,
             "#7201a8"
            ],
            [
             0.3333333333333333,
             "#9c179e"
            ],
            [
             0.4444444444444444,
             "#bd3786"
            ],
            [
             0.5555555555555556,
             "#d8576b"
            ],
            [
             0.6666666666666666,
             "#ed7953"
            ],
            [
             0.7777777777777778,
             "#fb9f3a"
            ],
            [
             0.8888888888888888,
             "#fdca26"
            ],
            [
             1,
             "#f0f921"
            ]
           ]
          },
          "colorway": [
           "#636efa",
           "#EF553B",
           "#00cc96",
           "#ab63fa",
           "#FFA15A",
           "#19d3f3",
           "#FF6692",
           "#B6E880",
           "#FF97FF",
           "#FECB52"
          ],
          "font": {
           "color": "#2a3f5f"
          },
          "geo": {
           "bgcolor": "white",
           "lakecolor": "white",
           "landcolor": "#E5ECF6",
           "showlakes": true,
           "showland": true,
           "subunitcolor": "white"
          },
          "hoverlabel": {
           "align": "left"
          },
          "hovermode": "closest",
          "mapbox": {
           "style": "light"
          },
          "paper_bgcolor": "white",
          "plot_bgcolor": "#E5ECF6",
          "polar": {
           "angularaxis": {
            "gridcolor": "white",
            "linecolor": "white",
            "ticks": ""
           },
           "bgcolor": "#E5ECF6",
           "radialaxis": {
            "gridcolor": "white",
            "linecolor": "white",
            "ticks": ""
           }
          },
          "scene": {
           "xaxis": {
            "backgroundcolor": "#E5ECF6",
            "gridcolor": "white",
            "gridwidth": 2,
            "linecolor": "white",
            "showbackground": true,
            "ticks": "",
            "zerolinecolor": "white"
           },
           "yaxis": {
            "backgroundcolor": "#E5ECF6",
            "gridcolor": "white",
            "gridwidth": 2,
            "linecolor": "white",
            "showbackground": true,
            "ticks": "",
            "zerolinecolor": "white"
           },
           "zaxis": {
            "backgroundcolor": "#E5ECF6",
            "gridcolor": "white",
            "gridwidth": 2,
            "linecolor": "white",
            "showbackground": true,
            "ticks": "",
            "zerolinecolor": "white"
           }
          },
          "shapedefaults": {
           "line": {
            "color": "#2a3f5f"
           }
          },
          "ternary": {
           "aaxis": {
            "gridcolor": "white",
            "linecolor": "white",
            "ticks": ""
           },
           "baxis": {
            "gridcolor": "white",
            "linecolor": "white",
            "ticks": ""
           },
           "bgcolor": "#E5ECF6",
           "caxis": {
            "gridcolor": "white",
            "linecolor": "white",
            "ticks": ""
           }
          },
          "title": {
           "x": 0.05
          },
          "xaxis": {
           "automargin": true,
           "gridcolor": "white",
           "linecolor": "white",
           "ticks": "",
           "title": {
            "standoff": 15
           },
           "zerolinecolor": "white",
           "zerolinewidth": 2
          },
          "yaxis": {
           "automargin": true,
           "gridcolor": "white",
           "linecolor": "white",
           "ticks": "",
           "title": {
            "standoff": 15
           },
           "zerolinecolor": "white",
           "zerolinewidth": 2
          }
         }
        },
        "title": {
         "text": "Percentage of Vaccinated Population by Country"
        }
       }
      },
      "text/html": "<div>                            <div id=\"c41dc0a8-63d8-427d-bd80-cfb4eb69e855\" class=\"plotly-graph-div\" style=\"height:525px; width:100%;\"></div>            <script type=\"text/javascript\">                require([\"plotly\"], function(Plotly) {                    window.PLOTLYENV=window.PLOTLYENV || {};                                    if (document.getElementById(\"c41dc0a8-63d8-427d-bd80-cfb4eb69e855\")) {                    Plotly.newPlot(                        \"c41dc0a8-63d8-427d-bd80-cfb4eb69e855\",                        [{\"coloraxis\": \"coloraxis\", \"geo\": \"geo\", \"hovertemplate\": \"<b>%{hovertext}</b><br><br>iso_code=%{location}<br>% vaccinated population=%{z}<extra></extra>\", \"hovertext\": [\"Ukraine\", \"Guatemala\", \"Kyrgyzstan\", \"Suriname\", \"Trinidad and Tobago\", \"Honduras\", \"Namibia\", \"Myanmar\", \"Sierra Leone\", \"Gabon\", \"Paraguay\", \"Iran\", \"Philippines\", \"Guyana\", \"Guinea\", \"Moldova\", \"South Africa\", \"Thailand\", \"South Korea\", \"Sri Lanka\", \"Bosnia and Herzegovina\", \"Zimbabwe\", \"Equatorial Guinea\", \"Laos\", \"Japan\", \"Tunisia\", \"Belarus\", \"Ecuador\", \"Oman\", \"El Salvador\", \"Malaysia\", \"New Zealand\", \"Bangladesh\", \"Peru\", \"Bolivia\", \"India\", \"Grenada\", \"Kazakhstan\", \"Argentina\", \"Lebanon\", \"Jordan\", \"Indonesia\", \"Canada\", \"Latvia\", \"Finland\", \"Colombia\", \"Bulgaria\", \"Montenegro\", \"Panama\", \"Anguilla\", \"Croatia\", \"Russia\", \"Azerbaijan\", \"Cyprus\", \"Macao\", \"Andorra\", \"Cambodia\", \"Mexico\", \"Costa Rica\", \"Brazil\", \"Dominican Republic\", \"Sweden\", \"Norway\", \"Hong Kong\", \"Belgium\", \"Germany\", \"Poland\", \"Luxembourg\", \"Ireland\", \"Portugal\", \"Greenland\", \"Greece\", \"Austria\", \"Slovakia\", \"Estonia\", \"France\", \"Switzerland\", \"Liechtenstein\", \"Slovenia\", \"Italy\", \"Romania\", \"Spain\", \"Turkey\", \"Morocco\", \"Faeroe Islands\", \"Montserrat\", \"Iceland\", \"Denmark\", \"Lithuania\", \"Dominica\", \"Singapore\", \"Saint Helena\", \"Mongolia\", \"Serbia\", \"Isle of Man\", \"Maldives\", \"Uruguay\", \"Qatar\", \"Aruba\", \"United Kingdom\", \"Hungary\", \"Malta\", \"San Marino\", \"Monaco\", \"United States\", \"Bahrain\", \"Chile\", \"Bermuda\", \"Cayman Islands\", \"Falkland Islands\", \"Israel\", \"Seychelles\", \"Gibraltar\"], \"locations\": [\"UKR\", \"GTM\", \"KGZ\", \"SUR\", \"TTO\", \"HND\", \"NAM\", \"MMR\", \"SLE\", \"GAB\", \"PRY\", \"IRN\", \"PHL\", \"GUY\", \"GIN\", \"MDA\", \"ZAF\", \"THA\", \"KOR\", \"LKA\", \"BIH\", \"ZWE\", \"GNQ\", \"LAO\", \"JPN\", \"TUN\", \"BLR\", \"ECU\", \"OMN\", \"SLV\", \"MYS\", \"NZL\", \"BGD\", \"PER\", \"BOL\", \"IND\", \"GRD\", \"KAZ\", \"ARG\", \"LBN\", \"JOR\", \"IDN\", \"CAN\", \"LVA\", \"FIN\", \"COL\", \"BGR\", \"MNE\", \"PAN\", \"AIA\", \"HRV\", \"RUS\", \"AZE\", \"CYP\", \"MAC\", \"AND\", \"KHM\", \"MEX\", \"CRI\", \"BRA\", \"DOM\", \"SWE\", \"NOR\", \"HKG\", \"BEL\", \"DEU\", \"POL\", \"LUX\", \"IRL\", \"PRT\", \"GRL\", \"GRC\", \"AUT\", \"SVK\", \"EST\", \"FRA\", \"CHE\", \"LIE\", \"SVN\", \"ITA\", \"ROU\", \"ESP\", \"TUR\", \"MAR\", \"FRO\", \"MSR\", \"ISL\", \"DNK\", \"LTU\", \"DMA\", \"SGP\", \"SHN\", \"MNG\", \"SRB\", \"IMN\", \"MDV\", \"URY\", \"QAT\", \"ABW\", \"GBR\", \"HUN\", \"MLT\", \"SMR\", \"MCO\", \"USA\", \"BHR\", \"CHL\", \"BMU\", \"CYM\", \"FLK\", \"ISR\", \"SYC\", \"GIB\"], \"name\": \"\", \"type\": \"choropleth\", \"z\": [0.0009591046696105304, 0.01085058455715871, 0.013114401293954261, 0.0139564728248752, 0.020567271044496006, 0.026572465146420927, 0.045827949791714326, 0.07343053296266334, 0.07526088315597967, 0.08959707274458838, 0.173877689329481, 0.27501953652882727, 0.31203131113407256, 0.35568427939000147, 0.37791634912732874, 0.5034851129406734, 0.5942134261266919, 0.621665698445094, 0.630897176329252, 0.6613523655126682, 0.7080538223433029, 0.7220647887809819, 0.7708347661226912, 0.7995429381225199, 0.8251081965740904, 0.8769739790427603, 0.8942961053563363, 1.4248952107512867, 1.4287864918844522, 1.5561490794022048, 1.8051597493883753, 1.8077577214926173, 1.9460891712591737, 1.950120681529083, 2.0586729790336187, 2.1847364545734975, 2.4250981227911272, 2.4460502238851065, 2.4970194366375713, 2.688748464803982, 2.798543021527886, 2.9202938320147926, 3.1053159114374465, 3.221724514557949, 3.3528158395247263, 3.4645154739517117, 3.6201376044852456, 4.417430900522226, 4.944714832272226, 5.210967656062825, 5.325310024900511, 5.492419212527546, 5.693207804093716, 5.746033951919371, 5.871281378390587, 6.079935823618461, 6.227849977515818, 6.5174188061275675, 6.764843425076213, 6.9309436854893365, 7.4011470122347545, 7.669833128474883, 7.687883824061995, 7.834075233602348, 8.002249610745436, 8.52368263128334, 8.744593412317446, 9.134719549341728, 9.186748966651688, 9.229204715461817, 9.292619789740609, 9.959173937692723, 10.035615878277087, 10.068809981632235, 10.42305944178495, 10.732171262224359, 10.962799524326893, 10.965475659947048, 10.984618004231864, 11.065844103753042, 11.130609586206495, 11.536672456765668, 11.645470976395677, 11.698796808186879, 11.821007853403142, 12.337272181053475, 12.382181788378002, 12.771085168864243, 12.805725986432638, 12.945554521849008, 14.505245700048581, 16.595394736842106, 16.655938321547364, 17.16151757153553, 18.562599868408686, 21.071620268154074, 21.101851004734968, 22.068443254453353, 22.297720997706957, 23.381743485434995, 23.979205431492577, 25.19932088285229, 28.847513551732266, 29.605497582081956, 32.39759546847576, 32.64245434254966, 36.04303666751024, 38.200748750743124, 45.43383849120782, 50.75779239348012, 58.40731774795164, 60.613693843763016, 99.76847042061208]}],                        {\"coloraxis\": {\"colorbar\": {\"title\": {\"text\": \"% vaccinated population\"}}, \"colorscale\": [[0.0, \"#fde725\"], [0.1111111111111111, \"#b5de2b\"], [0.2222222222222222, \"#6ece58\"], [0.3333333333333333, \"#35b779\"], [0.4444444444444444, \"#1f9e89\"], [0.5555555555555556, \"#26828e\"], [0.6666666666666666, \"#31688e\"], [0.7777777777777778, \"#3e4989\"], [0.8888888888888888, \"#482878\"], [1.0, \"#440154\"]]}, \"geo\": {\"center\": {}, \"domain\": {\"x\": [0.0, 1.0], \"y\": [0.0, 1.0]}}, \"legend\": {\"tracegroupgap\": 0}, \"margin\": {\"t\": 60}, \"template\": {\"data\": {\"bar\": [{\"error_x\": {\"color\": \"#2a3f5f\"}, \"error_y\": {\"color\": \"#2a3f5f\"}, \"marker\": {\"line\": {\"color\": \"#E5ECF6\", \"width\": 0.5}}, \"type\": \"bar\"}], \"barpolar\": [{\"marker\": {\"line\": {\"color\": \"#E5ECF6\", \"width\": 0.5}}, \"type\": \"barpolar\"}], \"carpet\": [{\"aaxis\": {\"endlinecolor\": \"#2a3f5f\", \"gridcolor\": \"white\", \"linecolor\": \"white\", \"minorgridcolor\": \"white\", \"startlinecolor\": \"#2a3f5f\"}, \"baxis\": {\"endlinecolor\": \"#2a3f5f\", \"gridcolor\": \"white\", \"linecolor\": \"white\", \"minorgridcolor\": \"white\", \"startlinecolor\": \"#2a3f5f\"}, \"type\": \"carpet\"}], \"choropleth\": [{\"colorbar\": {\"outlinewidth\": 0, \"ticks\": \"\"}, \"type\": \"choropleth\"}], \"contour\": [{\"colorbar\": {\"outlinewidth\": 0, \"ticks\": \"\"}, \"colorscale\": [[0.0, \"#0d0887\"], [0.1111111111111111, \"#46039f\"], [0.2222222222222222, \"#7201a8\"], [0.3333333333333333, \"#9c179e\"], [0.4444444444444444, \"#bd3786\"], [0.5555555555555556, \"#d8576b\"], [0.6666666666666666, \"#ed7953\"], [0.7777777777777778, \"#fb9f3a\"], [0.8888888888888888, \"#fdca26\"], [1.0, \"#f0f921\"]], \"type\": \"contour\"}], \"contourcarpet\": [{\"colorbar\": {\"outlinewidth\": 0, \"ticks\": \"\"}, \"type\": \"contourcarpet\"}], \"heatmap\": [{\"colorbar\": {\"outlinewidth\": 0, \"ticks\": \"\"}, \"colorscale\": [[0.0, \"#0d0887\"], [0.1111111111111111, \"#46039f\"], [0.2222222222222222, \"#7201a8\"], [0.3333333333333333, \"#9c179e\"], [0.4444444444444444, \"#bd3786\"], [0.5555555555555556, \"#d8576b\"], [0.6666666666666666, \"#ed7953\"], [0.7777777777777778, \"#fb9f3a\"], [0.8888888888888888, \"#fdca26\"], [1.0, \"#f0f921\"]], \"type\": \"heatmap\"}], \"heatmapgl\": [{\"colorbar\": {\"outlinewidth\": 0, \"ticks\": \"\"}, \"colorscale\": [[0.0, \"#0d0887\"], [0.1111111111111111, \"#46039f\"], [0.2222222222222222, \"#7201a8\"], [0.3333333333333333, \"#9c179e\"], [0.4444444444444444, \"#bd3786\"], [0.5555555555555556, \"#d8576b\"], [0.6666666666666666, \"#ed7953\"], [0.7777777777777778, \"#fb9f3a\"], [0.8888888888888888, \"#fdca26\"], [1.0, \"#f0f921\"]], \"type\": \"heatmapgl\"}], \"histogram\": [{\"marker\": {\"colorbar\": {\"outlinewidth\": 0, \"ticks\": \"\"}}, \"type\": \"histogram\"}], \"histogram2d\": [{\"colorbar\": {\"outlinewidth\": 0, \"ticks\": \"\"}, \"colorscale\": [[0.0, \"#0d0887\"], [0.1111111111111111, \"#46039f\"], [0.2222222222222222, \"#7201a8\"], [0.3333333333333333, \"#9c179e\"], [0.4444444444444444, \"#bd3786\"], [0.5555555555555556, \"#d8576b\"], [0.6666666666666666, \"#ed7953\"], [0.7777777777777778, \"#fb9f3a\"], [0.8888888888888888, \"#fdca26\"], [1.0, \"#f0f921\"]], \"type\": \"histogram2d\"}], \"histogram2dcontour\": [{\"colorbar\": {\"outlinewidth\": 0, \"ticks\": \"\"}, \"colorscale\": [[0.0, \"#0d0887\"], [0.1111111111111111, \"#46039f\"], [0.2222222222222222, \"#7201a8\"], [0.3333333333333333, \"#9c179e\"], [0.4444444444444444, \"#bd3786\"], [0.5555555555555556, \"#d8576b\"], [0.6666666666666666, \"#ed7953\"], [0.7777777777777778, \"#fb9f3a\"], [0.8888888888888888, \"#fdca26\"], [1.0, \"#f0f921\"]], \"type\": \"histogram2dcontour\"}], \"mesh3d\": [{\"colorbar\": {\"outlinewidth\": 0, \"ticks\": \"\"}, \"type\": \"mesh3d\"}], \"parcoords\": [{\"line\": {\"colorbar\": {\"outlinewidth\": 0, \"ticks\": \"\"}}, \"type\": \"parcoords\"}], \"pie\": [{\"automargin\": true, \"type\": \"pie\"}], \"scatter\": [{\"marker\": {\"colorbar\": {\"outlinewidth\": 0, \"ticks\": \"\"}}, \"type\": \"scatter\"}], \"scatter3d\": [{\"line\": {\"colorbar\": {\"outlinewidth\": 0, \"ticks\": \"\"}}, \"marker\": {\"colorbar\": {\"outlinewidth\": 0, \"ticks\": \"\"}}, \"type\": \"scatter3d\"}], \"scattercarpet\": [{\"marker\": {\"colorbar\": {\"outlinewidth\": 0, \"ticks\": \"\"}}, \"type\": \"scattercarpet\"}], \"scattergeo\": [{\"marker\": {\"colorbar\": {\"outlinewidth\": 0, \"ticks\": \"\"}}, \"type\": \"scattergeo\"}], \"scattergl\": [{\"marker\": {\"colorbar\": {\"outlinewidth\": 0, \"ticks\": \"\"}}, \"type\": \"scattergl\"}], \"scattermapbox\": [{\"marker\": {\"colorbar\": {\"outlinewidth\": 0, \"ticks\": \"\"}}, \"type\": \"scattermapbox\"}], \"scatterpolar\": [{\"marker\": {\"colorbar\": {\"outlinewidth\": 0, \"ticks\": \"\"}}, \"type\": \"scatterpolar\"}], \"scatterpolargl\": [{\"marker\": {\"colorbar\": {\"outlinewidth\": 0, \"ticks\": \"\"}}, \"type\": \"scatterpolargl\"}], \"scatterternary\": [{\"marker\": {\"colorbar\": {\"outlinewidth\": 0, \"ticks\": \"\"}}, \"type\": \"scatterternary\"}], \"surface\": [{\"colorbar\": {\"outlinewidth\": 0, \"ticks\": \"\"}, \"colorscale\": [[0.0, \"#0d0887\"], [0.1111111111111111, \"#46039f\"], [0.2222222222222222, \"#7201a8\"], [0.3333333333333333, \"#9c179e\"], [0.4444444444444444, \"#bd3786\"], [0.5555555555555556, \"#d8576b\"], [0.6666666666666666, \"#ed7953\"], [0.7777777777777778, \"#fb9f3a\"], [0.8888888888888888, \"#fdca26\"], [1.0, \"#f0f921\"]], \"type\": \"surface\"}], \"table\": [{\"cells\": {\"fill\": {\"color\": \"#EBF0F8\"}, \"line\": {\"color\": \"white\"}}, \"header\": {\"fill\": {\"color\": \"#C8D4E3\"}, \"line\": {\"color\": \"white\"}}, \"type\": \"table\"}]}, \"layout\": {\"annotationdefaults\": {\"arrowcolor\": \"#2a3f5f\", \"arrowhead\": 0, \"arrowwidth\": 1}, \"autotypenumbers\": \"strict\", \"coloraxis\": {\"colorbar\": {\"outlinewidth\": 0, \"ticks\": \"\"}}, \"colorscale\": {\"diverging\": [[0, \"#8e0152\"], [0.1, \"#c51b7d\"], [0.2, \"#de77ae\"], [0.3, \"#f1b6da\"], [0.4, \"#fde0ef\"], [0.5, \"#f7f7f7\"], [0.6, \"#e6f5d0\"], [0.7, \"#b8e186\"], [0.8, \"#7fbc41\"], [0.9, \"#4d9221\"], [1, \"#276419\"]], \"sequential\": [[0.0, \"#0d0887\"], [0.1111111111111111, \"#46039f\"], [0.2222222222222222, \"#7201a8\"], [0.3333333333333333, \"#9c179e\"], [0.4444444444444444, \"#bd3786\"], [0.5555555555555556, \"#d8576b\"], [0.6666666666666666, \"#ed7953\"], [0.7777777777777778, \"#fb9f3a\"], [0.8888888888888888, \"#fdca26\"], [1.0, \"#f0f921\"]], \"sequentialminus\": [[0.0, \"#0d0887\"], [0.1111111111111111, \"#46039f\"], [0.2222222222222222, \"#7201a8\"], [0.3333333333333333, \"#9c179e\"], [0.4444444444444444, \"#bd3786\"], [0.5555555555555556, \"#d8576b\"], [0.6666666666666666, \"#ed7953\"], [0.7777777777777778, \"#fb9f3a\"], [0.8888888888888888, \"#fdca26\"], [1.0, \"#f0f921\"]]}, \"colorway\": [\"#636efa\", \"#EF553B\", \"#00cc96\", \"#ab63fa\", \"#FFA15A\", \"#19d3f3\", \"#FF6692\", \"#B6E880\", \"#FF97FF\", \"#FECB52\"], \"font\": {\"color\": \"#2a3f5f\"}, \"geo\": {\"bgcolor\": \"white\", \"lakecolor\": \"white\", \"landcolor\": \"#E5ECF6\", \"showlakes\": true, \"showland\": true, \"subunitcolor\": \"white\"}, \"hoverlabel\": {\"align\": \"left\"}, \"hovermode\": \"closest\", \"mapbox\": {\"style\": \"light\"}, \"paper_bgcolor\": \"white\", \"plot_bgcolor\": \"#E5ECF6\", \"polar\": {\"angularaxis\": {\"gridcolor\": \"white\", \"linecolor\": \"white\", \"ticks\": \"\"}, \"bgcolor\": \"#E5ECF6\", \"radialaxis\": {\"gridcolor\": \"white\", \"linecolor\": \"white\", \"ticks\": \"\"}}, \"scene\": {\"xaxis\": {\"backgroundcolor\": \"#E5ECF6\", \"gridcolor\": \"white\", \"gridwidth\": 2, \"linecolor\": \"white\", \"showbackground\": true, \"ticks\": \"\", \"zerolinecolor\": \"white\"}, \"yaxis\": {\"backgroundcolor\": \"#E5ECF6\", \"gridcolor\": \"white\", \"gridwidth\": 2, \"linecolor\": \"white\", \"showbackground\": true, \"ticks\": \"\", \"zerolinecolor\": \"white\"}, \"zaxis\": {\"backgroundcolor\": \"#E5ECF6\", \"gridcolor\": \"white\", \"gridwidth\": 2, \"linecolor\": \"white\", \"showbackground\": true, \"ticks\": \"\", \"zerolinecolor\": \"white\"}}, \"shapedefaults\": {\"line\": {\"color\": \"#2a3f5f\"}}, \"ternary\": {\"aaxis\": {\"gridcolor\": \"white\", \"linecolor\": \"white\", \"ticks\": \"\"}, \"baxis\": {\"gridcolor\": \"white\", \"linecolor\": \"white\", \"ticks\": \"\"}, \"bgcolor\": \"#E5ECF6\", \"caxis\": {\"gridcolor\": \"white\", \"linecolor\": \"white\", \"ticks\": \"\"}}, \"title\": {\"x\": 0.05}, \"xaxis\": {\"automargin\": true, \"gridcolor\": \"white\", \"linecolor\": \"white\", \"ticks\": \"\", \"title\": {\"standoff\": 15}, \"zerolinecolor\": \"white\", \"zerolinewidth\": 2}, \"yaxis\": {\"automargin\": true, \"gridcolor\": \"white\", \"linecolor\": \"white\", \"ticks\": \"\", \"title\": {\"standoff\": 15}, \"zerolinecolor\": \"white\", \"zerolinewidth\": 2}}}, \"title\": {\"text\": \"Percentage of Vaccinated Population by Country\"}},                        {\"responsive\": true}                    ).then(function(){\n                            \nvar gd = document.getElementById('c41dc0a8-63d8-427d-bd80-cfb4eb69e855');\nvar x = new MutationObserver(function (mutations, observer) {{\n        var display = window.getComputedStyle(gd).display;\n        if (!display || display === 'none') {{\n            console.log([gd, 'removed!']);\n            Plotly.purge(gd);\n            observer.disconnect();\n        }}\n}});\n\n// Listen for the removal of the full notebook cells\nvar notebookContainer = gd.closest('#notebook-container');\nif (notebookContainer) {{\n    x.observe(notebookContainer, {childList: true});\n}}\n\n// Listen for the clearing of the current output cell\nvar outputEl = gd.closest('.output');\nif (outputEl) {{\n    x.observe(outputEl, {childList: true});\n}}\n\n                        })                };                });            </script>        </div>"
     },
     "metadata": {}
    }
   ],
   "source": [
    "fig = px.choropleth(df, locations=\"iso_code\",\n",
    "                    color=\"% vaccinated population\",\n",
    "                    hover_name=\"country\",\n",
    "                    color_continuous_scale='Viridis_r')\n",
    "fig.update_layout(title_text=\"Percentage of Vaccinated Population by Country\")\n",
    "fig.show()"
   ]
  },
  {
   "cell_type": "code",
   "execution_count": null,
   "metadata": {},
   "outputs": [],
   "source": []
  }
 ]
}